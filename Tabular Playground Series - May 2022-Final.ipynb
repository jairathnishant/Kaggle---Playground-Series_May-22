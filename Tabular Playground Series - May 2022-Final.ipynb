{
 "cells": [
  {
   "cell_type": "code",
   "execution_count": 1,
   "id": "13dbba2e",
   "metadata": {},
   "outputs": [],
   "source": [
    "# Loading the libs\n",
    "\n",
    "import pandas as pd\n",
    "import numpy as np\n",
    "from matplotlib import pyplot as plt\n",
    "import seaborn as sns\n",
    "import zipfile"
   ]
  },
  {
   "cell_type": "code",
   "execution_count": 4,
   "id": "9f7e6a3b",
   "metadata": {},
   "outputs": [],
   "source": [
    "#Reading the zipped file\n",
    "\n",
    "zf = zipfile.ZipFile(r'C:\\Users\\nishantjairath\\Downloads\\train.csv.zip')"
   ]
  },
  {
   "cell_type": "code",
   "execution_count": 5,
   "id": "a5fa39e1",
   "metadata": {},
   "outputs": [
    {
     "data": {
      "text/plain": [
       "['train_data.csv']"
      ]
     },
     "execution_count": 5,
     "metadata": {},
     "output_type": "execute_result"
    }
   ],
   "source": [
    "#reading zipped file contents\n",
    "\n",
    "zf.namelist()"
   ]
  },
  {
   "cell_type": "code",
   "execution_count": 7,
   "id": "eaac20bc",
   "metadata": {},
   "outputs": [
    {
     "ename": "KeyboardInterrupt",
     "evalue": "",
     "output_type": "error",
     "traceback": [
      "\u001b[1;31m---------------------------------------------------------------------------\u001b[0m",
      "\u001b[1;31mKeyboardInterrupt\u001b[0m                         Traceback (most recent call last)",
      "\u001b[1;32m<ipython-input-7-d8b80b326ae1>\u001b[0m in \u001b[0;36m<module>\u001b[1;34m\u001b[0m\n\u001b[0;32m      1\u001b[0m \u001b[1;31m# Reading the dataset into a df\u001b[0m\u001b[1;33m\u001b[0m\u001b[1;33m\u001b[0m\u001b[1;33m\u001b[0m\u001b[0m\n\u001b[0;32m      2\u001b[0m \u001b[1;33m\u001b[0m\u001b[0m\n\u001b[1;32m----> 3\u001b[1;33m \u001b[0mdf_train\u001b[0m \u001b[1;33m=\u001b[0m \u001b[0mpd\u001b[0m\u001b[1;33m.\u001b[0m\u001b[0mread_csv\u001b[0m\u001b[1;33m(\u001b[0m\u001b[0mzf\u001b[0m\u001b[1;33m.\u001b[0m\u001b[0mopen\u001b[0m\u001b[1;33m(\u001b[0m\u001b[1;34m'train_data.csv'\u001b[0m\u001b[1;33m)\u001b[0m\u001b[1;33m)\u001b[0m\u001b[1;33m\u001b[0m\u001b[1;33m\u001b[0m\u001b[0m\n\u001b[0m",
      "\u001b[1;32m~\\Anaconda3\\lib\\site-packages\\pandas\\io\\parsers.py\u001b[0m in \u001b[0;36mread_csv\u001b[1;34m(filepath_or_buffer, sep, delimiter, header, names, index_col, usecols, squeeze, prefix, mangle_dupe_cols, dtype, engine, converters, true_values, false_values, skipinitialspace, skiprows, skipfooter, nrows, na_values, keep_default_na, na_filter, verbose, skip_blank_lines, parse_dates, infer_datetime_format, keep_date_col, date_parser, dayfirst, cache_dates, iterator, chunksize, compression, thousands, decimal, lineterminator, quotechar, quoting, doublequote, escapechar, comment, encoding, dialect, error_bad_lines, warn_bad_lines, delim_whitespace, low_memory, memory_map, float_precision, storage_options)\u001b[0m\n\u001b[0;32m    608\u001b[0m     \u001b[0mkwds\u001b[0m\u001b[1;33m.\u001b[0m\u001b[0mupdate\u001b[0m\u001b[1;33m(\u001b[0m\u001b[0mkwds_defaults\u001b[0m\u001b[1;33m)\u001b[0m\u001b[1;33m\u001b[0m\u001b[1;33m\u001b[0m\u001b[0m\n\u001b[0;32m    609\u001b[0m \u001b[1;33m\u001b[0m\u001b[0m\n\u001b[1;32m--> 610\u001b[1;33m     \u001b[1;32mreturn\u001b[0m \u001b[0m_read\u001b[0m\u001b[1;33m(\u001b[0m\u001b[0mfilepath_or_buffer\u001b[0m\u001b[1;33m,\u001b[0m \u001b[0mkwds\u001b[0m\u001b[1;33m)\u001b[0m\u001b[1;33m\u001b[0m\u001b[1;33m\u001b[0m\u001b[0m\n\u001b[0m\u001b[0;32m    611\u001b[0m \u001b[1;33m\u001b[0m\u001b[0m\n\u001b[0;32m    612\u001b[0m \u001b[1;33m\u001b[0m\u001b[0m\n",
      "\u001b[1;32m~\\Anaconda3\\lib\\site-packages\\pandas\\io\\parsers.py\u001b[0m in \u001b[0;36m_read\u001b[1;34m(filepath_or_buffer, kwds)\u001b[0m\n\u001b[0;32m    466\u001b[0m \u001b[1;33m\u001b[0m\u001b[0m\n\u001b[0;32m    467\u001b[0m     \u001b[1;32mwith\u001b[0m \u001b[0mparser\u001b[0m\u001b[1;33m:\u001b[0m\u001b[1;33m\u001b[0m\u001b[1;33m\u001b[0m\u001b[0m\n\u001b[1;32m--> 468\u001b[1;33m         \u001b[1;32mreturn\u001b[0m \u001b[0mparser\u001b[0m\u001b[1;33m.\u001b[0m\u001b[0mread\u001b[0m\u001b[1;33m(\u001b[0m\u001b[0mnrows\u001b[0m\u001b[1;33m)\u001b[0m\u001b[1;33m\u001b[0m\u001b[1;33m\u001b[0m\u001b[0m\n\u001b[0m\u001b[0;32m    469\u001b[0m \u001b[1;33m\u001b[0m\u001b[0m\n\u001b[0;32m    470\u001b[0m \u001b[1;33m\u001b[0m\u001b[0m\n",
      "\u001b[1;32m~\\Anaconda3\\lib\\site-packages\\pandas\\io\\parsers.py\u001b[0m in \u001b[0;36mread\u001b[1;34m(self, nrows)\u001b[0m\n\u001b[0;32m   1055\u001b[0m     \u001b[1;32mdef\u001b[0m \u001b[0mread\u001b[0m\u001b[1;33m(\u001b[0m\u001b[0mself\u001b[0m\u001b[1;33m,\u001b[0m \u001b[0mnrows\u001b[0m\u001b[1;33m=\u001b[0m\u001b[1;32mNone\u001b[0m\u001b[1;33m)\u001b[0m\u001b[1;33m:\u001b[0m\u001b[1;33m\u001b[0m\u001b[1;33m\u001b[0m\u001b[0m\n\u001b[0;32m   1056\u001b[0m         \u001b[0mnrows\u001b[0m \u001b[1;33m=\u001b[0m \u001b[0mvalidate_integer\u001b[0m\u001b[1;33m(\u001b[0m\u001b[1;34m\"nrows\"\u001b[0m\u001b[1;33m,\u001b[0m \u001b[0mnrows\u001b[0m\u001b[1;33m)\u001b[0m\u001b[1;33m\u001b[0m\u001b[1;33m\u001b[0m\u001b[0m\n\u001b[1;32m-> 1057\u001b[1;33m         \u001b[0mindex\u001b[0m\u001b[1;33m,\u001b[0m \u001b[0mcolumns\u001b[0m\u001b[1;33m,\u001b[0m \u001b[0mcol_dict\u001b[0m \u001b[1;33m=\u001b[0m \u001b[0mself\u001b[0m\u001b[1;33m.\u001b[0m\u001b[0m_engine\u001b[0m\u001b[1;33m.\u001b[0m\u001b[0mread\u001b[0m\u001b[1;33m(\u001b[0m\u001b[0mnrows\u001b[0m\u001b[1;33m)\u001b[0m\u001b[1;33m\u001b[0m\u001b[1;33m\u001b[0m\u001b[0m\n\u001b[0m\u001b[0;32m   1058\u001b[0m \u001b[1;33m\u001b[0m\u001b[0m\n\u001b[0;32m   1059\u001b[0m         \u001b[1;32mif\u001b[0m \u001b[0mindex\u001b[0m \u001b[1;32mis\u001b[0m \u001b[1;32mNone\u001b[0m\u001b[1;33m:\u001b[0m\u001b[1;33m\u001b[0m\u001b[1;33m\u001b[0m\u001b[0m\n",
      "\u001b[1;32m~\\Anaconda3\\lib\\site-packages\\pandas\\io\\parsers.py\u001b[0m in \u001b[0;36mread\u001b[1;34m(self, nrows)\u001b[0m\n\u001b[0;32m   2059\u001b[0m     \u001b[1;32mdef\u001b[0m \u001b[0mread\u001b[0m\u001b[1;33m(\u001b[0m\u001b[0mself\u001b[0m\u001b[1;33m,\u001b[0m \u001b[0mnrows\u001b[0m\u001b[1;33m=\u001b[0m\u001b[1;32mNone\u001b[0m\u001b[1;33m)\u001b[0m\u001b[1;33m:\u001b[0m\u001b[1;33m\u001b[0m\u001b[1;33m\u001b[0m\u001b[0m\n\u001b[0;32m   2060\u001b[0m         \u001b[1;32mtry\u001b[0m\u001b[1;33m:\u001b[0m\u001b[1;33m\u001b[0m\u001b[1;33m\u001b[0m\u001b[0m\n\u001b[1;32m-> 2061\u001b[1;33m             \u001b[0mdata\u001b[0m \u001b[1;33m=\u001b[0m \u001b[0mself\u001b[0m\u001b[1;33m.\u001b[0m\u001b[0m_reader\u001b[0m\u001b[1;33m.\u001b[0m\u001b[0mread\u001b[0m\u001b[1;33m(\u001b[0m\u001b[0mnrows\u001b[0m\u001b[1;33m)\u001b[0m\u001b[1;33m\u001b[0m\u001b[1;33m\u001b[0m\u001b[0m\n\u001b[0m\u001b[0;32m   2062\u001b[0m         \u001b[1;32mexcept\u001b[0m \u001b[0mStopIteration\u001b[0m\u001b[1;33m:\u001b[0m\u001b[1;33m\u001b[0m\u001b[1;33m\u001b[0m\u001b[0m\n\u001b[0;32m   2063\u001b[0m             \u001b[1;32mif\u001b[0m \u001b[0mself\u001b[0m\u001b[1;33m.\u001b[0m\u001b[0m_first_chunk\u001b[0m\u001b[1;33m:\u001b[0m\u001b[1;33m\u001b[0m\u001b[1;33m\u001b[0m\u001b[0m\n",
      "\u001b[1;32mpandas\\_libs\\parsers.pyx\u001b[0m in \u001b[0;36mpandas._libs.parsers.TextReader.read\u001b[1;34m()\u001b[0m\n",
      "\u001b[1;32mpandas\\_libs\\parsers.pyx\u001b[0m in \u001b[0;36mpandas._libs.parsers.TextReader._read_low_memory\u001b[1;34m()\u001b[0m\n",
      "\u001b[1;32mpandas\\_libs\\parsers.pyx\u001b[0m in \u001b[0;36mpandas._libs.parsers.TextReader._read_rows\u001b[1;34m()\u001b[0m\n",
      "\u001b[1;32mpandas\\_libs\\parsers.pyx\u001b[0m in \u001b[0;36mpandas._libs.parsers.TextReader._convert_column_data\u001b[1;34m()\u001b[0m\n",
      "\u001b[1;32m~\\Anaconda3\\lib\\site-packages\\pandas\\core\\dtypes\\common.py\u001b[0m in \u001b[0;36mis_extension_array_dtype\u001b[1;34m(arr_or_dtype)\u001b[0m\n\u001b[0;32m   1468\u001b[0m \u001b[1;33m\u001b[0m\u001b[0m\n\u001b[0;32m   1469\u001b[0m \u001b[1;33m\u001b[0m\u001b[0m\n\u001b[1;32m-> 1470\u001b[1;33m \u001b[1;32mdef\u001b[0m \u001b[0mis_extension_array_dtype\u001b[0m\u001b[1;33m(\u001b[0m\u001b[0marr_or_dtype\u001b[0m\u001b[1;33m)\u001b[0m \u001b[1;33m->\u001b[0m \u001b[0mbool\u001b[0m\u001b[1;33m:\u001b[0m\u001b[1;33m\u001b[0m\u001b[1;33m\u001b[0m\u001b[0m\n\u001b[0m\u001b[0;32m   1471\u001b[0m     \"\"\"\n\u001b[0;32m   1472\u001b[0m     \u001b[0mCheck\u001b[0m \u001b[1;32mif\u001b[0m \u001b[0man\u001b[0m \u001b[0mobject\u001b[0m \u001b[1;32mis\u001b[0m \u001b[0ma\u001b[0m \u001b[0mpandas\u001b[0m \u001b[0mextension\u001b[0m \u001b[0marray\u001b[0m \u001b[0mtype\u001b[0m\u001b[1;33m.\u001b[0m\u001b[1;33m\u001b[0m\u001b[1;33m\u001b[0m\u001b[0m\n",
      "\u001b[1;31mKeyboardInterrupt\u001b[0m: "
     ]
    }
   ],
   "source": [
    "# Reading the dataset into a df\n",
    "\n",
    "df_train = pd.read_csv(zf.open('train.csv'))"
   ]
  },
  {
   "cell_type": "code",
   "execution_count": null,
   "id": "26e2efe0",
   "metadata": {},
   "outputs": [],
   "source": [
    "df_train.head()"
   ]
  },
  {
   "cell_type": "code",
   "execution_count": 25,
   "id": "6f83e62c",
   "metadata": {},
   "outputs": [],
   "source": [
    "df_train.set_index('id', drop = True, inplace = True)"
   ]
  },
  {
   "cell_type": "code",
   "execution_count": 26,
   "id": "6f2b954c",
   "metadata": {
    "scrolled": true
   },
   "outputs": [
    {
     "name": "stdout",
     "output_type": "stream",
     "text": [
      "<class 'pandas.core.frame.DataFrame'>\n",
      "Int64Index: 900000 entries, 0 to 899999\n",
      "Data columns (total 32 columns):\n",
      " #   Column  Non-Null Count   Dtype  \n",
      "---  ------  --------------   -----  \n",
      " 0   f_00    900000 non-null  float64\n",
      " 1   f_01    900000 non-null  float64\n",
      " 2   f_02    900000 non-null  float64\n",
      " 3   f_03    900000 non-null  float64\n",
      " 4   f_04    900000 non-null  float64\n",
      " 5   f_05    900000 non-null  float64\n",
      " 6   f_06    900000 non-null  float64\n",
      " 7   f_07    900000 non-null  int64  \n",
      " 8   f_08    900000 non-null  int64  \n",
      " 9   f_09    900000 non-null  int64  \n",
      " 10  f_10    900000 non-null  int64  \n",
      " 11  f_11    900000 non-null  int64  \n",
      " 12  f_12    900000 non-null  int64  \n",
      " 13  f_13    900000 non-null  int64  \n",
      " 14  f_14    900000 non-null  int64  \n",
      " 15  f_15    900000 non-null  int64  \n",
      " 16  f_16    900000 non-null  int64  \n",
      " 17  f_17    900000 non-null  int64  \n",
      " 18  f_18    900000 non-null  int64  \n",
      " 19  f_19    900000 non-null  float64\n",
      " 20  f_20    900000 non-null  float64\n",
      " 21  f_21    900000 non-null  float64\n",
      " 22  f_22    900000 non-null  float64\n",
      " 23  f_23    900000 non-null  float64\n",
      " 24  f_24    900000 non-null  float64\n",
      " 25  f_25    900000 non-null  float64\n",
      " 26  f_26    900000 non-null  float64\n",
      " 27  f_27    900000 non-null  object \n",
      " 28  f_28    900000 non-null  float64\n",
      " 29  f_29    900000 non-null  int64  \n",
      " 30  f_30    900000 non-null  int64  \n",
      " 31  target  900000 non-null  int64  \n",
      "dtypes: float64(16), int64(15), object(1)\n",
      "memory usage: 226.6+ MB\n"
     ]
    }
   ],
   "source": [
    "# Checking col data type and Null count\n",
    "\n",
    "df_train.info()"
   ]
  },
  {
   "cell_type": "code",
   "execution_count": 27,
   "id": "58f13c0f",
   "metadata": {
    "scrolled": true
   },
   "outputs": [
    {
     "data": {
      "text/plain": [
       "BCBBBBCLBC    12\n",
       "BBBBBBCJBC    12\n",
       "ADBBBACQBC    10\n",
       "BBBBBABLCB    10\n",
       "BBBBBBDKBC    10\n",
       "              ..\n",
       "BBBBAAAFBD     1\n",
       "ABACEACIAA     1\n",
       "ADAECBFHBA     1\n",
       "ACBCGAFRCB     1\n",
       "BDBEBBCACD     1\n",
       "Name: f_27, Length: 741354, dtype: int64"
      ]
     },
     "execution_count": 27,
     "metadata": {},
     "output_type": "execute_result"
    }
   ],
   "source": [
    "# Checking value distribution of only categorical feature\n",
    "\n",
    "df_train['f_27'].value_counts()"
   ]
  },
  {
   "cell_type": "code",
   "execution_count": 28,
   "id": "58751537",
   "metadata": {},
   "outputs": [
    {
     "data": {
      "text/html": [
       "<div>\n",
       "<style scoped>\n",
       "    .dataframe tbody tr th:only-of-type {\n",
       "        vertical-align: middle;\n",
       "    }\n",
       "\n",
       "    .dataframe tbody tr th {\n",
       "        vertical-align: top;\n",
       "    }\n",
       "\n",
       "    .dataframe thead th {\n",
       "        text-align: right;\n",
       "    }\n",
       "</style>\n",
       "<table border=\"1\" class=\"dataframe\">\n",
       "  <thead>\n",
       "    <tr style=\"text-align: right;\">\n",
       "      <th></th>\n",
       "      <th>f_00</th>\n",
       "      <th>f_01</th>\n",
       "      <th>f_02</th>\n",
       "      <th>f_03</th>\n",
       "      <th>f_04</th>\n",
       "      <th>f_05</th>\n",
       "      <th>f_06</th>\n",
       "      <th>f_07</th>\n",
       "      <th>f_08</th>\n",
       "      <th>f_09</th>\n",
       "      <th>...</th>\n",
       "      <th>f_21</th>\n",
       "      <th>f_22</th>\n",
       "      <th>f_23</th>\n",
       "      <th>f_24</th>\n",
       "      <th>f_25</th>\n",
       "      <th>f_26</th>\n",
       "      <th>f_28</th>\n",
       "      <th>f_29</th>\n",
       "      <th>f_30</th>\n",
       "      <th>target</th>\n",
       "    </tr>\n",
       "  </thead>\n",
       "  <tbody>\n",
       "    <tr>\n",
       "      <th>count</th>\n",
       "      <td>900000.000000</td>\n",
       "      <td>900000.000000</td>\n",
       "      <td>900000.000000</td>\n",
       "      <td>900000.000000</td>\n",
       "      <td>900000.000000</td>\n",
       "      <td>900000.000000</td>\n",
       "      <td>900000.000000</td>\n",
       "      <td>900000.000000</td>\n",
       "      <td>900000.000000</td>\n",
       "      <td>900000.000000</td>\n",
       "      <td>...</td>\n",
       "      <td>900000.000000</td>\n",
       "      <td>900000.000000</td>\n",
       "      <td>900000.000000</td>\n",
       "      <td>900000.000000</td>\n",
       "      <td>900000.000000</td>\n",
       "      <td>900000.000000</td>\n",
       "      <td>900000.000000</td>\n",
       "      <td>900000.000000</td>\n",
       "      <td>900000.000000</td>\n",
       "      <td>900000.000000</td>\n",
       "    </tr>\n",
       "    <tr>\n",
       "      <th>mean</th>\n",
       "      <td>-0.000286</td>\n",
       "      <td>0.001165</td>\n",
       "      <td>0.001174</td>\n",
       "      <td>-0.001368</td>\n",
       "      <td>-0.000571</td>\n",
       "      <td>0.000284</td>\n",
       "      <td>-0.000709</td>\n",
       "      <td>2.031460</td>\n",
       "      <td>2.057998</td>\n",
       "      <td>2.362431</td>\n",
       "      <td>...</td>\n",
       "      <td>-0.156307</td>\n",
       "      <td>-0.009273</td>\n",
       "      <td>-0.369459</td>\n",
       "      <td>-0.342738</td>\n",
       "      <td>0.176549</td>\n",
       "      <td>0.357591</td>\n",
       "      <td>-0.380876</td>\n",
       "      <td>0.345661</td>\n",
       "      <td>1.002654</td>\n",
       "      <td>0.486488</td>\n",
       "    </tr>\n",
       "    <tr>\n",
       "      <th>std</th>\n",
       "      <td>0.998888</td>\n",
       "      <td>0.999193</td>\n",
       "      <td>1.000514</td>\n",
       "      <td>1.000175</td>\n",
       "      <td>1.000167</td>\n",
       "      <td>0.999875</td>\n",
       "      <td>0.999942</td>\n",
       "      <td>1.656172</td>\n",
       "      <td>1.590955</td>\n",
       "      <td>1.637706</td>\n",
       "      <td>...</td>\n",
       "      <td>2.484706</td>\n",
       "      <td>2.450797</td>\n",
       "      <td>2.453405</td>\n",
       "      <td>2.386941</td>\n",
       "      <td>2.416959</td>\n",
       "      <td>2.476020</td>\n",
       "      <td>238.773054</td>\n",
       "      <td>0.475584</td>\n",
       "      <td>0.818989</td>\n",
       "      <td>0.499818</td>\n",
       "    </tr>\n",
       "    <tr>\n",
       "      <th>min</th>\n",
       "      <td>-4.599856</td>\n",
       "      <td>-4.682199</td>\n",
       "      <td>-4.642676</td>\n",
       "      <td>-4.658816</td>\n",
       "      <td>-4.748501</td>\n",
       "      <td>-4.750214</td>\n",
       "      <td>-4.842919</td>\n",
       "      <td>0.000000</td>\n",
       "      <td>0.000000</td>\n",
       "      <td>0.000000</td>\n",
       "      <td>...</td>\n",
       "      <td>-13.310146</td>\n",
       "      <td>-11.853530</td>\n",
       "      <td>-12.301097</td>\n",
       "      <td>-11.416189</td>\n",
       "      <td>-11.918306</td>\n",
       "      <td>-14.300577</td>\n",
       "      <td>-1229.753052</td>\n",
       "      <td>0.000000</td>\n",
       "      <td>0.000000</td>\n",
       "      <td>0.000000</td>\n",
       "    </tr>\n",
       "    <tr>\n",
       "      <th>25%</th>\n",
       "      <td>-0.675490</td>\n",
       "      <td>-0.675162</td>\n",
       "      <td>-0.674369</td>\n",
       "      <td>-0.676114</td>\n",
       "      <td>-0.675909</td>\n",
       "      <td>-0.673437</td>\n",
       "      <td>-0.674876</td>\n",
       "      <td>1.000000</td>\n",
       "      <td>1.000000</td>\n",
       "      <td>1.000000</td>\n",
       "      <td>...</td>\n",
       "      <td>-1.820063</td>\n",
       "      <td>-1.645585</td>\n",
       "      <td>-2.019739</td>\n",
       "      <td>-1.955956</td>\n",
       "      <td>-1.440424</td>\n",
       "      <td>-1.261598</td>\n",
       "      <td>-159.427418</td>\n",
       "      <td>0.000000</td>\n",
       "      <td>0.000000</td>\n",
       "      <td>0.000000</td>\n",
       "    </tr>\n",
       "    <tr>\n",
       "      <th>50%</th>\n",
       "      <td>0.001144</td>\n",
       "      <td>0.002014</td>\n",
       "      <td>0.002218</td>\n",
       "      <td>-0.002227</td>\n",
       "      <td>-0.001662</td>\n",
       "      <td>-0.000438</td>\n",
       "      <td>-0.001492</td>\n",
       "      <td>2.000000</td>\n",
       "      <td>2.000000</td>\n",
       "      <td>2.000000</td>\n",
       "      <td>...</td>\n",
       "      <td>-0.152668</td>\n",
       "      <td>0.030850</td>\n",
       "      <td>-0.390966</td>\n",
       "      <td>-0.340746</td>\n",
       "      <td>0.160912</td>\n",
       "      <td>0.404212</td>\n",
       "      <td>-0.519808</td>\n",
       "      <td>0.000000</td>\n",
       "      <td>1.000000</td>\n",
       "      <td>0.000000</td>\n",
       "    </tr>\n",
       "    <tr>\n",
       "      <th>75%</th>\n",
       "      <td>0.674337</td>\n",
       "      <td>0.675021</td>\n",
       "      <td>0.677505</td>\n",
       "      <td>0.672544</td>\n",
       "      <td>0.673789</td>\n",
       "      <td>0.675028</td>\n",
       "      <td>0.674749</td>\n",
       "      <td>3.000000</td>\n",
       "      <td>3.000000</td>\n",
       "      <td>3.000000</td>\n",
       "      <td>...</td>\n",
       "      <td>1.507071</td>\n",
       "      <td>1.661676</td>\n",
       "      <td>1.255408</td>\n",
       "      <td>1.266673</td>\n",
       "      <td>1.795928</td>\n",
       "      <td>2.028219</td>\n",
       "      <td>158.987357</td>\n",
       "      <td>1.000000</td>\n",
       "      <td>2.000000</td>\n",
       "      <td>1.000000</td>\n",
       "    </tr>\n",
       "    <tr>\n",
       "      <th>max</th>\n",
       "      <td>4.749301</td>\n",
       "      <td>4.815699</td>\n",
       "      <td>4.961982</td>\n",
       "      <td>4.454920</td>\n",
       "      <td>4.948983</td>\n",
       "      <td>4.971881</td>\n",
       "      <td>4.822668</td>\n",
       "      <td>15.000000</td>\n",
       "      <td>16.000000</td>\n",
       "      <td>14.000000</td>\n",
       "      <td>...</td>\n",
       "      <td>14.455426</td>\n",
       "      <td>11.344080</td>\n",
       "      <td>12.247100</td>\n",
       "      <td>12.389844</td>\n",
       "      <td>12.529179</td>\n",
       "      <td>12.913041</td>\n",
       "      <td>1229.562577</td>\n",
       "      <td>1.000000</td>\n",
       "      <td>2.000000</td>\n",
       "      <td>1.000000</td>\n",
       "    </tr>\n",
       "  </tbody>\n",
       "</table>\n",
       "<p>8 rows × 31 columns</p>\n",
       "</div>"
      ],
      "text/plain": [
       "                f_00           f_01           f_02           f_03  \\\n",
       "count  900000.000000  900000.000000  900000.000000  900000.000000   \n",
       "mean       -0.000286       0.001165       0.001174      -0.001368   \n",
       "std         0.998888       0.999193       1.000514       1.000175   \n",
       "min        -4.599856      -4.682199      -4.642676      -4.658816   \n",
       "25%        -0.675490      -0.675162      -0.674369      -0.676114   \n",
       "50%         0.001144       0.002014       0.002218      -0.002227   \n",
       "75%         0.674337       0.675021       0.677505       0.672544   \n",
       "max         4.749301       4.815699       4.961982       4.454920   \n",
       "\n",
       "                f_04           f_05           f_06           f_07  \\\n",
       "count  900000.000000  900000.000000  900000.000000  900000.000000   \n",
       "mean       -0.000571       0.000284      -0.000709       2.031460   \n",
       "std         1.000167       0.999875       0.999942       1.656172   \n",
       "min        -4.748501      -4.750214      -4.842919       0.000000   \n",
       "25%        -0.675909      -0.673437      -0.674876       1.000000   \n",
       "50%        -0.001662      -0.000438      -0.001492       2.000000   \n",
       "75%         0.673789       0.675028       0.674749       3.000000   \n",
       "max         4.948983       4.971881       4.822668      15.000000   \n",
       "\n",
       "                f_08           f_09  ...           f_21           f_22  \\\n",
       "count  900000.000000  900000.000000  ...  900000.000000  900000.000000   \n",
       "mean        2.057998       2.362431  ...      -0.156307      -0.009273   \n",
       "std         1.590955       1.637706  ...       2.484706       2.450797   \n",
       "min         0.000000       0.000000  ...     -13.310146     -11.853530   \n",
       "25%         1.000000       1.000000  ...      -1.820063      -1.645585   \n",
       "50%         2.000000       2.000000  ...      -0.152668       0.030850   \n",
       "75%         3.000000       3.000000  ...       1.507071       1.661676   \n",
       "max        16.000000      14.000000  ...      14.455426      11.344080   \n",
       "\n",
       "                f_23           f_24           f_25           f_26  \\\n",
       "count  900000.000000  900000.000000  900000.000000  900000.000000   \n",
       "mean       -0.369459      -0.342738       0.176549       0.357591   \n",
       "std         2.453405       2.386941       2.416959       2.476020   \n",
       "min       -12.301097     -11.416189     -11.918306     -14.300577   \n",
       "25%        -2.019739      -1.955956      -1.440424      -1.261598   \n",
       "50%        -0.390966      -0.340746       0.160912       0.404212   \n",
       "75%         1.255408       1.266673       1.795928       2.028219   \n",
       "max        12.247100      12.389844      12.529179      12.913041   \n",
       "\n",
       "                f_28           f_29           f_30         target  \n",
       "count  900000.000000  900000.000000  900000.000000  900000.000000  \n",
       "mean       -0.380876       0.345661       1.002654       0.486488  \n",
       "std       238.773054       0.475584       0.818989       0.499818  \n",
       "min     -1229.753052       0.000000       0.000000       0.000000  \n",
       "25%      -159.427418       0.000000       0.000000       0.000000  \n",
       "50%        -0.519808       0.000000       1.000000       0.000000  \n",
       "75%       158.987357       1.000000       2.000000       1.000000  \n",
       "max      1229.562577       1.000000       2.000000       1.000000  \n",
       "\n",
       "[8 rows x 31 columns]"
      ]
     },
     "execution_count": 28,
     "metadata": {},
     "output_type": "execute_result"
    }
   ],
   "source": [
    "df_train.describe()"
   ]
  },
  {
   "cell_type": "code",
   "execution_count": 29,
   "id": "8021b6db",
   "metadata": {
    "scrolled": true
   },
   "outputs": [
    {
     "data": {
      "image/png": "[encoded data removed]",
      "text/plain": [
       "<Figure size 1440x1080 with 36 Axes>"
      ]
     },
     "metadata": {
      "needs_background": "light"
     },
     "output_type": "display_data"
    }
   ],
   "source": [
    "# Plot Histogram to see the value distribution of each feature\n",
    "\n",
    "%matplotlib inline\n",
    "df_train.hist(bins = 50, figsize = (20, 15))\n",
    "plt.show()"
   ]
  },
  {
   "cell_type": "code",
   "execution_count": 30,
   "id": "e67fe6f7",
   "metadata": {
    "scrolled": true
   },
   "outputs": [],
   "source": [
    "# checking the Correlation of each feature with the target variable\n",
    "\n",
    "corr_matrix = df_train.corr()"
   ]
  },
  {
   "cell_type": "code",
   "execution_count": 31,
   "id": "ce9f160e",
   "metadata": {
    "scrolled": true
   },
   "outputs": [
    {
     "data": {
      "image/png": "[encoded data removed]",
      "text/plain": [
       "<Figure size 1296x1152 with 2 Axes>"
      ]
     },
     "metadata": {
      "needs_background": "light"
     },
     "output_type": "display_data"
    }
   ],
   "source": [
    "# Plotting heatmap to view correlation across different variables in order to drop highly correlated ones\n",
    "\n",
    "plt.figure(figsize=(18,16))\n",
    "plt.title('Correlation Heatmap of Iris Dataset')\n",
    "a = sns.heatmap(corr_matrix, square=True, annot=True, fmt='.2f', linecolor='black')\n",
    "a.set_xticklabels(a.get_xticklabels(), rotation=30)\n",
    "a.set_yticklabels(a.get_yticklabels(), rotation=30)           \n",
    "plt.show()"
   ]
  },
  {
   "cell_type": "code",
   "execution_count": 32,
   "id": "546c98bc",
   "metadata": {
    "scrolled": true
   },
   "outputs": [
    {
     "data": {
      "text/plain": [
       "target    1.000000\n",
       "f_21      0.130887\n",
       "f_24      0.086350\n",
       "f_23      0.081206\n",
       "f_09      0.067909\n",
       "f_22      0.065554\n",
       "f_26      0.058915\n",
       "f_00      0.055274\n",
       "f_01      0.055011\n",
       "f_29      0.051306\n",
       "f_15      0.043297\n",
       "f_08      0.035829\n",
       "f_28      0.035824\n",
       "f_05      0.033048\n",
       "f_02      0.031814\n",
       "f_30      0.020721\n",
       "f_07      0.005257\n",
       "f_17      0.001832\n",
       "f_04      0.000159\n",
       "f_03     -0.000192\n",
       "f_12     -0.000962\n",
       "f_06     -0.000965\n",
       "f_18     -0.010781\n",
       "f_14     -0.017588\n",
       "f_25     -0.032836\n",
       "f_13     -0.034092\n",
       "f_10     -0.035420\n",
       "f_20     -0.036599\n",
       "f_16     -0.037303\n",
       "f_11     -0.078525\n",
       "f_19     -0.087698\n",
       "Name: target, dtype: float64"
      ]
     },
     "execution_count": 32,
     "metadata": {},
     "output_type": "execute_result"
    }
   ],
   "source": [
    "# Looking at correlation w.r.t target\n",
    "\n",
    "corr_matrix['target'].sort_values(ascending = False)"
   ]
  },
  {
   "cell_type": "code",
   "execution_count": 33,
   "id": "ad8d224b",
   "metadata": {},
   "outputs": [
    {
     "data": {
      "text/plain": [
       "count    900000.000000\n",
       "mean         -0.156307\n",
       "std           2.484706\n",
       "min         -13.310146\n",
       "25%          -1.820063\n",
       "50%          -0.152668\n",
       "75%           1.507071\n",
       "max          14.455426\n",
       "Name: f_21, dtype: float64"
      ]
     },
     "execution_count": 33,
     "metadata": {},
     "output_type": "execute_result"
    }
   ],
   "source": [
    "# f_21 seems to be the most correlated with the target feature therefore using it for StratifiedShuffleSplit to create validation set\n",
    "\n",
    "df_train['f_21'].describe()"
   ]
  },
  {
   "cell_type": "code",
   "execution_count": 34,
   "id": "d1d6ff49",
   "metadata": {},
   "outputs": [],
   "source": [
    "# Since f_21 is a continuous numerical attribute therefore we need to create an income category attribute by pd.cut()\n",
    "\n",
    "df_train['f_21_cat'] = pd.cut(df_train['f_21'], \n",
    "                              bins = [-np.inf, -10., -5, 0, 5, 10, np.inf],\n",
    "                              labels = [1,2,3,4,5,6])"
   ]
  },
  {
   "cell_type": "code",
   "execution_count": 35,
   "id": "b891b938",
   "metadata": {
    "scrolled": true
   },
   "outputs": [
    {
     "data": {
      "text/plain": [
       "3    0.498762\n",
       "4    0.456140\n",
       "2    0.025714\n",
       "5    0.019276\n",
       "1    0.000059\n",
       "6    0.000049\n",
       "Name: f_21_cat, dtype: float64"
      ]
     },
     "execution_count": 35,
     "metadata": {},
     "output_type": "execute_result"
    }
   ],
   "source": [
    "df_train['f_21_cat'].value_counts()/len(df_train)"
   ]
  },
  {
   "cell_type": "code",
   "execution_count": 36,
   "id": "7c4a49d7",
   "metadata": {},
   "outputs": [],
   "source": [
    "#StratifiedShuffleSplit based on f_21_cat\n",
    "\n",
    "from sklearn.model_selection import StratifiedShuffleSplit\n",
    "\n",
    "split = StratifiedShuffleSplit(n_splits = 10, test_size = 0.2, random_state = 42)\n",
    "\n",
    "for train_index, validation_index in split.split(df_train, df_train['f_21_cat']):\n",
    "    strat_train_set = df_train.loc[train_index]\n",
    "    strat_validation_set = df_train.loc[validation_index]"
   ]
  },
  {
   "cell_type": "code",
   "execution_count": 37,
   "id": "3c875680",
   "metadata": {},
   "outputs": [
    {
     "data": {
      "text/plain": [
       "3    0.498762\n",
       "4    0.456140\n",
       "2    0.025715\n",
       "5    0.019275\n",
       "1    0.000058\n",
       "6    0.000049\n",
       "Name: f_21_cat, dtype: float64"
      ]
     },
     "execution_count": 37,
     "metadata": {},
     "output_type": "execute_result"
    }
   ],
   "source": [
    "strat_train_set['f_21_cat'].value_counts()/len(strat_train_set)"
   ]
  },
  {
   "cell_type": "code",
   "execution_count": 38,
   "id": "bcfab552",
   "metadata": {},
   "outputs": [
    {
     "name": "stdout",
     "output_type": "stream",
     "text": [
      "(720000, 33)\n",
      "(180000, 33)\n"
     ]
    }
   ],
   "source": [
    "print(strat_train_set.shape)\n",
    "print(strat_validation_set.shape)"
   ]
  },
  {
   "cell_type": "code",
   "execution_count": 39,
   "id": "4418c5c3",
   "metadata": {},
   "outputs": [],
   "source": [
    "# dropping the income_cat attribute to get the original form of data\n",
    "\n",
    "for set_ in (strat_train_set, strat_validation_set):\n",
    "    set_.drop('f_21_cat', axis = 1, inplace = True)"
   ]
  },
  {
   "cell_type": "code",
   "execution_count": 40,
   "id": "1cb8a66f",
   "metadata": {},
   "outputs": [],
   "source": [
    "#Label encoding for categorical variables (data_type as 'óbject')\n",
    "\n",
    "for colname in strat_train_set.select_dtypes('object'):\n",
    "    strat_train_set[colname], _ = strat_train_set[colname].factorize()\n",
    "    strat_validation_set[colname], _ = strat_validation_set[colname].factorize()"
   ]
  },
  {
   "cell_type": "code",
   "execution_count": 41,
   "id": "827db50a",
   "metadata": {
    "scrolled": true
   },
   "outputs": [],
   "source": [
    "# Splitting data into Train and Test\n",
    "\n",
    "X_train= strat_train_set.drop('target', axis = 1)\n",
    "y_train = strat_train_set['target'].copy()"
   ]
  },
  {
   "cell_type": "code",
   "execution_count": 42,
   "id": "8e7eb582",
   "metadata": {},
   "outputs": [],
   "source": [
    "# Splitting data into Train and Test\n",
    "\n",
    "X_validation= strat_validation_set.drop('target', axis = 1)\n",
    "y_validation = strat_validation_set['target'].copy()"
   ]
  },
  {
   "cell_type": "code",
   "execution_count": 43,
   "id": "95cac0f7",
   "metadata": {
    "scrolled": true
   },
   "outputs": [
    {
     "name": "stdout",
     "output_type": "stream",
     "text": [
      "<class 'pandas.core.frame.DataFrame'>\n",
      "Int64Index: 720000 entries, 69355 to 54693\n",
      "Data columns (total 31 columns):\n",
      " #   Column  Non-Null Count   Dtype  \n",
      "---  ------  --------------   -----  \n",
      " 0   f_00    720000 non-null  float64\n",
      " 1   f_01    720000 non-null  float64\n",
      " 2   f_02    720000 non-null  float64\n",
      " 3   f_03    720000 non-null  float64\n",
      " 4   f_04    720000 non-null  float64\n",
      " 5   f_05    720000 non-null  float64\n",
      " 6   f_06    720000 non-null  float64\n",
      " 7   f_07    720000 non-null  int64  \n",
      " 8   f_08    720000 non-null  int64  \n",
      " 9   f_09    720000 non-null  int64  \n",
      " 10  f_10    720000 non-null  int64  \n",
      " 11  f_11    720000 non-null  int64  \n",
      " 12  f_12    720000 non-null  int64  \n",
      " 13  f_13    720000 non-null  int64  \n",
      " 14  f_14    720000 non-null  int64  \n",
      " 15  f_15    720000 non-null  int64  \n",
      " 16  f_16    720000 non-null  int64  \n",
      " 17  f_17    720000 non-null  int64  \n",
      " 18  f_18    720000 non-null  int64  \n",
      " 19  f_19    720000 non-null  float64\n",
      " 20  f_20    720000 non-null  float64\n",
      " 21  f_21    720000 non-null  float64\n",
      " 22  f_22    720000 non-null  float64\n",
      " 23  f_23    720000 non-null  float64\n",
      " 24  f_24    720000 non-null  float64\n",
      " 25  f_25    720000 non-null  float64\n",
      " 26  f_26    720000 non-null  float64\n",
      " 27  f_27    720000 non-null  int64  \n",
      " 28  f_28    720000 non-null  float64\n",
      " 29  f_29    720000 non-null  int64  \n",
      " 30  f_30    720000 non-null  int64  \n",
      "dtypes: float64(16), int64(15)\n",
      "memory usage: 175.8 MB\n"
     ]
    }
   ],
   "source": [
    "# Checking for null values in each column\n",
    "\n",
    "X_train.info()"
   ]
  },
  {
   "cell_type": "code",
   "execution_count": 44,
   "id": "2fed5c76",
   "metadata": {},
   "outputs": [],
   "source": [
    "# Feature Scaling through normalization\n",
    "\n",
    "from sklearn.preprocessing import StandardScaler\n",
    "\n",
    "std_scaler = StandardScaler()"
   ]
  },
  {
   "cell_type": "code",
   "execution_count": 45,
   "id": "db4d2f6a",
   "metadata": {
    "scrolled": true
   },
   "outputs": [],
   "source": [
    "# Scaling Training data set\n",
    "\n",
    "X_train_Scaled = std_scaler.fit_transform(X_train)"
   ]
  },
  {
   "cell_type": "code",
   "execution_count": 46,
   "id": "7a318729",
   "metadata": {
    "scrolled": true
   },
   "outputs": [
    {
     "data": {
      "text/html": [
       "<div>\n",
       "<style scoped>\n",
       "    .dataframe tbody tr th:only-of-type {\n",
       "        vertical-align: middle;\n",
       "    }\n",
       "\n",
       "    .dataframe tbody tr th {\n",
       "        vertical-align: top;\n",
       "    }\n",
       "\n",
       "    .dataframe thead th {\n",
       "        text-align: right;\n",
       "    }\n",
       "</style>\n",
       "<table border=\"1\" class=\"dataframe\">\n",
       "  <thead>\n",
       "    <tr style=\"text-align: right;\">\n",
       "      <th></th>\n",
       "      <th>0</th>\n",
       "      <th>1</th>\n",
       "      <th>2</th>\n",
       "      <th>3</th>\n",
       "      <th>4</th>\n",
       "      <th>5</th>\n",
       "      <th>6</th>\n",
       "      <th>7</th>\n",
       "      <th>8</th>\n",
       "      <th>9</th>\n",
       "      <th>...</th>\n",
       "      <th>21</th>\n",
       "      <th>22</th>\n",
       "      <th>23</th>\n",
       "      <th>24</th>\n",
       "      <th>25</th>\n",
       "      <th>26</th>\n",
       "      <th>27</th>\n",
       "      <th>28</th>\n",
       "      <th>29</th>\n",
       "      <th>30</th>\n",
       "    </tr>\n",
       "  </thead>\n",
       "  <tbody>\n",
       "    <tr>\n",
       "      <th>0</th>\n",
       "      <td>-0.500706</td>\n",
       "      <td>-0.997495</td>\n",
       "      <td>-0.668266</td>\n",
       "      <td>1.630252</td>\n",
       "      <td>-0.215639</td>\n",
       "      <td>-0.592069</td>\n",
       "      <td>0.061107</td>\n",
       "      <td>-0.019084</td>\n",
       "      <td>-1.293108</td>\n",
       "      <td>-0.831253</td>\n",
       "      <td>...</td>\n",
       "      <td>-0.523351</td>\n",
       "      <td>2.079403</td>\n",
       "      <td>-0.306069</td>\n",
       "      <td>0.051074</td>\n",
       "      <td>2.060358</td>\n",
       "      <td>2.355760</td>\n",
       "      <td>-1.640997</td>\n",
       "      <td>0.265866</td>\n",
       "      <td>-0.727101</td>\n",
       "      <td>1.217500</td>\n",
       "    </tr>\n",
       "    <tr>\n",
       "      <th>1</th>\n",
       "      <td>1.854109</td>\n",
       "      <td>-0.503258</td>\n",
       "      <td>-0.935034</td>\n",
       "      <td>-1.071374</td>\n",
       "      <td>0.741597</td>\n",
       "      <td>-0.776155</td>\n",
       "      <td>-1.530039</td>\n",
       "      <td>-0.623147</td>\n",
       "      <td>-0.665271</td>\n",
       "      <td>1.611945</td>\n",
       "      <td>...</td>\n",
       "      <td>1.857296</td>\n",
       "      <td>-0.571736</td>\n",
       "      <td>0.100937</td>\n",
       "      <td>0.672169</td>\n",
       "      <td>-0.550621</td>\n",
       "      <td>-0.075438</td>\n",
       "      <td>-1.640992</td>\n",
       "      <td>0.201621</td>\n",
       "      <td>-0.727101</td>\n",
       "      <td>1.217500</td>\n",
       "    </tr>\n",
       "    <tr>\n",
       "      <th>2</th>\n",
       "      <td>-0.059074</td>\n",
       "      <td>-0.110854</td>\n",
       "      <td>1.580628</td>\n",
       "      <td>0.863962</td>\n",
       "      <td>-0.109017</td>\n",
       "      <td>-0.235458</td>\n",
       "      <td>1.243008</td>\n",
       "      <td>-0.623147</td>\n",
       "      <td>0.590402</td>\n",
       "      <td>-0.220454</td>\n",
       "      <td>...</td>\n",
       "      <td>0.365212</td>\n",
       "      <td>-0.275273</td>\n",
       "      <td>-0.413301</td>\n",
       "      <td>0.095002</td>\n",
       "      <td>-1.167917</td>\n",
       "      <td>-0.474595</td>\n",
       "      <td>-1.640986</td>\n",
       "      <td>0.385582</td>\n",
       "      <td>-0.727101</td>\n",
       "      <td>-0.003723</td>\n",
       "    </tr>\n",
       "    <tr>\n",
       "      <th>3</th>\n",
       "      <td>-0.276649</td>\n",
       "      <td>-0.673160</td>\n",
       "      <td>0.498425</td>\n",
       "      <td>-0.710127</td>\n",
       "      <td>-0.306920</td>\n",
       "      <td>0.152418</td>\n",
       "      <td>-0.834228</td>\n",
       "      <td>-1.227209</td>\n",
       "      <td>-0.665271</td>\n",
       "      <td>1.611945</td>\n",
       "      <td>...</td>\n",
       "      <td>-0.806208</td>\n",
       "      <td>-0.962069</td>\n",
       "      <td>0.142621</td>\n",
       "      <td>-1.018954</td>\n",
       "      <td>-1.209878</td>\n",
       "      <td>-0.546179</td>\n",
       "      <td>-1.640980</td>\n",
       "      <td>-0.634188</td>\n",
       "      <td>-0.727101</td>\n",
       "      <td>-0.003723</td>\n",
       "    </tr>\n",
       "    <tr>\n",
       "      <th>4</th>\n",
       "      <td>-1.305217</td>\n",
       "      <td>0.606738</td>\n",
       "      <td>1.462706</td>\n",
       "      <td>-0.268013</td>\n",
       "      <td>0.222565</td>\n",
       "      <td>-0.354395</td>\n",
       "      <td>-0.267719</td>\n",
       "      <td>2.397166</td>\n",
       "      <td>-0.665271</td>\n",
       "      <td>1.611945</td>\n",
       "      <td>...</td>\n",
       "      <td>-0.337579</td>\n",
       "      <td>-2.530096</td>\n",
       "      <td>1.764976</td>\n",
       "      <td>-0.764114</td>\n",
       "      <td>-0.552118</td>\n",
       "      <td>0.282290</td>\n",
       "      <td>-1.640975</td>\n",
       "      <td>-0.988815</td>\n",
       "      <td>-0.727101</td>\n",
       "      <td>-1.224946</td>\n",
       "    </tr>\n",
       "  </tbody>\n",
       "</table>\n",
       "<p>5 rows × 31 columns</p>\n",
       "</div>"
      ],
      "text/plain": [
       "         0         1         2         3         4         5         6   \\\n",
       "0 -0.500706 -0.997495 -0.668266  1.630252 -0.215639 -0.592069  0.061107   \n",
       "1  1.854109 -0.503258 -0.935034 -1.071374  0.741597 -0.776155 -1.530039   \n",
       "2 -0.059074 -0.110854  1.580628  0.863962 -0.109017 -0.235458  1.243008   \n",
       "3 -0.276649 -0.673160  0.498425 -0.710127 -0.306920  0.152418 -0.834228   \n",
       "4 -1.305217  0.606738  1.462706 -0.268013  0.222565 -0.354395 -0.267719   \n",
       "\n",
       "         7         8         9   ...        21        22        23        24  \\\n",
       "0 -0.019084 -1.293108 -0.831253  ... -0.523351  2.079403 -0.306069  0.051074   \n",
       "1 -0.623147 -0.665271  1.611945  ...  1.857296 -0.571736  0.100937  0.672169   \n",
       "2 -0.623147  0.590402 -0.220454  ...  0.365212 -0.275273 -0.413301  0.095002   \n",
       "3 -1.227209 -0.665271  1.611945  ... -0.806208 -0.962069  0.142621 -1.018954   \n",
       "4  2.397166 -0.665271  1.611945  ... -0.337579 -2.530096  1.764976 -0.764114   \n",
       "\n",
       "         25        26        27        28        29        30  \n",
       "0  2.060358  2.355760 -1.640997  0.265866 -0.727101  1.217500  \n",
       "1 -0.550621 -0.075438 -1.640992  0.201621 -0.727101  1.217500  \n",
       "2 -1.167917 -0.474595 -1.640986  0.385582 -0.727101 -0.003723  \n",
       "3 -1.209878 -0.546179 -1.640980 -0.634188 -0.727101 -0.003723  \n",
       "4 -0.552118  0.282290 -1.640975 -0.988815 -0.727101 -1.224946  \n",
       "\n",
       "[5 rows x 31 columns]"
      ]
     },
     "execution_count": 46,
     "metadata": {},
     "output_type": "execute_result"
    }
   ],
   "source": [
    "pd.DataFrame(X_train_Scaled).head()"
   ]
  },
  {
   "cell_type": "code",
   "execution_count": 47,
   "id": "58206ca9",
   "metadata": {},
   "outputs": [],
   "source": [
    "# Converting the transformed dataset to dataframe\n",
    "\n",
    "X_train_Scaled = pd.DataFrame(X_train_Scaled)"
   ]
  },
  {
   "cell_type": "code",
   "execution_count": 48,
   "id": "14aa0400",
   "metadata": {
    "scrolled": false
   },
   "outputs": [
    {
     "data": {
      "text/html": [
       "<div>\n",
       "<style scoped>\n",
       "    .dataframe tbody tr th:only-of-type {\n",
       "        vertical-align: middle;\n",
       "    }\n",
       "\n",
       "    .dataframe tbody tr th {\n",
       "        vertical-align: top;\n",
       "    }\n",
       "\n",
       "    .dataframe thead th {\n",
       "        text-align: right;\n",
       "    }\n",
       "</style>\n",
       "<table border=\"1\" class=\"dataframe\">\n",
       "  <thead>\n",
       "    <tr style=\"text-align: right;\">\n",
       "      <th></th>\n",
       "      <th>0</th>\n",
       "      <th>1</th>\n",
       "      <th>2</th>\n",
       "      <th>3</th>\n",
       "      <th>4</th>\n",
       "      <th>5</th>\n",
       "      <th>6</th>\n",
       "      <th>7</th>\n",
       "      <th>8</th>\n",
       "      <th>9</th>\n",
       "      <th>...</th>\n",
       "      <th>21</th>\n",
       "      <th>22</th>\n",
       "      <th>23</th>\n",
       "      <th>24</th>\n",
       "      <th>25</th>\n",
       "      <th>26</th>\n",
       "      <th>27</th>\n",
       "      <th>28</th>\n",
       "      <th>29</th>\n",
       "      <th>30</th>\n",
       "    </tr>\n",
       "  </thead>\n",
       "  <tbody>\n",
       "    <tr>\n",
       "      <th>count</th>\n",
       "      <td>7.200000e+05</td>\n",
       "      <td>7.200000e+05</td>\n",
       "      <td>7.200000e+05</td>\n",
       "      <td>7.200000e+05</td>\n",
       "      <td>7.200000e+05</td>\n",
       "      <td>7.200000e+05</td>\n",
       "      <td>7.200000e+05</td>\n",
       "      <td>7.200000e+05</td>\n",
       "      <td>7.200000e+05</td>\n",
       "      <td>7.200000e+05</td>\n",
       "      <td>...</td>\n",
       "      <td>7.200000e+05</td>\n",
       "      <td>7.200000e+05</td>\n",
       "      <td>7.200000e+05</td>\n",
       "      <td>7.200000e+05</td>\n",
       "      <td>7.200000e+05</td>\n",
       "      <td>7.200000e+05</td>\n",
       "      <td>7.200000e+05</td>\n",
       "      <td>7.200000e+05</td>\n",
       "      <td>7.200000e+05</td>\n",
       "      <td>7.200000e+05</td>\n",
       "    </tr>\n",
       "    <tr>\n",
       "      <th>mean</th>\n",
       "      <td>5.539674e-17</td>\n",
       "      <td>-2.066553e-17</td>\n",
       "      <td>7.838791e-18</td>\n",
       "      <td>-3.218583e-17</td>\n",
       "      <td>1.669344e-17</td>\n",
       "      <td>2.929755e-18</td>\n",
       "      <td>-7.937169e-18</td>\n",
       "      <td>-6.739567e-15</td>\n",
       "      <td>-7.273354e-15</td>\n",
       "      <td>-7.164006e-15</td>\n",
       "      <td>...</td>\n",
       "      <td>-1.502964e-17</td>\n",
       "      <td>1.742495e-17</td>\n",
       "      <td>-4.544272e-17</td>\n",
       "      <td>4.874126e-17</td>\n",
       "      <td>2.619648e-17</td>\n",
       "      <td>6.993634e-19</td>\n",
       "      <td>-2.219448e-15</td>\n",
       "      <td>-2.291655e-17</td>\n",
       "      <td>-3.965121e-15</td>\n",
       "      <td>-1.124751e-15</td>\n",
       "    </tr>\n",
       "    <tr>\n",
       "      <th>std</th>\n",
       "      <td>1.000001e+00</td>\n",
       "      <td>1.000001e+00</td>\n",
       "      <td>1.000001e+00</td>\n",
       "      <td>1.000001e+00</td>\n",
       "      <td>1.000001e+00</td>\n",
       "      <td>1.000001e+00</td>\n",
       "      <td>1.000001e+00</td>\n",
       "      <td>1.000001e+00</td>\n",
       "      <td>1.000001e+00</td>\n",
       "      <td>1.000001e+00</td>\n",
       "      <td>...</td>\n",
       "      <td>1.000001e+00</td>\n",
       "      <td>1.000001e+00</td>\n",
       "      <td>1.000001e+00</td>\n",
       "      <td>1.000001e+00</td>\n",
       "      <td>1.000001e+00</td>\n",
       "      <td>1.000001e+00</td>\n",
       "      <td>1.000001e+00</td>\n",
       "      <td>1.000001e+00</td>\n",
       "      <td>1.000001e+00</td>\n",
       "      <td>1.000001e+00</td>\n",
       "    </tr>\n",
       "    <tr>\n",
       "      <th>min</th>\n",
       "      <td>-4.604778e+00</td>\n",
       "      <td>-4.687189e+00</td>\n",
       "      <td>-4.643345e+00</td>\n",
       "      <td>-4.657370e+00</td>\n",
       "      <td>-4.748213e+00</td>\n",
       "      <td>-4.754692e+00</td>\n",
       "      <td>-4.840531e+00</td>\n",
       "      <td>-1.227209e+00</td>\n",
       "      <td>-1.293108e+00</td>\n",
       "      <td>-1.442052e+00</td>\n",
       "      <td>...</td>\n",
       "      <td>-4.841410e+00</td>\n",
       "      <td>-4.829228e+00</td>\n",
       "      <td>-4.863381e+00</td>\n",
       "      <td>-4.623107e+00</td>\n",
       "      <td>-5.005002e+00</td>\n",
       "      <td>-5.918746e+00</td>\n",
       "      <td>-1.640997e+00</td>\n",
       "      <td>-5.151320e+00</td>\n",
       "      <td>-7.271007e-01</td>\n",
       "      <td>-1.224946e+00</td>\n",
       "    </tr>\n",
       "    <tr>\n",
       "      <th>25%</th>\n",
       "      <td>-6.751717e-01</td>\n",
       "      <td>-6.765999e-01</td>\n",
       "      <td>-6.747813e-01</td>\n",
       "      <td>-6.740655e-01</td>\n",
       "      <td>-6.758470e-01</td>\n",
       "      <td>-6.746242e-01</td>\n",
       "      <td>-6.748907e-01</td>\n",
       "      <td>-6.231468e-01</td>\n",
       "      <td>-6.652714e-01</td>\n",
       "      <td>-8.312530e-01</td>\n",
       "      <td>...</td>\n",
       "      <td>-6.693063e-01</td>\n",
       "      <td>-6.678787e-01</td>\n",
       "      <td>-6.727714e-01</td>\n",
       "      <td>-6.762789e-01</td>\n",
       "      <td>-6.692371e-01</td>\n",
       "      <td>-6.545540e-01</td>\n",
       "      <td>-8.741987e-01</td>\n",
       "      <td>-6.654386e-01</td>\n",
       "      <td>-7.271007e-01</td>\n",
       "      <td>-1.224946e+00</td>\n",
       "    </tr>\n",
       "    <tr>\n",
       "      <th>50%</th>\n",
       "      <td>1.189971e-03</td>\n",
       "      <td>5.602991e-04</td>\n",
       "      <td>8.606603e-04</td>\n",
       "      <td>-5.856125e-04</td>\n",
       "      <td>-1.554112e-03</td>\n",
       "      <td>-4.020600e-04</td>\n",
       "      <td>-5.291763e-04</td>\n",
       "      <td>-1.908418e-02</td>\n",
       "      <td>-3.743476e-02</td>\n",
       "      <td>-2.204536e-01</td>\n",
       "      <td>...</td>\n",
       "      <td>1.311245e-03</td>\n",
       "      <td>1.592447e-02</td>\n",
       "      <td>-8.650100e-03</td>\n",
       "      <td>7.622951e-04</td>\n",
       "      <td>-6.203577e-03</td>\n",
       "      <td>1.926627e-02</td>\n",
       "      <td>-4.686349e-02</td>\n",
       "      <td>-1.054740e-03</td>\n",
       "      <td>-7.271007e-01</td>\n",
       "      <td>-3.723035e-03</td>\n",
       "    </tr>\n",
       "    <tr>\n",
       "      <th>75%</th>\n",
       "      <td>6.751123e-01</td>\n",
       "      <td>6.743370e-01</td>\n",
       "      <td>6.763199e-01</td>\n",
       "      <td>6.739584e-01</td>\n",
       "      <td>6.738322e-01</td>\n",
       "      <td>6.752516e-01</td>\n",
       "      <td>6.759699e-01</td>\n",
       "      <td>5.849785e-01</td>\n",
       "      <td>5.904018e-01</td>\n",
       "      <td>3.903458e-01</td>\n",
       "      <td>...</td>\n",
       "      <td>6.696851e-01</td>\n",
       "      <td>6.812047e-01</td>\n",
       "      <td>6.627032e-01</td>\n",
       "      <td>6.743240e-01</td>\n",
       "      <td>6.696363e-01</td>\n",
       "      <td>6.753839e-01</td>\n",
       "      <td>8.512887e-01</td>\n",
       "      <td>6.675381e-01</td>\n",
       "      <td>1.375325e+00</td>\n",
       "      <td>1.217500e+00</td>\n",
       "    </tr>\n",
       "    <tr>\n",
       "      <th>max</th>\n",
       "      <td>4.754663e+00</td>\n",
       "      <td>4.783881e+00</td>\n",
       "      <td>4.960255e+00</td>\n",
       "      <td>4.455826e+00</td>\n",
       "      <td>4.724923e+00</td>\n",
       "      <td>4.975199e+00</td>\n",
       "      <td>4.819083e+00</td>\n",
       "      <td>7.833730e+00</td>\n",
       "      <td>8.752278e+00</td>\n",
       "      <td>7.109139e+00</td>\n",
       "      <td>...</td>\n",
       "      <td>5.881362e+00</td>\n",
       "      <td>4.629670e+00</td>\n",
       "      <td>5.141940e+00</td>\n",
       "      <td>4.814687e+00</td>\n",
       "      <td>5.110955e+00</td>\n",
       "      <td>5.069362e+00</td>\n",
       "      <td>1.829700e+00</td>\n",
       "      <td>5.152767e+00</td>\n",
       "      <td>1.375325e+00</td>\n",
       "      <td>1.217500e+00</td>\n",
       "    </tr>\n",
       "  </tbody>\n",
       "</table>\n",
       "<p>8 rows × 31 columns</p>\n",
       "</div>"
      ],
      "text/plain": [
       "                 0             1             2             3             4   \\\n",
       "count  7.200000e+05  7.200000e+05  7.200000e+05  7.200000e+05  7.200000e+05   \n",
       "mean   5.539674e-17 -2.066553e-17  7.838791e-18 -3.218583e-17  1.669344e-17   \n",
       "std    1.000001e+00  1.000001e+00  1.000001e+00  1.000001e+00  1.000001e+00   \n",
       "min   -4.604778e+00 -4.687189e+00 -4.643345e+00 -4.657370e+00 -4.748213e+00   \n",
       "25%   -6.751717e-01 -6.765999e-01 -6.747813e-01 -6.740655e-01 -6.758470e-01   \n",
       "50%    1.189971e-03  5.602991e-04  8.606603e-04 -5.856125e-04 -1.554112e-03   \n",
       "75%    6.751123e-01  6.743370e-01  6.763199e-01  6.739584e-01  6.738322e-01   \n",
       "max    4.754663e+00  4.783881e+00  4.960255e+00  4.455826e+00  4.724923e+00   \n",
       "\n",
       "                 5             6             7             8             9   \\\n",
       "count  7.200000e+05  7.200000e+05  7.200000e+05  7.200000e+05  7.200000e+05   \n",
       "mean   2.929755e-18 -7.937169e-18 -6.739567e-15 -7.273354e-15 -7.164006e-15   \n",
       "std    1.000001e+00  1.000001e+00  1.000001e+00  1.000001e+00  1.000001e+00   \n",
       "min   -4.754692e+00 -4.840531e+00 -1.227209e+00 -1.293108e+00 -1.442052e+00   \n",
       "25%   -6.746242e-01 -6.748907e-01 -6.231468e-01 -6.652714e-01 -8.312530e-01   \n",
       "50%   -4.020600e-04 -5.291763e-04 -1.908418e-02 -3.743476e-02 -2.204536e-01   \n",
       "75%    6.752516e-01  6.759699e-01  5.849785e-01  5.904018e-01  3.903458e-01   \n",
       "max    4.975199e+00  4.819083e+00  7.833730e+00  8.752278e+00  7.109139e+00   \n",
       "\n",
       "       ...            21            22            23            24  \\\n",
       "count  ...  7.200000e+05  7.200000e+05  7.200000e+05  7.200000e+05   \n",
       "mean   ... -1.502964e-17  1.742495e-17 -4.544272e-17  4.874126e-17   \n",
       "std    ...  1.000001e+00  1.000001e+00  1.000001e+00  1.000001e+00   \n",
       "min    ... -4.841410e+00 -4.829228e+00 -4.863381e+00 -4.623107e+00   \n",
       "25%    ... -6.693063e-01 -6.678787e-01 -6.727714e-01 -6.762789e-01   \n",
       "50%    ...  1.311245e-03  1.592447e-02 -8.650100e-03  7.622951e-04   \n",
       "75%    ...  6.696851e-01  6.812047e-01  6.627032e-01  6.743240e-01   \n",
       "max    ...  5.881362e+00  4.629670e+00  5.141940e+00  4.814687e+00   \n",
       "\n",
       "                 25            26            27            28            29  \\\n",
       "count  7.200000e+05  7.200000e+05  7.200000e+05  7.200000e+05  7.200000e+05   \n",
       "mean   2.619648e-17  6.993634e-19 -2.219448e-15 -2.291655e-17 -3.965121e-15   \n",
       "std    1.000001e+00  1.000001e+00  1.000001e+00  1.000001e+00  1.000001e+00   \n",
       "min   -5.005002e+00 -5.918746e+00 -1.640997e+00 -5.151320e+00 -7.271007e-01   \n",
       "25%   -6.692371e-01 -6.545540e-01 -8.741987e-01 -6.654386e-01 -7.271007e-01   \n",
       "50%   -6.203577e-03  1.926627e-02 -4.686349e-02 -1.054740e-03 -7.271007e-01   \n",
       "75%    6.696363e-01  6.753839e-01  8.512887e-01  6.675381e-01  1.375325e+00   \n",
       "max    5.110955e+00  5.069362e+00  1.829700e+00  5.152767e+00  1.375325e+00   \n",
       "\n",
       "                 30  \n",
       "count  7.200000e+05  \n",
       "mean  -1.124751e-15  \n",
       "std    1.000001e+00  \n",
       "min   -1.224946e+00  \n",
       "25%   -1.224946e+00  \n",
       "50%   -3.723035e-03  \n",
       "75%    1.217500e+00  \n",
       "max    1.217500e+00  \n",
       "\n",
       "[8 rows x 31 columns]"
      ]
     },
     "execution_count": 48,
     "metadata": {},
     "output_type": "execute_result"
    }
   ],
   "source": [
    "X_train_Scaled.describe()"
   ]
  },
  {
   "cell_type": "code",
   "execution_count": 50,
   "id": "0d0d7db5",
   "metadata": {},
   "outputs": [],
   "source": [
    "# Saving column names list\n",
    "\n",
    "cols = (X_train.columns).tolist()\n",
    "X_train_Scaled.columns = cols"
   ]
  },
  {
   "cell_type": "code",
   "execution_count": 51,
   "id": "492ed6de",
   "metadata": {},
   "outputs": [
    {
     "data": {
      "text/html": [
       "<div>\n",
       "<style scoped>\n",
       "    .dataframe tbody tr th:only-of-type {\n",
       "        vertical-align: middle;\n",
       "    }\n",
       "\n",
       "    .dataframe tbody tr th {\n",
       "        vertical-align: top;\n",
       "    }\n",
       "\n",
       "    .dataframe thead th {\n",
       "        text-align: right;\n",
       "    }\n",
       "</style>\n",
       "<table border=\"1\" class=\"dataframe\">\n",
       "  <thead>\n",
       "    <tr style=\"text-align: right;\">\n",
       "      <th></th>\n",
       "      <th>f_00</th>\n",
       "      <th>f_01</th>\n",
       "      <th>f_02</th>\n",
       "      <th>f_03</th>\n",
       "      <th>f_04</th>\n",
       "      <th>f_05</th>\n",
       "      <th>f_06</th>\n",
       "      <th>f_07</th>\n",
       "      <th>f_08</th>\n",
       "      <th>f_09</th>\n",
       "      <th>...</th>\n",
       "      <th>f_21</th>\n",
       "      <th>f_22</th>\n",
       "      <th>f_23</th>\n",
       "      <th>f_24</th>\n",
       "      <th>f_25</th>\n",
       "      <th>f_26</th>\n",
       "      <th>f_27</th>\n",
       "      <th>f_28</th>\n",
       "      <th>f_29</th>\n",
       "      <th>f_30</th>\n",
       "    </tr>\n",
       "  </thead>\n",
       "  <tbody>\n",
       "    <tr>\n",
       "      <th>0</th>\n",
       "      <td>-0.500706</td>\n",
       "      <td>-0.997495</td>\n",
       "      <td>-0.668266</td>\n",
       "      <td>1.630252</td>\n",
       "      <td>-0.215639</td>\n",
       "      <td>-0.592069</td>\n",
       "      <td>0.061107</td>\n",
       "      <td>-0.019084</td>\n",
       "      <td>-1.293108</td>\n",
       "      <td>-0.831253</td>\n",
       "      <td>...</td>\n",
       "      <td>-0.523351</td>\n",
       "      <td>2.079403</td>\n",
       "      <td>-0.306069</td>\n",
       "      <td>0.051074</td>\n",
       "      <td>2.060358</td>\n",
       "      <td>2.355760</td>\n",
       "      <td>-1.640997</td>\n",
       "      <td>0.265866</td>\n",
       "      <td>-0.727101</td>\n",
       "      <td>1.217500</td>\n",
       "    </tr>\n",
       "    <tr>\n",
       "      <th>1</th>\n",
       "      <td>1.854109</td>\n",
       "      <td>-0.503258</td>\n",
       "      <td>-0.935034</td>\n",
       "      <td>-1.071374</td>\n",
       "      <td>0.741597</td>\n",
       "      <td>-0.776155</td>\n",
       "      <td>-1.530039</td>\n",
       "      <td>-0.623147</td>\n",
       "      <td>-0.665271</td>\n",
       "      <td>1.611945</td>\n",
       "      <td>...</td>\n",
       "      <td>1.857296</td>\n",
       "      <td>-0.571736</td>\n",
       "      <td>0.100937</td>\n",
       "      <td>0.672169</td>\n",
       "      <td>-0.550621</td>\n",
       "      <td>-0.075438</td>\n",
       "      <td>-1.640992</td>\n",
       "      <td>0.201621</td>\n",
       "      <td>-0.727101</td>\n",
       "      <td>1.217500</td>\n",
       "    </tr>\n",
       "    <tr>\n",
       "      <th>2</th>\n",
       "      <td>-0.059074</td>\n",
       "      <td>-0.110854</td>\n",
       "      <td>1.580628</td>\n",
       "      <td>0.863962</td>\n",
       "      <td>-0.109017</td>\n",
       "      <td>-0.235458</td>\n",
       "      <td>1.243008</td>\n",
       "      <td>-0.623147</td>\n",
       "      <td>0.590402</td>\n",
       "      <td>-0.220454</td>\n",
       "      <td>...</td>\n",
       "      <td>0.365212</td>\n",
       "      <td>-0.275273</td>\n",
       "      <td>-0.413301</td>\n",
       "      <td>0.095002</td>\n",
       "      <td>-1.167917</td>\n",
       "      <td>-0.474595</td>\n",
       "      <td>-1.640986</td>\n",
       "      <td>0.385582</td>\n",
       "      <td>-0.727101</td>\n",
       "      <td>-0.003723</td>\n",
       "    </tr>\n",
       "    <tr>\n",
       "      <th>3</th>\n",
       "      <td>-0.276649</td>\n",
       "      <td>-0.673160</td>\n",
       "      <td>0.498425</td>\n",
       "      <td>-0.710127</td>\n",
       "      <td>-0.306920</td>\n",
       "      <td>0.152418</td>\n",
       "      <td>-0.834228</td>\n",
       "      <td>-1.227209</td>\n",
       "      <td>-0.665271</td>\n",
       "      <td>1.611945</td>\n",
       "      <td>...</td>\n",
       "      <td>-0.806208</td>\n",
       "      <td>-0.962069</td>\n",
       "      <td>0.142621</td>\n",
       "      <td>-1.018954</td>\n",
       "      <td>-1.209878</td>\n",
       "      <td>-0.546179</td>\n",
       "      <td>-1.640980</td>\n",
       "      <td>-0.634188</td>\n",
       "      <td>-0.727101</td>\n",
       "      <td>-0.003723</td>\n",
       "    </tr>\n",
       "    <tr>\n",
       "      <th>4</th>\n",
       "      <td>-1.305217</td>\n",
       "      <td>0.606738</td>\n",
       "      <td>1.462706</td>\n",
       "      <td>-0.268013</td>\n",
       "      <td>0.222565</td>\n",
       "      <td>-0.354395</td>\n",
       "      <td>-0.267719</td>\n",
       "      <td>2.397166</td>\n",
       "      <td>-0.665271</td>\n",
       "      <td>1.611945</td>\n",
       "      <td>...</td>\n",
       "      <td>-0.337579</td>\n",
       "      <td>-2.530096</td>\n",
       "      <td>1.764976</td>\n",
       "      <td>-0.764114</td>\n",
       "      <td>-0.552118</td>\n",
       "      <td>0.282290</td>\n",
       "      <td>-1.640975</td>\n",
       "      <td>-0.988815</td>\n",
       "      <td>-0.727101</td>\n",
       "      <td>-1.224946</td>\n",
       "    </tr>\n",
       "  </tbody>\n",
       "</table>\n",
       "<p>5 rows × 31 columns</p>\n",
       "</div>"
      ],
      "text/plain": [
       "       f_00      f_01      f_02      f_03      f_04      f_05      f_06  \\\n",
       "0 -0.500706 -0.997495 -0.668266  1.630252 -0.215639 -0.592069  0.061107   \n",
       "1  1.854109 -0.503258 -0.935034 -1.071374  0.741597 -0.776155 -1.530039   \n",
       "2 -0.059074 -0.110854  1.580628  0.863962 -0.109017 -0.235458  1.243008   \n",
       "3 -0.276649 -0.673160  0.498425 -0.710127 -0.306920  0.152418 -0.834228   \n",
       "4 -1.305217  0.606738  1.462706 -0.268013  0.222565 -0.354395 -0.267719   \n",
       "\n",
       "       f_07      f_08      f_09  ...      f_21      f_22      f_23      f_24  \\\n",
       "0 -0.019084 -1.293108 -0.831253  ... -0.523351  2.079403 -0.306069  0.051074   \n",
       "1 -0.623147 -0.665271  1.611945  ...  1.857296 -0.571736  0.100937  0.672169   \n",
       "2 -0.623147  0.590402 -0.220454  ...  0.365212 -0.275273 -0.413301  0.095002   \n",
       "3 -1.227209 -0.665271  1.611945  ... -0.806208 -0.962069  0.142621 -1.018954   \n",
       "4  2.397166 -0.665271  1.611945  ... -0.337579 -2.530096  1.764976 -0.764114   \n",
       "\n",
       "       f_25      f_26      f_27      f_28      f_29      f_30  \n",
       "0  2.060358  2.355760 -1.640997  0.265866 -0.727101  1.217500  \n",
       "1 -0.550621 -0.075438 -1.640992  0.201621 -0.727101  1.217500  \n",
       "2 -1.167917 -0.474595 -1.640986  0.385582 -0.727101 -0.003723  \n",
       "3 -1.209878 -0.546179 -1.640980 -0.634188 -0.727101 -0.003723  \n",
       "4 -0.552118  0.282290 -1.640975 -0.988815 -0.727101 -1.224946  \n",
       "\n",
       "[5 rows x 31 columns]"
      ]
     },
     "execution_count": 51,
     "metadata": {},
     "output_type": "execute_result"
    }
   ],
   "source": [
    "X_train_Scaled.head()"
   ]
  },
  {
   "cell_type": "code",
   "execution_count": 52,
   "id": "f94bdb65",
   "metadata": {},
   "outputs": [],
   "source": [
    "# Scaling Validation data set\n",
    "\n",
    "X_validation_Scaled = std_scaler.transform(X_validation)"
   ]
  },
  {
   "cell_type": "code",
   "execution_count": 53,
   "id": "af7a72a0",
   "metadata": {},
   "outputs": [],
   "source": [
    "# Converting the transformed dataset to dataframe\n",
    "\n",
    "X_validation_Scaled = pd.DataFrame(X_validation_Scaled)"
   ]
  },
  {
   "cell_type": "code",
   "execution_count": 54,
   "id": "28e16b94",
   "metadata": {},
   "outputs": [],
   "source": [
    "X_validation_Scaled.columns = cols"
   ]
  },
  {
   "cell_type": "code",
   "execution_count": 55,
   "id": "067f5dd0",
   "metadata": {},
   "outputs": [],
   "source": [
    "# feature Selection using univariate ML model (DecisionTreeClassifier)\n",
    "\n",
    "from sklearn.tree import DecisionTreeClassifier\n",
    "from sklearn.metrics import roc_auc_score\n",
    "\n",
    "roc_values = []\n",
    "for feature in X_train_Scaled.columns:\n",
    "    clf = DecisionTreeClassifier()\n",
    "    clf.fit(X_train_Scaled[feature].fillna(0).to_frame(), y_train)\n",
    "    y_scored = clf.predict_proba(X_validation_Scaled[feature].fillna(0).to_frame())\n",
    "    roc_values.append(roc_auc_score(y_validation, y_scored[:, 1]))"
   ]
  },
  {
   "cell_type": "code",
   "execution_count": 56,
   "id": "f8f3ba4f",
   "metadata": {
    "scrolled": true
   },
   "outputs": [
    {
     "data": {
      "text/plain": [
       "f_11    0.541089\n",
       "f_08    0.538196\n",
       "f_09    0.536594\n",
       "f_15    0.530084\n",
       "f_29    0.525405\n",
       "f_10    0.523101\n",
       "f_13    0.519793\n",
       "f_16    0.518663\n",
       "f_14    0.512939\n",
       "f_12    0.512913\n",
       "f_21    0.512824\n",
       "f_07    0.511159\n",
       "f_30    0.509320\n",
       "f_17    0.507270\n",
       "f_23    0.506271\n",
       "f_26    0.506069\n",
       "f_24    0.505498\n",
       "f_18    0.505024\n",
       "f_19    0.504443\n",
       "f_28    0.504243\n",
       "f_00    0.502477\n",
       "f_25    0.502334\n",
       "f_22    0.502017\n",
       "f_20    0.501906\n",
       "f_02    0.501529\n",
       "f_05    0.501514\n",
       "f_01    0.501221\n",
       "f_03    0.501021\n",
       "f_06    0.499393\n",
       "f_04    0.498729\n",
       "f_27    0.498515\n",
       "dtype: float64"
      ]
     },
     "execution_count": 56,
     "metadata": {},
     "output_type": "execute_result"
    }
   ],
   "source": [
    "# Let's add variable names and order it \n",
    "\n",
    "roc_values = pd.Series(roc_values)\n",
    "roc_values.index = X_train_Scaled.columns\n",
    "roc_values.sort_values(ascending = False)"
   ]
  },
  {
   "cell_type": "code",
   "execution_count": null,
   "id": "5ae54f3c",
   "metadata": {},
   "outputs": [],
   "source": [
    "# Let's plot it\n",
    "\n",
    "roc_values.sort_values(ascending = False).plot.bar(figsize = (20, 8))"
   ]
  },
  {
   "cell_type": "code",
   "execution_count": 57,
   "id": "31dad5ba",
   "metadata": {
    "scrolled": true
   },
   "outputs": [],
   "source": [
    "# Selecting roc values more than 0.5\n",
    "\n",
    "final_cols = roc_values[roc_values > 0.5]"
   ]
  },
  {
   "cell_type": "code",
   "execution_count": 58,
   "id": "e1724e86",
   "metadata": {},
   "outputs": [],
   "source": [
    "# converting col names in index to list\n",
    "\n",
    "lst = final_cols.index.tolist()"
   ]
  },
  {
   "cell_type": "code",
   "execution_count": 59,
   "id": "5ed07c67",
   "metadata": {
    "scrolled": true
   },
   "outputs": [
    {
     "data": {
      "text/plain": [
       "28"
      ]
     },
     "execution_count": 59,
     "metadata": {},
     "output_type": "execute_result"
    }
   ],
   "source": [
    "len(lst)"
   ]
  },
  {
   "cell_type": "code",
   "execution_count": 327,
   "id": "1932358b",
   "metadata": {},
   "outputs": [],
   "source": [
    "# Creating pruned dataset for modelling\n",
    "\n",
    "X_train_Scaled_Select = X_train_Scaled[X_train_Scaled.columns.intersection(lst)]"
   ]
  },
  {
   "cell_type": "code",
   "execution_count": 328,
   "id": "f02fffa4",
   "metadata": {},
   "outputs": [
    {
     "data": {
      "text/plain": [
       "(720000, 28)"
      ]
     },
     "execution_count": 328,
     "metadata": {},
     "output_type": "execute_result"
    }
   ],
   "source": [
    "X_train_Scaled_Select.shape"
   ]
  },
  {
   "cell_type": "code",
   "execution_count": 329,
   "id": "c6032423",
   "metadata": {},
   "outputs": [
    {
     "data": {
      "text/html": [
       "<div>\n",
       "<style scoped>\n",
       "    .dataframe tbody tr th:only-of-type {\n",
       "        vertical-align: middle;\n",
       "    }\n",
       "\n",
       "    .dataframe tbody tr th {\n",
       "        vertical-align: top;\n",
       "    }\n",
       "\n",
       "    .dataframe thead th {\n",
       "        text-align: right;\n",
       "    }\n",
       "</style>\n",
       "<table border=\"1\" class=\"dataframe\">\n",
       "  <thead>\n",
       "    <tr style=\"text-align: right;\">\n",
       "      <th></th>\n",
       "      <th>f_00</th>\n",
       "      <th>f_01</th>\n",
       "      <th>f_02</th>\n",
       "      <th>f_03</th>\n",
       "      <th>f_05</th>\n",
       "      <th>f_07</th>\n",
       "      <th>f_08</th>\n",
       "      <th>f_09</th>\n",
       "      <th>f_10</th>\n",
       "      <th>f_11</th>\n",
       "      <th>...</th>\n",
       "      <th>f_20</th>\n",
       "      <th>f_21</th>\n",
       "      <th>f_22</th>\n",
       "      <th>f_23</th>\n",
       "      <th>f_24</th>\n",
       "      <th>f_25</th>\n",
       "      <th>f_26</th>\n",
       "      <th>f_28</th>\n",
       "      <th>f_29</th>\n",
       "      <th>f_30</th>\n",
       "    </tr>\n",
       "  </thead>\n",
       "  <tbody>\n",
       "    <tr>\n",
       "      <th>0</th>\n",
       "      <td>-0.500706</td>\n",
       "      <td>-0.997495</td>\n",
       "      <td>-0.668266</td>\n",
       "      <td>1.630252</td>\n",
       "      <td>-0.592069</td>\n",
       "      <td>-0.019084</td>\n",
       "      <td>-1.293108</td>\n",
       "      <td>-0.831253</td>\n",
       "      <td>0.499772</td>\n",
       "      <td>2.080197</td>\n",
       "      <td>...</td>\n",
       "      <td>0.314782</td>\n",
       "      <td>-0.523351</td>\n",
       "      <td>2.079403</td>\n",
       "      <td>-0.306069</td>\n",
       "      <td>0.051074</td>\n",
       "      <td>2.060358</td>\n",
       "      <td>2.355760</td>\n",
       "      <td>0.265866</td>\n",
       "      <td>-0.727101</td>\n",
       "      <td>1.217500</td>\n",
       "    </tr>\n",
       "    <tr>\n",
       "      <th>1</th>\n",
       "      <td>1.854109</td>\n",
       "      <td>-0.503258</td>\n",
       "      <td>-0.935034</td>\n",
       "      <td>-1.071374</td>\n",
       "      <td>-0.776155</td>\n",
       "      <td>-0.623147</td>\n",
       "      <td>-0.665271</td>\n",
       "      <td>1.611945</td>\n",
       "      <td>-0.715769</td>\n",
       "      <td>-0.522682</td>\n",
       "      <td>...</td>\n",
       "      <td>0.532448</td>\n",
       "      <td>1.857296</td>\n",
       "      <td>-0.571736</td>\n",
       "      <td>0.100937</td>\n",
       "      <td>0.672169</td>\n",
       "      <td>-0.550621</td>\n",
       "      <td>-0.075438</td>\n",
       "      <td>0.201621</td>\n",
       "      <td>-0.727101</td>\n",
       "      <td>1.217500</td>\n",
       "    </tr>\n",
       "    <tr>\n",
       "      <th>2</th>\n",
       "      <td>-0.059074</td>\n",
       "      <td>-0.110854</td>\n",
       "      <td>1.580628</td>\n",
       "      <td>0.863962</td>\n",
       "      <td>-0.235458</td>\n",
       "      <td>-0.623147</td>\n",
       "      <td>0.590402</td>\n",
       "      <td>-0.220454</td>\n",
       "      <td>1.715314</td>\n",
       "      <td>-0.522682</td>\n",
       "      <td>...</td>\n",
       "      <td>0.912874</td>\n",
       "      <td>0.365212</td>\n",
       "      <td>-0.275273</td>\n",
       "      <td>-0.413301</td>\n",
       "      <td>0.095002</td>\n",
       "      <td>-1.167917</td>\n",
       "      <td>-0.474595</td>\n",
       "      <td>0.385582</td>\n",
       "      <td>-0.727101</td>\n",
       "      <td>-0.003723</td>\n",
       "    </tr>\n",
       "    <tr>\n",
       "      <th>3</th>\n",
       "      <td>-0.276649</td>\n",
       "      <td>-0.673160</td>\n",
       "      <td>0.498425</td>\n",
       "      <td>-0.710127</td>\n",
       "      <td>0.152418</td>\n",
       "      <td>-1.227209</td>\n",
       "      <td>-0.665271</td>\n",
       "      <td>1.611945</td>\n",
       "      <td>1.715314</td>\n",
       "      <td>-0.522682</td>\n",
       "      <td>...</td>\n",
       "      <td>-0.172578</td>\n",
       "      <td>-0.806208</td>\n",
       "      <td>-0.962069</td>\n",
       "      <td>0.142621</td>\n",
       "      <td>-1.018954</td>\n",
       "      <td>-1.209878</td>\n",
       "      <td>-0.546179</td>\n",
       "      <td>-0.634188</td>\n",
       "      <td>-0.727101</td>\n",
       "      <td>-0.003723</td>\n",
       "    </tr>\n",
       "    <tr>\n",
       "      <th>4</th>\n",
       "      <td>-1.305217</td>\n",
       "      <td>0.606738</td>\n",
       "      <td>1.462706</td>\n",
       "      <td>-0.268013</td>\n",
       "      <td>-0.354395</td>\n",
       "      <td>2.397166</td>\n",
       "      <td>-0.665271</td>\n",
       "      <td>1.611945</td>\n",
       "      <td>1.107543</td>\n",
       "      <td>-1.173401</td>\n",
       "      <td>...</td>\n",
       "      <td>-0.074537</td>\n",
       "      <td>-0.337579</td>\n",
       "      <td>-2.530096</td>\n",
       "      <td>1.764976</td>\n",
       "      <td>-0.764114</td>\n",
       "      <td>-0.552118</td>\n",
       "      <td>0.282290</td>\n",
       "      <td>-0.988815</td>\n",
       "      <td>-0.727101</td>\n",
       "      <td>-1.224946</td>\n",
       "    </tr>\n",
       "  </tbody>\n",
       "</table>\n",
       "<p>5 rows × 28 columns</p>\n",
       "</div>"
      ],
      "text/plain": [
       "       f_00      f_01      f_02      f_03      f_05      f_07      f_08  \\\n",
       "0 -0.500706 -0.997495 -0.668266  1.630252 -0.592069 -0.019084 -1.293108   \n",
       "1  1.854109 -0.503258 -0.935034 -1.071374 -0.776155 -0.623147 -0.665271   \n",
       "2 -0.059074 -0.110854  1.580628  0.863962 -0.235458 -0.623147  0.590402   \n",
       "3 -0.276649 -0.673160  0.498425 -0.710127  0.152418 -1.227209 -0.665271   \n",
       "4 -1.305217  0.606738  1.462706 -0.268013 -0.354395  2.397166 -0.665271   \n",
       "\n",
       "       f_09      f_10      f_11  ...      f_20      f_21      f_22      f_23  \\\n",
       "0 -0.831253  0.499772  2.080197  ...  0.314782 -0.523351  2.079403 -0.306069   \n",
       "1  1.611945 -0.715769 -0.522682  ...  0.532448  1.857296 -0.571736  0.100937   \n",
       "2 -0.220454  1.715314 -0.522682  ...  0.912874  0.365212 -0.275273 -0.413301   \n",
       "3  1.611945  1.715314 -0.522682  ... -0.172578 -0.806208 -0.962069  0.142621   \n",
       "4  1.611945  1.107543 -1.173401  ... -0.074537 -0.337579 -2.530096  1.764976   \n",
       "\n",
       "       f_24      f_25      f_26      f_28      f_29      f_30  \n",
       "0  0.051074  2.060358  2.355760  0.265866 -0.727101  1.217500  \n",
       "1  0.672169 -0.550621 -0.075438  0.201621 -0.727101  1.217500  \n",
       "2  0.095002 -1.167917 -0.474595  0.385582 -0.727101 -0.003723  \n",
       "3 -1.018954 -1.209878 -0.546179 -0.634188 -0.727101 -0.003723  \n",
       "4 -0.764114 -0.552118  0.282290 -0.988815 -0.727101 -1.224946  \n",
       "\n",
       "[5 rows x 28 columns]"
      ]
     },
     "execution_count": 329,
     "metadata": {},
     "output_type": "execute_result"
    }
   ],
   "source": [
    "X_train_Scaled_Select.head()"
   ]
  },
  {
   "cell_type": "code",
   "execution_count": 330,
   "id": "bab33392",
   "metadata": {},
   "outputs": [],
   "source": [
    "# Creating pruned validation set for modelling\n",
    "\n",
    "X_validation__Scaled_Select = X_validation_Scaled[X_validation_Scaled.columns.intersection(lst)]"
   ]
  },
  {
   "cell_type": "code",
   "execution_count": 331,
   "id": "e0f09d02",
   "metadata": {
    "scrolled": true
   },
   "outputs": [],
   "source": [
    "# Check for features having a constant value\n",
    "\n",
    "constant_features = [\n",
    "    col for col in X_train_Scaled_Select.columns if X_train_Scaled_Select[col].nunique()== 1\n",
    "]"
   ]
  },
  {
   "cell_type": "code",
   "execution_count": 332,
   "id": "d207db32",
   "metadata": {},
   "outputs": [
    {
     "data": {
      "text/plain": [
       "0"
      ]
     },
     "execution_count": 332,
     "metadata": {},
     "output_type": "execute_result"
    }
   ],
   "source": [
    "len(constant_features)"
   ]
  },
  {
   "cell_type": "code",
   "execution_count": 333,
   "id": "f591afdb",
   "metadata": {},
   "outputs": [],
   "source": [
    "# Using Variance threshold to remove Quasi-Constant features\n",
    "\n",
    "from sklearn.feature_selection import VarianceThreshold"
   ]
  },
  {
   "cell_type": "code",
   "execution_count": 254,
   "id": "47d61e1b",
   "metadata": {},
   "outputs": [
    {
     "data": {
      "text/html": [
       "<style>#sk-container-id-7 {color: black;background-color: white;}#sk-container-id-7 pre{padding: 0;}#sk-container-id-7 div.sk-toggleable {background-color: white;}#sk-container-id-7 label.sk-toggleable__label {cursor: pointer;display: block;width: 100%;margin-bottom: 0;padding: 0.3em;box-sizing: border-box;text-align: center;}#sk-container-id-7 label.sk-toggleable__label-arrow:before {content: \"▸\";float: left;margin-right: 0.25em;color: #696969;}#sk-container-id-7 label.sk-toggleable__label-arrow:hover:before {color: black;}#sk-container-id-7 div.sk-estimator:hover label.sk-toggleable__label-arrow:before {color: black;}#sk-container-id-7 div.sk-toggleable__content {max-height: 0;max-width: 0;overflow: hidden;text-align: left;background-color: #f0f8ff;}#sk-container-id-7 div.sk-toggleable__content pre {margin: 0.2em;color: black;border-radius: 0.25em;background-color: #f0f8ff;}#sk-container-id-7 input.sk-toggleable__control:checked~div.sk-toggleable__content {max-height: 200px;max-width: 100%;overflow: auto;}#sk-container-id-7 input.sk-toggleable__control:checked~label.sk-toggleable__label-arrow:before {content: \"▾\";}#sk-container-id-7 div.sk-estimator input.sk-toggleable__control:checked~label.sk-toggleable__label {background-color: #d4ebff;}#sk-container-id-7 div.sk-label input.sk-toggleable__control:checked~label.sk-toggleable__label {background-color: #d4ebff;}#sk-container-id-7 input.sk-hidden--visually {border: 0;clip: rect(1px 1px 1px 1px);clip: rect(1px, 1px, 1px, 1px);height: 1px;margin: -1px;overflow: hidden;padding: 0;position: absolute;width: 1px;}#sk-container-id-7 div.sk-estimator {font-family: monospace;background-color: #f0f8ff;border: 1px dotted black;border-radius: 0.25em;box-sizing: border-box;margin-bottom: 0.5em;}#sk-container-id-7 div.sk-estimator:hover {background-color: #d4ebff;}#sk-container-id-7 div.sk-parallel-item::after {content: \"\";width: 100%;border-bottom: 1px solid gray;flex-grow: 1;}#sk-container-id-7 div.sk-label:hover label.sk-toggleable__label {background-color: #d4ebff;}#sk-container-id-7 div.sk-serial::before {content: \"\";position: absolute;border-left: 1px solid gray;box-sizing: border-box;top: 0;bottom: 0;left: 50%;z-index: 0;}#sk-container-id-7 div.sk-serial {display: flex;flex-direction: column;align-items: center;background-color: white;padding-right: 0.2em;padding-left: 0.2em;position: relative;}#sk-container-id-7 div.sk-item {position: relative;z-index: 1;}#sk-container-id-7 div.sk-parallel {display: flex;align-items: stretch;justify-content: center;background-color: white;position: relative;}#sk-container-id-7 div.sk-item::before, #sk-container-id-7 div.sk-parallel-item::before {content: \"\";position: absolute;border-left: 1px solid gray;box-sizing: border-box;top: 0;bottom: 0;left: 50%;z-index: -1;}#sk-container-id-7 div.sk-parallel-item {display: flex;flex-direction: column;z-index: 1;position: relative;background-color: white;}#sk-container-id-7 div.sk-parallel-item:first-child::after {align-self: flex-end;width: 50%;}#sk-container-id-7 div.sk-parallel-item:last-child::after {align-self: flex-start;width: 50%;}#sk-container-id-7 div.sk-parallel-item:only-child::after {width: 0;}#sk-container-id-7 div.sk-dashed-wrapped {border: 1px dashed gray;margin: 0 0.4em 0.5em 0.4em;box-sizing: border-box;padding-bottom: 0.4em;background-color: white;}#sk-container-id-7 div.sk-label label {font-family: monospace;font-weight: bold;display: inline-block;line-height: 1.2em;}#sk-container-id-7 div.sk-label-container {text-align: center;}#sk-container-id-7 div.sk-container {/* jupyter's `normalize.less` sets `[hidden] { display: none; }` but bootstrap.min.css set `[hidden] { display: none !important; }` so we also need the `!important` here to be able to override the default hidden behavior on the sphinx rendered scikit-learn.org. See: https://github.com/scikit-learn/scikit-learn/issues/21755 */display: inline-block !important;position: relative;}#sk-container-id-7 div.sk-text-repr-fallback {display: none;}</style><div id=\"sk-container-id-7\" class=\"sk-top-container\"><div class=\"sk-text-repr-fallback\"><pre>VarianceThreshold(threshold=0.01)</pre><b>In a Jupyter environment, please rerun this cell to show the HTML representation or trust the notebook. <br />On GitHub, the HTML representation is unable to render, please try loading this page with nbviewer.org.</b></div><div class=\"sk-container\" hidden><div class=\"sk-item\"><div class=\"sk-estimator sk-toggleable\"><input class=\"sk-toggleable__control sk-hidden--visually\" id=\"sk-estimator-id-9\" type=\"checkbox\" checked><label for=\"sk-estimator-id-9\" class=\"sk-toggleable__label sk-toggleable__label-arrow\">VarianceThreshold</label><div class=\"sk-toggleable__content\"><pre>VarianceThreshold(threshold=0.01)</pre></div></div></div></div></div>"
      ],
      "text/plain": [
       "VarianceThreshold(threshold=0.01)"
      ]
     },
     "execution_count": 254,
     "metadata": {},
     "output_type": "execute_result"
    }
   ],
   "source": [
    "sel = VarianceThreshold(threshold = 0.01)\n",
    "\n",
    "sel.fit(X_train_Scaled_Select)"
   ]
  },
  {
   "cell_type": "code",
   "execution_count": 255,
   "id": "263a7b21",
   "metadata": {},
   "outputs": [
    {
     "data": {
      "text/plain": [
       "0"
      ]
     },
     "execution_count": 255,
     "metadata": {},
     "output_type": "execute_result"
    }
   ],
   "source": [
    "# number of columns to be dropped\n",
    "\n",
    "sum(~sel.get_support())"
   ]
  },
  {
   "cell_type": "code",
   "execution_count": 256,
   "id": "fb9c988a",
   "metadata": {},
   "outputs": [],
   "source": [
    "# Check for Duplicate Feartures\n",
    "\n",
    "duplicated_feat_pairs = {} #empty dictionary to store groups of duplicates\n",
    "\n",
    "_duplicated_feat = [] #empty list to collect features that are found to be duplicated"
   ]
  },
  {
   "cell_type": "code",
   "execution_count": 257,
   "id": "6aa9d03b",
   "metadata": {},
   "outputs": [],
   "source": [
    "# now iterate over feature in the dataset\n",
    "\n",
    "for i in range(0, len(X_train_Scaled_Select.columns)):\n",
    "    feat_1 = X_train_Scaled_Select.columns[i] \n",
    "    \n",
    "#check if this feature was already identified as a duplicate (should be present in _duplicated_feat). \n",
    "#If yes, we skip it, else we proceed.\n",
    "    \n",
    "    if feat_1 not in _duplicated_feat:\n",
    "        # create an empty list as an entry for this feature in the dictionary\n",
    "        duplicated_feat_pairs[feat_1] = []\n",
    "        \n",
    "        # now iterate over the remaining features of the dataset\n",
    "        for feat_2 in X_train_Scaled_Select.columns[i + 1:]:\n",
    "            \n",
    "            #check if this second feature is identical to the first one\n",
    "            if X_train_Scaled_Select[feat_1].equals(X_train_Scaled_Select[feat_2]):\n",
    "                \n",
    "                # if it is identical then append it to the list in dictionary\n",
    "                duplicated_feat_pairs[feat_1].append(feat_2)\n",
    "                \n",
    "                # and append it to our monitor list for duplicated variables\n",
    "                _duplicated_feat.append(feat_2)       "
   ]
  },
  {
   "cell_type": "code",
   "execution_count": 258,
   "id": "ca20305c",
   "metadata": {},
   "outputs": [
    {
     "data": {
      "text/plain": [
       "0"
      ]
     },
     "execution_count": 258,
     "metadata": {},
     "output_type": "execute_result"
    }
   ],
   "source": [
    "# list of duplicated features\n",
    "\n",
    "len(_duplicated_feat)"
   ]
  },
  {
   "cell_type": "markdown",
   "id": "b38b974c",
   "metadata": {},
   "source": [
    "# Modelling - XGBoost algo"
   ]
  },
  {
   "cell_type": "code",
   "execution_count": 70,
   "id": "c9e1f492",
   "metadata": {},
   "outputs": [],
   "source": [
    "import xgboost as xgb\n",
    "\n",
    "xgb_cl = xgb.XGBClassifier()"
   ]
  },
  {
   "cell_type": "code",
   "execution_count": 335,
   "id": "5e926fc7",
   "metadata": {},
   "outputs": [
    {
     "name": "stderr",
     "output_type": "stream",
     "text": [
      "C:\\Users\\nishantjairath\\Anaconda3\\lib\\site-packages\\xgboost\\sklearn.py:1224: UserWarning: The use of label encoder in XGBClassifier is deprecated and will be removed in a future release. To remove this warning, do the following: 1) Pass option use_label_encoder=False when constructing XGBClassifier object; and 2) Encode your labels (y) as integers starting with 0, i.e. 0, 1, 2, ..., [num_class - 1].\n",
      "  warnings.warn(label_encoder_deprecation_msg, UserWarning)\n"
     ]
    },
    {
     "name": "stdout",
     "output_type": "stream",
     "text": [
      "[08:15:15] WARNING: C:/Users/Administrator/workspace/xgboost-win64_release_1.5.0/src/learner.cc:1115: Starting in XGBoost 1.3.0, the default evaluation metric used with the objective 'binary:logistic' was changed from 'error' to 'logloss'. Explicitly set eval_metric if you'd like to restore the old behavior.\n"
     ]
    },
    {
     "data": {
      "text/html": [
       "<style>#sk-container-id-9 {color: black;background-color: white;}#sk-container-id-9 pre{padding: 0;}#sk-container-id-9 div.sk-toggleable {background-color: white;}#sk-container-id-9 label.sk-toggleable__label {cursor: pointer;display: block;width: 100%;margin-bottom: 0;padding: 0.3em;box-sizing: border-box;text-align: center;}#sk-container-id-9 label.sk-toggleable__label-arrow:before {content: \"▸\";float: left;margin-right: 0.25em;color: #696969;}#sk-container-id-9 label.sk-toggleable__label-arrow:hover:before {color: black;}#sk-container-id-9 div.sk-estimator:hover label.sk-toggleable__label-arrow:before {color: black;}#sk-container-id-9 div.sk-toggleable__content {max-height: 0;max-width: 0;overflow: hidden;text-align: left;background-color: #f0f8ff;}#sk-container-id-9 div.sk-toggleable__content pre {margin: 0.2em;color: black;border-radius: 0.25em;background-color: #f0f8ff;}#sk-container-id-9 input.sk-toggleable__control:checked~div.sk-toggleable__content {max-height: 200px;max-width: 100%;overflow: auto;}#sk-container-id-9 input.sk-toggleable__control:checked~label.sk-toggleable__label-arrow:before {content: \"▾\";}#sk-container-id-9 div.sk-estimator input.sk-toggleable__control:checked~label.sk-toggleable__label {background-color: #d4ebff;}#sk-container-id-9 div.sk-label input.sk-toggleable__control:checked~label.sk-toggleable__label {background-color: #d4ebff;}#sk-container-id-9 input.sk-hidden--visually {border: 0;clip: rect(1px 1px 1px 1px);clip: rect(1px, 1px, 1px, 1px);height: 1px;margin: -1px;overflow: hidden;padding: 0;position: absolute;width: 1px;}#sk-container-id-9 div.sk-estimator {font-family: monospace;background-color: #f0f8ff;border: 1px dotted black;border-radius: 0.25em;box-sizing: border-box;margin-bottom: 0.5em;}#sk-container-id-9 div.sk-estimator:hover {background-color: #d4ebff;}#sk-container-id-9 div.sk-parallel-item::after {content: \"\";width: 100%;border-bottom: 1px solid gray;flex-grow: 1;}#sk-container-id-9 div.sk-label:hover label.sk-toggleable__label {background-color: #d4ebff;}#sk-container-id-9 div.sk-serial::before {content: \"\";position: absolute;border-left: 1px solid gray;box-sizing: border-box;top: 0;bottom: 0;left: 50%;z-index: 0;}#sk-container-id-9 div.sk-serial {display: flex;flex-direction: column;align-items: center;background-color: white;padding-right: 0.2em;padding-left: 0.2em;position: relative;}#sk-container-id-9 div.sk-item {position: relative;z-index: 1;}#sk-container-id-9 div.sk-parallel {display: flex;align-items: stretch;justify-content: center;background-color: white;position: relative;}#sk-container-id-9 div.sk-item::before, #sk-container-id-9 div.sk-parallel-item::before {content: \"\";position: absolute;border-left: 1px solid gray;box-sizing: border-box;top: 0;bottom: 0;left: 50%;z-index: -1;}#sk-container-id-9 div.sk-parallel-item {display: flex;flex-direction: column;z-index: 1;position: relative;background-color: white;}#sk-container-id-9 div.sk-parallel-item:first-child::after {align-self: flex-end;width: 50%;}#sk-container-id-9 div.sk-parallel-item:last-child::after {align-self: flex-start;width: 50%;}#sk-container-id-9 div.sk-parallel-item:only-child::after {width: 0;}#sk-container-id-9 div.sk-dashed-wrapped {border: 1px dashed gray;margin: 0 0.4em 0.5em 0.4em;box-sizing: border-box;padding-bottom: 0.4em;background-color: white;}#sk-container-id-9 div.sk-label label {font-family: monospace;font-weight: bold;display: inline-block;line-height: 1.2em;}#sk-container-id-9 div.sk-label-container {text-align: center;}#sk-container-id-9 div.sk-container {/* jupyter's `normalize.less` sets `[hidden] { display: none; }` but bootstrap.min.css set `[hidden] { display: none !important; }` so we also need the `!important` here to be able to override the default hidden behavior on the sphinx rendered scikit-learn.org. See: https://github.com/scikit-learn/scikit-learn/issues/21755 */display: inline-block !important;position: relative;}#sk-container-id-9 div.sk-text-repr-fallback {display: none;}</style><div id=\"sk-container-id-9\" class=\"sk-top-container\"><div class=\"sk-text-repr-fallback\"><pre>XGBClassifier(base_score=0.5, booster=&#x27;gbtree&#x27;, colsample_bylevel=1,\n",
       "              colsample_bynode=1, colsample_bytree=1, enable_categorical=False,\n",
       "              gamma=0, gpu_id=-1, importance_type=None,\n",
       "              interaction_constraints=&#x27;&#x27;, learning_rate=0.300000012,\n",
       "              max_delta_step=0, max_depth=6, min_child_weight=1, missing=nan,\n",
       "              monotone_constraints=&#x27;()&#x27;, n_estimators=100, n_jobs=8,\n",
       "              num_parallel_tree=1, predictor=&#x27;auto&#x27;, random_state=0,\n",
       "              reg_alpha=0, reg_lambda=1, scale_pos_weight=1, subsample=1,\n",
       "              tree_method=&#x27;exact&#x27;, validate_parameters=1, verbosity=None)</pre><b>In a Jupyter environment, please rerun this cell to show the HTML representation or trust the notebook. <br />On GitHub, the HTML representation is unable to render, please try loading this page with nbviewer.org.</b></div><div class=\"sk-container\" hidden><div class=\"sk-item\"><div class=\"sk-estimator sk-toggleable\"><input class=\"sk-toggleable__control sk-hidden--visually\" id=\"sk-estimator-id-11\" type=\"checkbox\" checked><label for=\"sk-estimator-id-11\" class=\"sk-toggleable__label sk-toggleable__label-arrow\">XGBClassifier</label><div class=\"sk-toggleable__content\"><pre>XGBClassifier(base_score=0.5, booster=&#x27;gbtree&#x27;, colsample_bylevel=1,\n",
       "              colsample_bynode=1, colsample_bytree=1, enable_categorical=False,\n",
       "              gamma=0, gpu_id=-1, importance_type=None,\n",
       "              interaction_constraints=&#x27;&#x27;, learning_rate=0.300000012,\n",
       "              max_delta_step=0, max_depth=6, min_child_weight=1, missing=nan,\n",
       "              monotone_constraints=&#x27;()&#x27;, n_estimators=100, n_jobs=8,\n",
       "              num_parallel_tree=1, predictor=&#x27;auto&#x27;, random_state=0,\n",
       "              reg_alpha=0, reg_lambda=1, scale_pos_weight=1, subsample=1,\n",
       "              tree_method=&#x27;exact&#x27;, validate_parameters=1, verbosity=None)</pre></div></div></div></div></div>"
      ],
      "text/plain": [
       "XGBClassifier(base_score=0.5, booster='gbtree', colsample_bylevel=1,\n",
       "              colsample_bynode=1, colsample_bytree=1, enable_categorical=False,\n",
       "              gamma=0, gpu_id=-1, importance_type=None,\n",
       "              interaction_constraints='', learning_rate=0.300000012,\n",
       "              max_delta_step=0, max_depth=6, min_child_weight=1, missing=nan,\n",
       "              monotone_constraints='()', n_estimators=100, n_jobs=8,\n",
       "              num_parallel_tree=1, predictor='auto', random_state=0,\n",
       "              reg_alpha=0, reg_lambda=1, scale_pos_weight=1, subsample=1,\n",
       "              tree_method='exact', validate_parameters=1, verbosity=None)"
      ]
     },
     "execution_count": 335,
     "metadata": {},
     "output_type": "execute_result"
    }
   ],
   "source": [
    "xgb_cl.fit(X_train_Scaled_Select, y_train)"
   ]
  },
  {
   "cell_type": "code",
   "execution_count": 336,
   "id": "ec90a830",
   "metadata": {},
   "outputs": [],
   "source": [
    "xgb_prediction = xgb_cl.predict(X_validation__Scaled_Select)"
   ]
  },
  {
   "cell_type": "code",
   "execution_count": 340,
   "id": "95628b88",
   "metadata": {},
   "outputs": [
    {
     "data": {
      "text/plain": [
       "0.8456833333333333"
      ]
     },
     "execution_count": 340,
     "metadata": {},
     "output_type": "execute_result"
    }
   ],
   "source": [
    "# Checking accuracy for XGB model\n",
    "\n",
    "from sklearn.metrics import accuracy_score\n",
    "accuracy_score(y_validation, xgb_prediction)"
   ]
  },
  {
   "cell_type": "code",
   "execution_count": null,
   "id": "ab1b00fb",
   "metadata": {},
   "outputs": [],
   "source": [
    "# Training XGB on whole training dataset"
   ]
  },
  {
   "cell_type": "code",
   "execution_count": 60,
   "id": "c24a4dda",
   "metadata": {
    "scrolled": true
   },
   "outputs": [],
   "source": [
    "# dropping the income_cat attribute to get the original form of data\n",
    "\n",
    "df_train.drop('f_21_cat', axis = 1, inplace = True)"
   ]
  },
  {
   "cell_type": "code",
   "execution_count": 61,
   "id": "4e3634c2",
   "metadata": {},
   "outputs": [],
   "source": [
    "#Label encoding for categorical variables (data_type as 'óbject')\n",
    "\n",
    "for colname in df_train.select_dtypes('object'):\n",
    "    df_train[colname], _ = df_train[colname].factorize()\n"
   ]
  },
  {
   "cell_type": "code",
   "execution_count": 62,
   "id": "9467cb21",
   "metadata": {},
   "outputs": [],
   "source": [
    "# Splitting data into Train and Test\n",
    "\n",
    "X_train= df_train.drop('target', axis = 1)\n",
    "y_train = df_train['target'].copy()"
   ]
  },
  {
   "cell_type": "code",
   "execution_count": 63,
   "id": "39f6fa29",
   "metadata": {},
   "outputs": [],
   "source": [
    "# Saving col names\n",
    "cols = (X_train.columns).tolist()"
   ]
  },
  {
   "cell_type": "code",
   "execution_count": 64,
   "id": "896691b6",
   "metadata": {},
   "outputs": [],
   "source": [
    "# Scaling Training data set\n",
    "\n",
    "X_train_Scaled = std_scaler.fit_transform(X_train)"
   ]
  },
  {
   "cell_type": "code",
   "execution_count": 65,
   "id": "dce39f6f",
   "metadata": {},
   "outputs": [],
   "source": [
    "X_train_Scaled = pd.DataFrame(X_train_Scaled)"
   ]
  },
  {
   "cell_type": "code",
   "execution_count": 66,
   "id": "f06d4e88",
   "metadata": {},
   "outputs": [],
   "source": [
    "# Renaming the cols\n",
    "\n",
    "X_train_Scaled.columns = cols"
   ]
  },
  {
   "cell_type": "code",
   "execution_count": 67,
   "id": "1d4566d2",
   "metadata": {},
   "outputs": [],
   "source": [
    "# Creating pruned dataset for modelling\n",
    "\n",
    "X_train_Scaled_Select = X_train_Scaled[X_train_Scaled.columns.intersection(lst)]"
   ]
  },
  {
   "cell_type": "code",
   "execution_count": 68,
   "id": "0009d0b8",
   "metadata": {},
   "outputs": [
    {
     "data": {
      "text/plain": [
       "(900000, 28)"
      ]
     },
     "execution_count": 68,
     "metadata": {},
     "output_type": "execute_result"
    }
   ],
   "source": [
    "X_train_Scaled_Select.shape"
   ]
  },
  {
   "cell_type": "code",
   "execution_count": 71,
   "id": "d085788b",
   "metadata": {},
   "outputs": [
    {
     "name": "stderr",
     "output_type": "stream",
     "text": [
      "C:\\Users\\nishantjairath\\Anaconda3\\lib\\site-packages\\xgboost\\sklearn.py:1224: UserWarning: The use of label encoder in XGBClassifier is deprecated and will be removed in a future release. To remove this warning, do the following: 1) Pass option use_label_encoder=False when constructing XGBClassifier object; and 2) Encode your labels (y) as integers starting with 0, i.e. 0, 1, 2, ..., [num_class - 1].\n",
      "  warnings.warn(label_encoder_deprecation_msg, UserWarning)\n"
     ]
    },
    {
     "name": "stdout",
     "output_type": "stream",
     "text": [
      "[03:09:51] WARNING: C:/Users/Administrator/workspace/xgboost-win64_release_1.5.0/src/learner.cc:1115: Starting in XGBoost 1.3.0, the default evaluation metric used with the objective 'binary:logistic' was changed from 'error' to 'logloss'. Explicitly set eval_metric if you'd like to restore the old behavior.\n"
     ]
    },
    {
     "data": {
      "text/html": [
       "<style>#sk-container-id-1 {color: black;background-color: white;}#sk-container-id-1 pre{padding: 0;}#sk-container-id-1 div.sk-toggleable {background-color: white;}#sk-container-id-1 label.sk-toggleable__label {cursor: pointer;display: block;width: 100%;margin-bottom: 0;padding: 0.3em;box-sizing: border-box;text-align: center;}#sk-container-id-1 label.sk-toggleable__label-arrow:before {content: \"▸\";float: left;margin-right: 0.25em;color: #696969;}#sk-container-id-1 label.sk-toggleable__label-arrow:hover:before {color: black;}#sk-container-id-1 div.sk-estimator:hover label.sk-toggleable__label-arrow:before {color: black;}#sk-container-id-1 div.sk-toggleable__content {max-height: 0;max-width: 0;overflow: hidden;text-align: left;background-color: #f0f8ff;}#sk-container-id-1 div.sk-toggleable__content pre {margin: 0.2em;color: black;border-radius: 0.25em;background-color: #f0f8ff;}#sk-container-id-1 input.sk-toggleable__control:checked~div.sk-toggleable__content {max-height: 200px;max-width: 100%;overflow: auto;}#sk-container-id-1 input.sk-toggleable__control:checked~label.sk-toggleable__label-arrow:before {content: \"▾\";}#sk-container-id-1 div.sk-estimator input.sk-toggleable__control:checked~label.sk-toggleable__label {background-color: #d4ebff;}#sk-container-id-1 div.sk-label input.sk-toggleable__control:checked~label.sk-toggleable__label {background-color: #d4ebff;}#sk-container-id-1 input.sk-hidden--visually {border: 0;clip: rect(1px 1px 1px 1px);clip: rect(1px, 1px, 1px, 1px);height: 1px;margin: -1px;overflow: hidden;padding: 0;position: absolute;width: 1px;}#sk-container-id-1 div.sk-estimator {font-family: monospace;background-color: #f0f8ff;border: 1px dotted black;border-radius: 0.25em;box-sizing: border-box;margin-bottom: 0.5em;}#sk-container-id-1 div.sk-estimator:hover {background-color: #d4ebff;}#sk-container-id-1 div.sk-parallel-item::after {content: \"\";width: 100%;border-bottom: 1px solid gray;flex-grow: 1;}#sk-container-id-1 div.sk-label:hover label.sk-toggleable__label {background-color: #d4ebff;}#sk-container-id-1 div.sk-serial::before {content: \"\";position: absolute;border-left: 1px solid gray;box-sizing: border-box;top: 0;bottom: 0;left: 50%;z-index: 0;}#sk-container-id-1 div.sk-serial {display: flex;flex-direction: column;align-items: center;background-color: white;padding-right: 0.2em;padding-left: 0.2em;position: relative;}#sk-container-id-1 div.sk-item {position: relative;z-index: 1;}#sk-container-id-1 div.sk-parallel {display: flex;align-items: stretch;justify-content: center;background-color: white;position: relative;}#sk-container-id-1 div.sk-item::before, #sk-container-id-1 div.sk-parallel-item::before {content: \"\";position: absolute;border-left: 1px solid gray;box-sizing: border-box;top: 0;bottom: 0;left: 50%;z-index: -1;}#sk-container-id-1 div.sk-parallel-item {display: flex;flex-direction: column;z-index: 1;position: relative;background-color: white;}#sk-container-id-1 div.sk-parallel-item:first-child::after {align-self: flex-end;width: 50%;}#sk-container-id-1 div.sk-parallel-item:last-child::after {align-self: flex-start;width: 50%;}#sk-container-id-1 div.sk-parallel-item:only-child::after {width: 0;}#sk-container-id-1 div.sk-dashed-wrapped {border: 1px dashed gray;margin: 0 0.4em 0.5em 0.4em;box-sizing: border-box;padding-bottom: 0.4em;background-color: white;}#sk-container-id-1 div.sk-label label {font-family: monospace;font-weight: bold;display: inline-block;line-height: 1.2em;}#sk-container-id-1 div.sk-label-container {text-align: center;}#sk-container-id-1 div.sk-container {/* jupyter's `normalize.less` sets `[hidden] { display: none; }` but bootstrap.min.css set `[hidden] { display: none !important; }` so we also need the `!important` here to be able to override the default hidden behavior on the sphinx rendered scikit-learn.org. See: https://github.com/scikit-learn/scikit-learn/issues/21755 */display: inline-block !important;position: relative;}#sk-container-id-1 div.sk-text-repr-fallback {display: none;}</style><div id=\"sk-container-id-1\" class=\"sk-top-container\"><div class=\"sk-text-repr-fallback\"><pre>XGBClassifier(base_score=0.5, booster=&#x27;gbtree&#x27;, colsample_bylevel=1,\n",
       "              colsample_bynode=1, colsample_bytree=1, enable_categorical=False,\n",
       "              gamma=0, gpu_id=-1, importance_type=None,\n",
       "              interaction_constraints=&#x27;&#x27;, learning_rate=0.300000012,\n",
       "              max_delta_step=0, max_depth=6, min_child_weight=1, missing=nan,\n",
       "              monotone_constraints=&#x27;()&#x27;, n_estimators=100, n_jobs=8,\n",
       "              num_parallel_tree=1, predictor=&#x27;auto&#x27;, random_state=0,\n",
       "              reg_alpha=0, reg_lambda=1, scale_pos_weight=1, subsample=1,\n",
       "              tree_method=&#x27;exact&#x27;, validate_parameters=1, verbosity=None)</pre><b>In a Jupyter environment, please rerun this cell to show the HTML representation or trust the notebook. <br />On GitHub, the HTML representation is unable to render, please try loading this page with nbviewer.org.</b></div><div class=\"sk-container\" hidden><div class=\"sk-item\"><div class=\"sk-estimator sk-toggleable\"><input class=\"sk-toggleable__control sk-hidden--visually\" id=\"sk-estimator-id-1\" type=\"checkbox\" checked><label for=\"sk-estimator-id-1\" class=\"sk-toggleable__label sk-toggleable__label-arrow\">XGBClassifier</label><div class=\"sk-toggleable__content\"><pre>XGBClassifier(base_score=0.5, booster=&#x27;gbtree&#x27;, colsample_bylevel=1,\n",
       "              colsample_bynode=1, colsample_bytree=1, enable_categorical=False,\n",
       "              gamma=0, gpu_id=-1, importance_type=None,\n",
       "              interaction_constraints=&#x27;&#x27;, learning_rate=0.300000012,\n",
       "              max_delta_step=0, max_depth=6, min_child_weight=1, missing=nan,\n",
       "              monotone_constraints=&#x27;()&#x27;, n_estimators=100, n_jobs=8,\n",
       "              num_parallel_tree=1, predictor=&#x27;auto&#x27;, random_state=0,\n",
       "              reg_alpha=0, reg_lambda=1, scale_pos_weight=1, subsample=1,\n",
       "              tree_method=&#x27;exact&#x27;, validate_parameters=1, verbosity=None)</pre></div></div></div></div></div>"
      ],
      "text/plain": [
       "XGBClassifier(base_score=0.5, booster='gbtree', colsample_bylevel=1,\n",
       "              colsample_bynode=1, colsample_bytree=1, enable_categorical=False,\n",
       "              gamma=0, gpu_id=-1, importance_type=None,\n",
       "              interaction_constraints='', learning_rate=0.300000012,\n",
       "              max_delta_step=0, max_depth=6, min_child_weight=1, missing=nan,\n",
       "              monotone_constraints='()', n_estimators=100, n_jobs=8,\n",
       "              num_parallel_tree=1, predictor='auto', random_state=0,\n",
       "              reg_alpha=0, reg_lambda=1, scale_pos_weight=1, subsample=1,\n",
       "              tree_method='exact', validate_parameters=1, verbosity=None)"
      ]
     },
     "execution_count": 71,
     "metadata": {},
     "output_type": "execute_result"
    }
   ],
   "source": [
    "# Fitting XGB to whole data set\n",
    "\n",
    "xgb_cl.fit(X_train_Scaled_Select, y_train)"
   ]
  },
  {
   "cell_type": "markdown",
   "id": "c49827d8",
   "metadata": {},
   "source": [
    "# Grid Search CV for XGB"
   ]
  },
  {
   "cell_type": "code",
   "execution_count": 94,
   "id": "94d69c12",
   "metadata": {},
   "outputs": [],
   "source": [
    "# Defining parameter grid for XGB\n",
    "\n",
    "params = {\n",
    "    'min_child_weight': [1, 5, 10],\n",
    "    'gamma': [0.5, 1, 1.5, 2, 5],\n",
    "    'subsample': [0.6, 0.8, 1],\n",
    "    'colsample_bytree': [0.6, 0.8, 1],\n",
    "    'max_depth': [3, 5, 7],\n",
    "    'max_delta_step': [1,3,5]\n",
    "}"
   ]
  },
  {
   "cell_type": "code",
   "execution_count": 95,
   "id": "f7d49a4e",
   "metadata": {},
   "outputs": [],
   "source": [
    "from xgboost import XGBClassifier\n",
    "\n",
    "xgb_v2 = XGBClassifier(learning_rate = 0.02, n_estimators = 600, objective = 'binary:logistic', silent = True, nthread = 1)"
   ]
  },
  {
   "cell_type": "code",
   "execution_count": 96,
   "id": "915a5f04",
   "metadata": {},
   "outputs": [],
   "source": [
    "from sklearn.model_selection import StratifiedKFold\n",
    "\n",
    "folds = 3\n",
    "param_comb = 5\n",
    "\n",
    "skf = StratifiedKFold(n_splits=folds, shuffle = True, random_state = 1001)"
   ]
  },
  {
   "cell_type": "code",
   "execution_count": 98,
   "id": "66fe4f99",
   "metadata": {},
   "outputs": [],
   "source": [
    "from sklearn.model_selection import RandomizedSearchCV, GridSearchCV\n",
    "\n",
    "random_search = RandomizedSearchCV(xgb_v2, param_distributions = params, n_iter = param_comb, scoring = 'roc_auc', n_jobs=4, cv=skf.split(X_train_Scaled_Select,y_train), verbose=3, random_state=1001)"
   ]
  },
  {
   "cell_type": "code",
   "execution_count": 99,
   "id": "e2a2cd47",
   "metadata": {
    "scrolled": true
   },
   "outputs": [
    {
     "name": "stdout",
     "output_type": "stream",
     "text": [
      "Fitting 3 folds for each of 5 candidates, totalling 15 fits\n"
     ]
    },
    {
     "name": "stderr",
     "output_type": "stream",
     "text": [
      "C:\\Users\\nishantjairath\\Anaconda3\\lib\\site-packages\\xgboost\\sklearn.py:1224: UserWarning: The use of label encoder in XGBClassifier is deprecated and will be removed in a future release. To remove this warning, do the following: 1) Pass option use_label_encoder=False when constructing XGBClassifier object; and 2) Encode your labels (y) as integers starting with 0, i.e. 0, 1, 2, ..., [num_class - 1].\n",
      "  warnings.warn(label_encoder_deprecation_msg, UserWarning)\n"
     ]
    },
    {
     "name": "stdout",
     "output_type": "stream",
     "text": [
      "[12:28:09] WARNING: C:/Users/Administrator/workspace/xgboost-win64_release_1.5.0/src/learner.cc:576: \n",
      "Parameters: { \"silent\" } might not be used.\n",
      "\n",
      "  This could be a false alarm, with some parameters getting used by language bindings but\n",
      "  then being mistakenly passed down to XGBoost core, or some parameter actually being used\n",
      "  but getting flagged wrongly here. Please open an issue if you find any such cases.\n",
      "\n",
      "\n",
      "[12:28:18] WARNING: C:/Users/Administrator/workspace/xgboost-win64_release_1.5.0/src/learner.cc:1115: Starting in XGBoost 1.3.0, the default evaluation metric used with the objective 'binary:logistic' was changed from 'error' to 'logloss'. Explicitly set eval_metric if you'd like to restore the old behavior.\n"
     ]
    },
    {
     "data": {
      "text/html": [
       "<style>#sk-container-id-2 {color: black;background-color: white;}#sk-container-id-2 pre{padding: 0;}#sk-container-id-2 div.sk-toggleable {background-color: white;}#sk-container-id-2 label.sk-toggleable__label {cursor: pointer;display: block;width: 100%;margin-bottom: 0;padding: 0.3em;box-sizing: border-box;text-align: center;}#sk-container-id-2 label.sk-toggleable__label-arrow:before {content: \"▸\";float: left;margin-right: 0.25em;color: #696969;}#sk-container-id-2 label.sk-toggleable__label-arrow:hover:before {color: black;}#sk-container-id-2 div.sk-estimator:hover label.sk-toggleable__label-arrow:before {color: black;}#sk-container-id-2 div.sk-toggleable__content {max-height: 0;max-width: 0;overflow: hidden;text-align: left;background-color: #f0f8ff;}#sk-container-id-2 div.sk-toggleable__content pre {margin: 0.2em;color: black;border-radius: 0.25em;background-color: #f0f8ff;}#sk-container-id-2 input.sk-toggleable__control:checked~div.sk-toggleable__content {max-height: 200px;max-width: 100%;overflow: auto;}#sk-container-id-2 input.sk-toggleable__control:checked~label.sk-toggleable__label-arrow:before {content: \"▾\";}#sk-container-id-2 div.sk-estimator input.sk-toggleable__control:checked~label.sk-toggleable__label {background-color: #d4ebff;}#sk-container-id-2 div.sk-label input.sk-toggleable__control:checked~label.sk-toggleable__label {background-color: #d4ebff;}#sk-container-id-2 input.sk-hidden--visually {border: 0;clip: rect(1px 1px 1px 1px);clip: rect(1px, 1px, 1px, 1px);height: 1px;margin: -1px;overflow: hidden;padding: 0;position: absolute;width: 1px;}#sk-container-id-2 div.sk-estimator {font-family: monospace;background-color: #f0f8ff;border: 1px dotted black;border-radius: 0.25em;box-sizing: border-box;margin-bottom: 0.5em;}#sk-container-id-2 div.sk-estimator:hover {background-color: #d4ebff;}#sk-container-id-2 div.sk-parallel-item::after {content: \"\";width: 100%;border-bottom: 1px solid gray;flex-grow: 1;}#sk-container-id-2 div.sk-label:hover label.sk-toggleable__label {background-color: #d4ebff;}#sk-container-id-2 div.sk-serial::before {content: \"\";position: absolute;border-left: 1px solid gray;box-sizing: border-box;top: 0;bottom: 0;left: 50%;z-index: 0;}#sk-container-id-2 div.sk-serial {display: flex;flex-direction: column;align-items: center;background-color: white;padding-right: 0.2em;padding-left: 0.2em;position: relative;}#sk-container-id-2 div.sk-item {position: relative;z-index: 1;}#sk-container-id-2 div.sk-parallel {display: flex;align-items: stretch;justify-content: center;background-color: white;position: relative;}#sk-container-id-2 div.sk-item::before, #sk-container-id-2 div.sk-parallel-item::before {content: \"\";position: absolute;border-left: 1px solid gray;box-sizing: border-box;top: 0;bottom: 0;left: 50%;z-index: -1;}#sk-container-id-2 div.sk-parallel-item {display: flex;flex-direction: column;z-index: 1;position: relative;background-color: white;}#sk-container-id-2 div.sk-parallel-item:first-child::after {align-self: flex-end;width: 50%;}#sk-container-id-2 div.sk-parallel-item:last-child::after {align-self: flex-start;width: 50%;}#sk-container-id-2 div.sk-parallel-item:only-child::after {width: 0;}#sk-container-id-2 div.sk-dashed-wrapped {border: 1px dashed gray;margin: 0 0.4em 0.5em 0.4em;box-sizing: border-box;padding-bottom: 0.4em;background-color: white;}#sk-container-id-2 div.sk-label label {font-family: monospace;font-weight: bold;display: inline-block;line-height: 1.2em;}#sk-container-id-2 div.sk-label-container {text-align: center;}#sk-container-id-2 div.sk-container {/* jupyter's `normalize.less` sets `[hidden] { display: none; }` but bootstrap.min.css set `[hidden] { display: none !important; }` so we also need the `!important` here to be able to override the default hidden behavior on the sphinx rendered scikit-learn.org. See: https://github.com/scikit-learn/scikit-learn/issues/21755 */display: inline-block !important;position: relative;}#sk-container-id-2 div.sk-text-repr-fallback {display: none;}</style><div id=\"sk-container-id-2\" class=\"sk-top-container\"><div class=\"sk-text-repr-fallback\"><pre>RandomizedSearchCV(cv=&lt;generator object _BaseKFold.split at 0x0000029504AC8D60&gt;,\n",
       "                   estimator=XGBClassifier(base_score=None, booster=None,\n",
       "                                           colsample_bylevel=None,\n",
       "                                           colsample_bynode=None,\n",
       "                                           colsample_bytree=None,\n",
       "                                           enable_categorical=False, gamma=None,\n",
       "                                           gpu_id=None, importance_type=None,\n",
       "                                           interaction_constraints=None,\n",
       "                                           learning_rate=0.02,\n",
       "                                           max_delta_step=None, max_depth=None,\n",
       "                                           mi...\n",
       "                                           reg_alpha=None, reg_lambda=None,\n",
       "                                           scale_pos_weight=None, silent=True,\n",
       "                                           subsample=None, tree_method=None,\n",
       "                                           validate_parameters=None,\n",
       "                                           verbosity=None),\n",
       "                   n_iter=5, n_jobs=4,\n",
       "                   param_distributions={&#x27;colsample_bytree&#x27;: [0.6, 0.8, 1],\n",
       "                                        &#x27;gamma&#x27;: [0.5, 1, 1.5, 2, 5],\n",
       "                                        &#x27;max_delta_step&#x27;: [1, 3, 5],\n",
       "                                        &#x27;max_depth&#x27;: [3, 5, 7],\n",
       "                                        &#x27;min_child_weight&#x27;: [1, 5, 10],\n",
       "                                        &#x27;subsample&#x27;: [0.6, 0.8, 1]},\n",
       "                   random_state=1001, scoring=&#x27;roc_auc&#x27;, verbose=3)</pre><b>In a Jupyter environment, please rerun this cell to show the HTML representation or trust the notebook. <br />On GitHub, the HTML representation is unable to render, please try loading this page with nbviewer.org.</b></div><div class=\"sk-container\" hidden><div class=\"sk-item sk-dashed-wrapped\"><div class=\"sk-label-container\"><div class=\"sk-label sk-toggleable\"><input class=\"sk-toggleable__control sk-hidden--visually\" id=\"sk-estimator-id-2\" type=\"checkbox\" ><label for=\"sk-estimator-id-2\" class=\"sk-toggleable__label sk-toggleable__label-arrow\">RandomizedSearchCV</label><div class=\"sk-toggleable__content\"><pre>RandomizedSearchCV(cv=&lt;generator object _BaseKFold.split at 0x0000029504AC8D60&gt;,\n",
       "                   estimator=XGBClassifier(base_score=None, booster=None,\n",
       "                                           colsample_bylevel=None,\n",
       "                                           colsample_bynode=None,\n",
       "                                           colsample_bytree=None,\n",
       "                                           enable_categorical=False, gamma=None,\n",
       "                                           gpu_id=None, importance_type=None,\n",
       "                                           interaction_constraints=None,\n",
       "                                           learning_rate=0.02,\n",
       "                                           max_delta_step=None, max_depth=None,\n",
       "                                           mi...\n",
       "                                           reg_alpha=None, reg_lambda=None,\n",
       "                                           scale_pos_weight=None, silent=True,\n",
       "                                           subsample=None, tree_method=None,\n",
       "                                           validate_parameters=None,\n",
       "                                           verbosity=None),\n",
       "                   n_iter=5, n_jobs=4,\n",
       "                   param_distributions={&#x27;colsample_bytree&#x27;: [0.6, 0.8, 1],\n",
       "                                        &#x27;gamma&#x27;: [0.5, 1, 1.5, 2, 5],\n",
       "                                        &#x27;max_delta_step&#x27;: [1, 3, 5],\n",
       "                                        &#x27;max_depth&#x27;: [3, 5, 7],\n",
       "                                        &#x27;min_child_weight&#x27;: [1, 5, 10],\n",
       "                                        &#x27;subsample&#x27;: [0.6, 0.8, 1]},\n",
       "                   random_state=1001, scoring=&#x27;roc_auc&#x27;, verbose=3)</pre></div></div></div><div class=\"sk-parallel\"><div class=\"sk-parallel-item\"><div class=\"sk-item\"><div class=\"sk-label-container\"><div class=\"sk-label sk-toggleable\"><input class=\"sk-toggleable__control sk-hidden--visually\" id=\"sk-estimator-id-3\" type=\"checkbox\" ><label for=\"sk-estimator-id-3\" class=\"sk-toggleable__label sk-toggleable__label-arrow\">estimator: XGBClassifier</label><div class=\"sk-toggleable__content\"><pre>XGBClassifier(base_score=None, booster=None, colsample_bylevel=None,\n",
       "              colsample_bynode=None, colsample_bytree=None,\n",
       "              enable_categorical=False, gamma=None, gpu_id=None,\n",
       "              importance_type=None, interaction_constraints=None,\n",
       "              learning_rate=0.02, max_delta_step=None, max_depth=None,\n",
       "              min_child_weight=None, missing=nan, monotone_constraints=None,\n",
       "              n_estimators=600, n_jobs=None, nthread=1, num_parallel_tree=None,\n",
       "              predictor=None, random_state=None, reg_alpha=None,\n",
       "              reg_lambda=None, scale_pos_weight=None, silent=True,\n",
       "              subsample=None, tree_method=None, validate_parameters=None,\n",
       "              verbosity=None)</pre></div></div></div><div class=\"sk-serial\"><div class=\"sk-item\"><div class=\"sk-estimator sk-toggleable\"><input class=\"sk-toggleable__control sk-hidden--visually\" id=\"sk-estimator-id-4\" type=\"checkbox\" ><label for=\"sk-estimator-id-4\" class=\"sk-toggleable__label sk-toggleable__label-arrow\">XGBClassifier</label><div class=\"sk-toggleable__content\"><pre>XGBClassifier(base_score=None, booster=None, colsample_bylevel=None,\n",
       "              colsample_bynode=None, colsample_bytree=None,\n",
       "              enable_categorical=False, gamma=None, gpu_id=None,\n",
       "              importance_type=None, interaction_constraints=None,\n",
       "              learning_rate=0.02, max_delta_step=None, max_depth=None,\n",
       "              min_child_weight=None, missing=nan, monotone_constraints=None,\n",
       "              n_estimators=600, n_jobs=None, nthread=1, num_parallel_tree=None,\n",
       "              predictor=None, random_state=None, reg_alpha=None,\n",
       "              reg_lambda=None, scale_pos_weight=None, silent=True,\n",
       "              subsample=None, tree_method=None, validate_parameters=None,\n",
       "              verbosity=None)</pre></div></div></div></div></div></div></div></div></div></div>"
      ],
      "text/plain": [
       "RandomizedSearchCV(cv=<generator object _BaseKFold.split at 0x0000029504AC8D60>,\n",
       "                   estimator=XGBClassifier(base_score=None, booster=None,\n",
       "                                           colsample_bylevel=None,\n",
       "                                           colsample_bynode=None,\n",
       "                                           colsample_bytree=None,\n",
       "                                           enable_categorical=False, gamma=None,\n",
       "                                           gpu_id=None, importance_type=None,\n",
       "                                           interaction_constraints=None,\n",
       "                                           learning_rate=0.02,\n",
       "                                           max_delta_step=None, max_depth=None,\n",
       "                                           mi...\n",
       "                                           reg_alpha=None, reg_lambda=None,\n",
       "                                           scale_pos_weight=None, silent=True,\n",
       "                                           subsample=None, tree_method=None,\n",
       "                                           validate_parameters=None,\n",
       "                                           verbosity=None),\n",
       "                   n_iter=5, n_jobs=4,\n",
       "                   param_distributions={'colsample_bytree': [0.6, 0.8, 1],\n",
       "                                        'gamma': [0.5, 1, 1.5, 2, 5],\n",
       "                                        'max_delta_step': [1, 3, 5],\n",
       "                                        'max_depth': [3, 5, 7],\n",
       "                                        'min_child_weight': [1, 5, 10],\n",
       "                                        'subsample': [0.6, 0.8, 1]},\n",
       "                   random_state=1001, scoring='roc_auc', verbose=3)"
      ]
     },
     "execution_count": 99,
     "metadata": {},
     "output_type": "execute_result"
    }
   ],
   "source": [
    "random_search.fit(X_train_Scaled_Select, y_train)"
   ]
  },
  {
   "cell_type": "code",
   "execution_count": 100,
   "id": "4fe2a76d",
   "metadata": {},
   "outputs": [
    {
     "data": {
      "text/html": [
       "<style>#sk-container-id-3 {color: black;background-color: white;}#sk-container-id-3 pre{padding: 0;}#sk-container-id-3 div.sk-toggleable {background-color: white;}#sk-container-id-3 label.sk-toggleable__label {cursor: pointer;display: block;width: 100%;margin-bottom: 0;padding: 0.3em;box-sizing: border-box;text-align: center;}#sk-container-id-3 label.sk-toggleable__label-arrow:before {content: \"▸\";float: left;margin-right: 0.25em;color: #696969;}#sk-container-id-3 label.sk-toggleable__label-arrow:hover:before {color: black;}#sk-container-id-3 div.sk-estimator:hover label.sk-toggleable__label-arrow:before {color: black;}#sk-container-id-3 div.sk-toggleable__content {max-height: 0;max-width: 0;overflow: hidden;text-align: left;background-color: #f0f8ff;}#sk-container-id-3 div.sk-toggleable__content pre {margin: 0.2em;color: black;border-radius: 0.25em;background-color: #f0f8ff;}#sk-container-id-3 input.sk-toggleable__control:checked~div.sk-toggleable__content {max-height: 200px;max-width: 100%;overflow: auto;}#sk-container-id-3 input.sk-toggleable__control:checked~label.sk-toggleable__label-arrow:before {content: \"▾\";}#sk-container-id-3 div.sk-estimator input.sk-toggleable__control:checked~label.sk-toggleable__label {background-color: #d4ebff;}#sk-container-id-3 div.sk-label input.sk-toggleable__control:checked~label.sk-toggleable__label {background-color: #d4ebff;}#sk-container-id-3 input.sk-hidden--visually {border: 0;clip: rect(1px 1px 1px 1px);clip: rect(1px, 1px, 1px, 1px);height: 1px;margin: -1px;overflow: hidden;padding: 0;position: absolute;width: 1px;}#sk-container-id-3 div.sk-estimator {font-family: monospace;background-color: #f0f8ff;border: 1px dotted black;border-radius: 0.25em;box-sizing: border-box;margin-bottom: 0.5em;}#sk-container-id-3 div.sk-estimator:hover {background-color: #d4ebff;}#sk-container-id-3 div.sk-parallel-item::after {content: \"\";width: 100%;border-bottom: 1px solid gray;flex-grow: 1;}#sk-container-id-3 div.sk-label:hover label.sk-toggleable__label {background-color: #d4ebff;}#sk-container-id-3 div.sk-serial::before {content: \"\";position: absolute;border-left: 1px solid gray;box-sizing: border-box;top: 0;bottom: 0;left: 50%;z-index: 0;}#sk-container-id-3 div.sk-serial {display: flex;flex-direction: column;align-items: center;background-color: white;padding-right: 0.2em;padding-left: 0.2em;position: relative;}#sk-container-id-3 div.sk-item {position: relative;z-index: 1;}#sk-container-id-3 div.sk-parallel {display: flex;align-items: stretch;justify-content: center;background-color: white;position: relative;}#sk-container-id-3 div.sk-item::before, #sk-container-id-3 div.sk-parallel-item::before {content: \"\";position: absolute;border-left: 1px solid gray;box-sizing: border-box;top: 0;bottom: 0;left: 50%;z-index: -1;}#sk-container-id-3 div.sk-parallel-item {display: flex;flex-direction: column;z-index: 1;position: relative;background-color: white;}#sk-container-id-3 div.sk-parallel-item:first-child::after {align-self: flex-end;width: 50%;}#sk-container-id-3 div.sk-parallel-item:last-child::after {align-self: flex-start;width: 50%;}#sk-container-id-3 div.sk-parallel-item:only-child::after {width: 0;}#sk-container-id-3 div.sk-dashed-wrapped {border: 1px dashed gray;margin: 0 0.4em 0.5em 0.4em;box-sizing: border-box;padding-bottom: 0.4em;background-color: white;}#sk-container-id-3 div.sk-label label {font-family: monospace;font-weight: bold;display: inline-block;line-height: 1.2em;}#sk-container-id-3 div.sk-label-container {text-align: center;}#sk-container-id-3 div.sk-container {/* jupyter's `normalize.less` sets `[hidden] { display: none; }` but bootstrap.min.css set `[hidden] { display: none !important; }` so we also need the `!important` here to be able to override the default hidden behavior on the sphinx rendered scikit-learn.org. See: https://github.com/scikit-learn/scikit-learn/issues/21755 */display: inline-block !important;position: relative;}#sk-container-id-3 div.sk-text-repr-fallback {display: none;}</style><div id=\"sk-container-id-3\" class=\"sk-top-container\"><div class=\"sk-text-repr-fallback\"><pre>XGBClassifier(base_score=0.5, booster=&#x27;gbtree&#x27;, colsample_bylevel=1,\n",
       "              colsample_bynode=1, colsample_bytree=1, enable_categorical=False,\n",
       "              gamma=5, gpu_id=-1, importance_type=None,\n",
       "              interaction_constraints=&#x27;&#x27;, learning_rate=0.02, max_delta_step=5,\n",
       "              max_depth=7, min_child_weight=10, missing=nan,\n",
       "              monotone_constraints=&#x27;()&#x27;, n_estimators=600, n_jobs=1, nthread=1,\n",
       "              num_parallel_tree=1, predictor=&#x27;auto&#x27;, random_state=0,\n",
       "              reg_alpha=0, reg_lambda=1, scale_pos_weight=1, silent=True,\n",
       "              subsample=0.8, tree_method=&#x27;exact&#x27;, validate_parameters=1,\n",
       "              verbosity=None)</pre><b>In a Jupyter environment, please rerun this cell to show the HTML representation or trust the notebook. <br />On GitHub, the HTML representation is unable to render, please try loading this page with nbviewer.org.</b></div><div class=\"sk-container\" hidden><div class=\"sk-item\"><div class=\"sk-estimator sk-toggleable\"><input class=\"sk-toggleable__control sk-hidden--visually\" id=\"sk-estimator-id-5\" type=\"checkbox\" checked><label for=\"sk-estimator-id-5\" class=\"sk-toggleable__label sk-toggleable__label-arrow\">XGBClassifier</label><div class=\"sk-toggleable__content\"><pre>XGBClassifier(base_score=0.5, booster=&#x27;gbtree&#x27;, colsample_bylevel=1,\n",
       "              colsample_bynode=1, colsample_bytree=1, enable_categorical=False,\n",
       "              gamma=5, gpu_id=-1, importance_type=None,\n",
       "              interaction_constraints=&#x27;&#x27;, learning_rate=0.02, max_delta_step=5,\n",
       "              max_depth=7, min_child_weight=10, missing=nan,\n",
       "              monotone_constraints=&#x27;()&#x27;, n_estimators=600, n_jobs=1, nthread=1,\n",
       "              num_parallel_tree=1, predictor=&#x27;auto&#x27;, random_state=0,\n",
       "              reg_alpha=0, reg_lambda=1, scale_pos_weight=1, silent=True,\n",
       "              subsample=0.8, tree_method=&#x27;exact&#x27;, validate_parameters=1,\n",
       "              verbosity=None)</pre></div></div></div></div></div>"
      ],
      "text/plain": [
       "XGBClassifier(base_score=0.5, booster='gbtree', colsample_bylevel=1,\n",
       "              colsample_bynode=1, colsample_bytree=1, enable_categorical=False,\n",
       "              gamma=5, gpu_id=-1, importance_type=None,\n",
       "              interaction_constraints='', learning_rate=0.02, max_delta_step=5,\n",
       "              max_depth=7, min_child_weight=10, missing=nan,\n",
       "              monotone_constraints='()', n_estimators=600, n_jobs=1, nthread=1,\n",
       "              num_parallel_tree=1, predictor='auto', random_state=0,\n",
       "              reg_alpha=0, reg_lambda=1, scale_pos_weight=1, silent=True,\n",
       "              subsample=0.8, tree_method='exact', validate_parameters=1,\n",
       "              verbosity=None)"
      ]
     },
     "execution_count": 100,
     "metadata": {},
     "output_type": "execute_result"
    }
   ],
   "source": [
    "random_search.best_estimator_"
   ]
  },
  {
   "cell_type": "code",
   "execution_count": 101,
   "id": "a8f30469",
   "metadata": {},
   "outputs": [
    {
     "data": {
      "text/plain": [
       "{'subsample': 0.8,\n",
       " 'min_child_weight': 10,\n",
       " 'max_depth': 7,\n",
       " 'max_delta_step': 5,\n",
       " 'gamma': 5,\n",
       " 'colsample_bytree': 1}"
      ]
     },
     "execution_count": 101,
     "metadata": {},
     "output_type": "execute_result"
    }
   ],
   "source": [
    "random_search.best_params_"
   ]
  },
  {
   "cell_type": "code",
   "execution_count": 102,
   "id": "446f7816",
   "metadata": {},
   "outputs": [],
   "source": [
    "final_model = random_search.best_estimator_"
   ]
  },
  {
   "cell_type": "code",
   "execution_count": 257,
   "id": "6f00d264",
   "metadata": {},
   "outputs": [],
   "source": [
    "test_pred = final_model.predict(X_test_MI)"
   ]
  },
  {
   "cell_type": "code",
   "execution_count": 258,
   "id": "aedd0a78",
   "metadata": {},
   "outputs": [
    {
     "data": {
      "text/plain": [
       "0.7318555555555556"
      ]
     },
     "execution_count": 258,
     "metadata": {},
     "output_type": "execute_result"
    }
   ],
   "source": [
    "accuracy_score(y_test, test_pred)"
   ]
  },
  {
   "cell_type": "code",
   "execution_count": null,
   "id": "81b799a5",
   "metadata": {},
   "outputs": [],
   "source": []
  },
  {
   "cell_type": "markdown",
   "id": "6424d6f6",
   "metadata": {},
   "source": [
    "# Modelling - Random Forest Classifier"
   ]
  },
  {
   "cell_type": "code",
   "execution_count": 170,
   "id": "fda78051",
   "metadata": {},
   "outputs": [
    {
     "data": {
      "text/html": [
       "<style>#sk-container-id-5 {color: black;background-color: white;}#sk-container-id-5 pre{padding: 0;}#sk-container-id-5 div.sk-toggleable {background-color: white;}#sk-container-id-5 label.sk-toggleable__label {cursor: pointer;display: block;width: 100%;margin-bottom: 0;padding: 0.3em;box-sizing: border-box;text-align: center;}#sk-container-id-5 label.sk-toggleable__label-arrow:before {content: \"▸\";float: left;margin-right: 0.25em;color: #696969;}#sk-container-id-5 label.sk-toggleable__label-arrow:hover:before {color: black;}#sk-container-id-5 div.sk-estimator:hover label.sk-toggleable__label-arrow:before {color: black;}#sk-container-id-5 div.sk-toggleable__content {max-height: 0;max-width: 0;overflow: hidden;text-align: left;background-color: #f0f8ff;}#sk-container-id-5 div.sk-toggleable__content pre {margin: 0.2em;color: black;border-radius: 0.25em;background-color: #f0f8ff;}#sk-container-id-5 input.sk-toggleable__control:checked~div.sk-toggleable__content {max-height: 200px;max-width: 100%;overflow: auto;}#sk-container-id-5 input.sk-toggleable__control:checked~label.sk-toggleable__label-arrow:before {content: \"▾\";}#sk-container-id-5 div.sk-estimator input.sk-toggleable__control:checked~label.sk-toggleable__label {background-color: #d4ebff;}#sk-container-id-5 div.sk-label input.sk-toggleable__control:checked~label.sk-toggleable__label {background-color: #d4ebff;}#sk-container-id-5 input.sk-hidden--visually {border: 0;clip: rect(1px 1px 1px 1px);clip: rect(1px, 1px, 1px, 1px);height: 1px;margin: -1px;overflow: hidden;padding: 0;position: absolute;width: 1px;}#sk-container-id-5 div.sk-estimator {font-family: monospace;background-color: #f0f8ff;border: 1px dotted black;border-radius: 0.25em;box-sizing: border-box;margin-bottom: 0.5em;}#sk-container-id-5 div.sk-estimator:hover {background-color: #d4ebff;}#sk-container-id-5 div.sk-parallel-item::after {content: \"\";width: 100%;border-bottom: 1px solid gray;flex-grow: 1;}#sk-container-id-5 div.sk-label:hover label.sk-toggleable__label {background-color: #d4ebff;}#sk-container-id-5 div.sk-serial::before {content: \"\";position: absolute;border-left: 1px solid gray;box-sizing: border-box;top: 0;bottom: 0;left: 50%;z-index: 0;}#sk-container-id-5 div.sk-serial {display: flex;flex-direction: column;align-items: center;background-color: white;padding-right: 0.2em;padding-left: 0.2em;position: relative;}#sk-container-id-5 div.sk-item {position: relative;z-index: 1;}#sk-container-id-5 div.sk-parallel {display: flex;align-items: stretch;justify-content: center;background-color: white;position: relative;}#sk-container-id-5 div.sk-item::before, #sk-container-id-5 div.sk-parallel-item::before {content: \"\";position: absolute;border-left: 1px solid gray;box-sizing: border-box;top: 0;bottom: 0;left: 50%;z-index: -1;}#sk-container-id-5 div.sk-parallel-item {display: flex;flex-direction: column;z-index: 1;position: relative;background-color: white;}#sk-container-id-5 div.sk-parallel-item:first-child::after {align-self: flex-end;width: 50%;}#sk-container-id-5 div.sk-parallel-item:last-child::after {align-self: flex-start;width: 50%;}#sk-container-id-5 div.sk-parallel-item:only-child::after {width: 0;}#sk-container-id-5 div.sk-dashed-wrapped {border: 1px dashed gray;margin: 0 0.4em 0.5em 0.4em;box-sizing: border-box;padding-bottom: 0.4em;background-color: white;}#sk-container-id-5 div.sk-label label {font-family: monospace;font-weight: bold;display: inline-block;line-height: 1.2em;}#sk-container-id-5 div.sk-label-container {text-align: center;}#sk-container-id-5 div.sk-container {/* jupyter's `normalize.less` sets `[hidden] { display: none; }` but bootstrap.min.css set `[hidden] { display: none !important; }` so we also need the `!important` here to be able to override the default hidden behavior on the sphinx rendered scikit-learn.org. See: https://github.com/scikit-learn/scikit-learn/issues/21755 */display: inline-block !important;position: relative;}#sk-container-id-5 div.sk-text-repr-fallback {display: none;}</style><div id=\"sk-container-id-5\" class=\"sk-top-container\"><div class=\"sk-text-repr-fallback\"><pre>GridSearchCV(cv=5, estimator=RandomForestClassifier(),\n",
       "             param_grid=[{&#x27;max_features&#x27;: [2, 4, 6, 8],\n",
       "                          &#x27;n_estimators&#x27;: [3, 10, 30]},\n",
       "                         {&#x27;bootstrap&#x27;: [False], &#x27;max_features&#x27;: [2, 3, 4],\n",
       "                          &#x27;n_estimators&#x27;: [3, 10]}],\n",
       "             return_train_score=True, scoring=&#x27;roc_auc&#x27;)</pre><b>In a Jupyter environment, please rerun this cell to show the HTML representation or trust the notebook. <br />On GitHub, the HTML representation is unable to render, please try loading this page with nbviewer.org.</b></div><div class=\"sk-container\" hidden><div class=\"sk-item sk-dashed-wrapped\"><div class=\"sk-label-container\"><div class=\"sk-label sk-toggleable\"><input class=\"sk-toggleable__control sk-hidden--visually\" id=\"sk-estimator-id-5\" type=\"checkbox\" ><label for=\"sk-estimator-id-5\" class=\"sk-toggleable__label sk-toggleable__label-arrow\">GridSearchCV</label><div class=\"sk-toggleable__content\"><pre>GridSearchCV(cv=5, estimator=RandomForestClassifier(),\n",
       "             param_grid=[{&#x27;max_features&#x27;: [2, 4, 6, 8],\n",
       "                          &#x27;n_estimators&#x27;: [3, 10, 30]},\n",
       "                         {&#x27;bootstrap&#x27;: [False], &#x27;max_features&#x27;: [2, 3, 4],\n",
       "                          &#x27;n_estimators&#x27;: [3, 10]}],\n",
       "             return_train_score=True, scoring=&#x27;roc_auc&#x27;)</pre></div></div></div><div class=\"sk-parallel\"><div class=\"sk-parallel-item\"><div class=\"sk-item\"><div class=\"sk-label-container\"><div class=\"sk-label sk-toggleable\"><input class=\"sk-toggleable__control sk-hidden--visually\" id=\"sk-estimator-id-6\" type=\"checkbox\" ><label for=\"sk-estimator-id-6\" class=\"sk-toggleable__label sk-toggleable__label-arrow\">estimator: RandomForestClassifier</label><div class=\"sk-toggleable__content\"><pre>RandomForestClassifier()</pre></div></div></div><div class=\"sk-serial\"><div class=\"sk-item\"><div class=\"sk-estimator sk-toggleable\"><input class=\"sk-toggleable__control sk-hidden--visually\" id=\"sk-estimator-id-7\" type=\"checkbox\" ><label for=\"sk-estimator-id-7\" class=\"sk-toggleable__label sk-toggleable__label-arrow\">RandomForestClassifier</label><div class=\"sk-toggleable__content\"><pre>RandomForestClassifier()</pre></div></div></div></div></div></div></div></div></div></div>"
      ],
      "text/plain": [
       "GridSearchCV(cv=5, estimator=RandomForestClassifier(),\n",
       "             param_grid=[{'max_features': [2, 4, 6, 8],\n",
       "                          'n_estimators': [3, 10, 30]},\n",
       "                         {'bootstrap': [False], 'max_features': [2, 3, 4],\n",
       "                          'n_estimators': [3, 10]}],\n",
       "             return_train_score=True, scoring='roc_auc')"
      ]
     },
     "execution_count": 170,
     "metadata": {},
     "output_type": "execute_result"
    }
   ],
   "source": [
    "# GridSearchCV use cross-validation to evaluate all possible combinations of hyperparameter values and give out the best\n",
    "\n",
    "from sklearn.model_selection import GridSearchCV\n",
    "from sklearn.ensemble import RandomForestClassifier\n",
    "\n",
    "param_grid = [\n",
    "    {'n_estimators': [3, 10, 30], 'max_features': [2, 4, 6, 8]},\n",
    "    {'bootstrap': [False], 'n_estimators': [3, 10], 'max_features': [2, 3, 4]},\n",
    "]\n",
    "\n",
    "forest_reg = RandomForestClassifier()\n",
    "\n",
    "grid_search = GridSearchCV(forest_reg, param_grid, cv = 5, scoring = 'roc_auc', return_train_score = True)\n",
    "\n",
    "grid_search.fit(X_train_Scaled_Select, y_train)"
   ]
  },
  {
   "cell_type": "code",
   "execution_count": 171,
   "id": "4d06c8c8",
   "metadata": {},
   "outputs": [
    {
     "data": {
      "text/plain": [
       "{'max_features': 8, 'n_estimators': 30}"
      ]
     },
     "execution_count": 171,
     "metadata": {},
     "output_type": "execute_result"
    }
   ],
   "source": [
    "# Checking the best combination of parameters\n",
    "\n",
    "grid_search.best_params_"
   ]
  },
  {
   "cell_type": "code",
   "execution_count": 172,
   "id": "a22b7c5e",
   "metadata": {},
   "outputs": [
    {
     "data": {
      "text/html": [
       "<style>#sk-container-id-6 {color: black;background-color: white;}#sk-container-id-6 pre{padding: 0;}#sk-container-id-6 div.sk-toggleable {background-color: white;}#sk-container-id-6 label.sk-toggleable__label {cursor: pointer;display: block;width: 100%;margin-bottom: 0;padding: 0.3em;box-sizing: border-box;text-align: center;}#sk-container-id-6 label.sk-toggleable__label-arrow:before {content: \"▸\";float: left;margin-right: 0.25em;color: #696969;}#sk-container-id-6 label.sk-toggleable__label-arrow:hover:before {color: black;}#sk-container-id-6 div.sk-estimator:hover label.sk-toggleable__label-arrow:before {color: black;}#sk-container-id-6 div.sk-toggleable__content {max-height: 0;max-width: 0;overflow: hidden;text-align: left;background-color: #f0f8ff;}#sk-container-id-6 div.sk-toggleable__content pre {margin: 0.2em;color: black;border-radius: 0.25em;background-color: #f0f8ff;}#sk-container-id-6 input.sk-toggleable__control:checked~div.sk-toggleable__content {max-height: 200px;max-width: 100%;overflow: auto;}#sk-container-id-6 input.sk-toggleable__control:checked~label.sk-toggleable__label-arrow:before {content: \"▾\";}#sk-container-id-6 div.sk-estimator input.sk-toggleable__control:checked~label.sk-toggleable__label {background-color: #d4ebff;}#sk-container-id-6 div.sk-label input.sk-toggleable__control:checked~label.sk-toggleable__label {background-color: #d4ebff;}#sk-container-id-6 input.sk-hidden--visually {border: 0;clip: rect(1px 1px 1px 1px);clip: rect(1px, 1px, 1px, 1px);height: 1px;margin: -1px;overflow: hidden;padding: 0;position: absolute;width: 1px;}#sk-container-id-6 div.sk-estimator {font-family: monospace;background-color: #f0f8ff;border: 1px dotted black;border-radius: 0.25em;box-sizing: border-box;margin-bottom: 0.5em;}#sk-container-id-6 div.sk-estimator:hover {background-color: #d4ebff;}#sk-container-id-6 div.sk-parallel-item::after {content: \"\";width: 100%;border-bottom: 1px solid gray;flex-grow: 1;}#sk-container-id-6 div.sk-label:hover label.sk-toggleable__label {background-color: #d4ebff;}#sk-container-id-6 div.sk-serial::before {content: \"\";position: absolute;border-left: 1px solid gray;box-sizing: border-box;top: 0;bottom: 0;left: 50%;z-index: 0;}#sk-container-id-6 div.sk-serial {display: flex;flex-direction: column;align-items: center;background-color: white;padding-right: 0.2em;padding-left: 0.2em;position: relative;}#sk-container-id-6 div.sk-item {position: relative;z-index: 1;}#sk-container-id-6 div.sk-parallel {display: flex;align-items: stretch;justify-content: center;background-color: white;position: relative;}#sk-container-id-6 div.sk-item::before, #sk-container-id-6 div.sk-parallel-item::before {content: \"\";position: absolute;border-left: 1px solid gray;box-sizing: border-box;top: 0;bottom: 0;left: 50%;z-index: -1;}#sk-container-id-6 div.sk-parallel-item {display: flex;flex-direction: column;z-index: 1;position: relative;background-color: white;}#sk-container-id-6 div.sk-parallel-item:first-child::after {align-self: flex-end;width: 50%;}#sk-container-id-6 div.sk-parallel-item:last-child::after {align-self: flex-start;width: 50%;}#sk-container-id-6 div.sk-parallel-item:only-child::after {width: 0;}#sk-container-id-6 div.sk-dashed-wrapped {border: 1px dashed gray;margin: 0 0.4em 0.5em 0.4em;box-sizing: border-box;padding-bottom: 0.4em;background-color: white;}#sk-container-id-6 div.sk-label label {font-family: monospace;font-weight: bold;display: inline-block;line-height: 1.2em;}#sk-container-id-6 div.sk-label-container {text-align: center;}#sk-container-id-6 div.sk-container {/* jupyter's `normalize.less` sets `[hidden] { display: none; }` but bootstrap.min.css set `[hidden] { display: none !important; }` so we also need the `!important` here to be able to override the default hidden behavior on the sphinx rendered scikit-learn.org. See: https://github.com/scikit-learn/scikit-learn/issues/21755 */display: inline-block !important;position: relative;}#sk-container-id-6 div.sk-text-repr-fallback {display: none;}</style><div id=\"sk-container-id-6\" class=\"sk-top-container\"><div class=\"sk-text-repr-fallback\"><pre>RandomForestClassifier(max_features=8, n_estimators=30)</pre><b>In a Jupyter environment, please rerun this cell to show the HTML representation or trust the notebook. <br />On GitHub, the HTML representation is unable to render, please try loading this page with nbviewer.org.</b></div><div class=\"sk-container\" hidden><div class=\"sk-item\"><div class=\"sk-estimator sk-toggleable\"><input class=\"sk-toggleable__control sk-hidden--visually\" id=\"sk-estimator-id-8\" type=\"checkbox\" checked><label for=\"sk-estimator-id-8\" class=\"sk-toggleable__label sk-toggleable__label-arrow\">RandomForestClassifier</label><div class=\"sk-toggleable__content\"><pre>RandomForestClassifier(max_features=8, n_estimators=30)</pre></div></div></div></div></div>"
      ],
      "text/plain": [
       "RandomForestClassifier(max_features=8, n_estimators=30)"
      ]
     },
     "execution_count": 172,
     "metadata": {},
     "output_type": "execute_result"
    }
   ],
   "source": [
    "# Checking best estimator\n",
    "\n",
    "grid_search.best_estimator_"
   ]
  },
  {
   "cell_type": "code",
   "execution_count": 173,
   "id": "0d5b38ca",
   "metadata": {},
   "outputs": [
    {
     "data": {
      "text/plain": [
       "array([0.04389906, 0.04412078, 0.03423631, 0.01722675, 0.0156383 ,\n",
       "       0.01688662, 0.01572325, 0.0153683 , 0.01745431, 0.01477523,\n",
       "       0.0149423 , 0.0165241 , 0.01504164, 0.0148884 , 0.0148366 ,\n",
       "       0.07110994, 0.065591  , 0.08109121, 0.07350319, 0.06124309,\n",
       "       0.06647165, 0.07553349, 0.09386465, 0.04128737, 0.0062872 ,\n",
       "       0.05245526])"
      ]
     },
     "execution_count": 173,
     "metadata": {},
     "output_type": "execute_result"
    }
   ],
   "source": [
    "feature_importances = grid_search.best_estimator_.feature_importances_\n",
    "feature_importances"
   ]
  },
  {
   "cell_type": "code",
   "execution_count": 174,
   "id": "ea015c45",
   "metadata": {},
   "outputs": [],
   "source": [
    "final_model_rf = grid_search.best_estimator_"
   ]
  },
  {
   "cell_type": "code",
   "execution_count": 176,
   "id": "02de7a7b",
   "metadata": {},
   "outputs": [],
   "source": [
    "final_predictions = final_model_rf.predict(X_validation__Scaled_Select)"
   ]
  },
  {
   "cell_type": "code",
   "execution_count": 177,
   "id": "78497e9d",
   "metadata": {},
   "outputs": [
    {
     "data": {
      "text/plain": [
       "0.8154166666666667"
      ]
     },
     "execution_count": 177,
     "metadata": {},
     "output_type": "execute_result"
    }
   ],
   "source": [
    "accuracy_score(y_validation, final_predictions)"
   ]
  },
  {
   "cell_type": "markdown",
   "id": "fc6f1e15",
   "metadata": {},
   "source": [
    "# Ingesting Test Data"
   ]
  },
  {
   "cell_type": "code",
   "execution_count": 103,
   "id": "b26df853",
   "metadata": {},
   "outputs": [],
   "source": [
    "#Reading the zipped test file\n",
    "\n",
    "zf = zipfile.ZipFile(r'C:\\Users\\nishantjairath\\Downloads\\test.csv.zip')\n",
    "df_test = pd.read_csv(zf.open('test.csv'))"
   ]
  },
  {
   "cell_type": "code",
   "execution_count": 104,
   "id": "2fffe289",
   "metadata": {},
   "outputs": [
    {
     "data": {
      "text/html": [
       "<div>\n",
       "<style scoped>\n",
       "    .dataframe tbody tr th:only-of-type {\n",
       "        vertical-align: middle;\n",
       "    }\n",
       "\n",
       "    .dataframe tbody tr th {\n",
       "        vertical-align: top;\n",
       "    }\n",
       "\n",
       "    .dataframe thead th {\n",
       "        text-align: right;\n",
       "    }\n",
       "</style>\n",
       "<table border=\"1\" class=\"dataframe\">\n",
       "  <thead>\n",
       "    <tr style=\"text-align: right;\">\n",
       "      <th></th>\n",
       "      <th>id</th>\n",
       "      <th>f_00</th>\n",
       "      <th>f_01</th>\n",
       "      <th>f_02</th>\n",
       "      <th>f_03</th>\n",
       "      <th>f_04</th>\n",
       "      <th>f_05</th>\n",
       "      <th>f_06</th>\n",
       "      <th>f_07</th>\n",
       "      <th>f_08</th>\n",
       "      <th>...</th>\n",
       "      <th>f_21</th>\n",
       "      <th>f_22</th>\n",
       "      <th>f_23</th>\n",
       "      <th>f_24</th>\n",
       "      <th>f_25</th>\n",
       "      <th>f_26</th>\n",
       "      <th>f_27</th>\n",
       "      <th>f_28</th>\n",
       "      <th>f_29</th>\n",
       "      <th>f_30</th>\n",
       "    </tr>\n",
       "  </thead>\n",
       "  <tbody>\n",
       "    <tr>\n",
       "      <th>0</th>\n",
       "      <td>900000</td>\n",
       "      <td>0.442517</td>\n",
       "      <td>0.174380</td>\n",
       "      <td>-0.999816</td>\n",
       "      <td>0.762741</td>\n",
       "      <td>0.186778</td>\n",
       "      <td>-1.074775</td>\n",
       "      <td>0.501888</td>\n",
       "      <td>6</td>\n",
       "      <td>6</td>\n",
       "      <td>...</td>\n",
       "      <td>-1.006400</td>\n",
       "      <td>-1.193879</td>\n",
       "      <td>-2.435736</td>\n",
       "      <td>-2.427430</td>\n",
       "      <td>-1.966887</td>\n",
       "      <td>5.734205</td>\n",
       "      <td>BAAABADLAC</td>\n",
       "      <td>99.478419</td>\n",
       "      <td>0</td>\n",
       "      <td>0</td>\n",
       "    </tr>\n",
       "    <tr>\n",
       "      <th>1</th>\n",
       "      <td>900001</td>\n",
       "      <td>-0.605598</td>\n",
       "      <td>-0.305715</td>\n",
       "      <td>0.627667</td>\n",
       "      <td>-0.578898</td>\n",
       "      <td>-1.750931</td>\n",
       "      <td>1.355550</td>\n",
       "      <td>-0.190911</td>\n",
       "      <td>1</td>\n",
       "      <td>3</td>\n",
       "      <td>...</td>\n",
       "      <td>2.382405</td>\n",
       "      <td>0.149442</td>\n",
       "      <td>1.883322</td>\n",
       "      <td>-2.848714</td>\n",
       "      <td>-0.725155</td>\n",
       "      <td>3.194219</td>\n",
       "      <td>AFABBAEGCB</td>\n",
       "      <td>-65.993825</td>\n",
       "      <td>1</td>\n",
       "      <td>0</td>\n",
       "    </tr>\n",
       "    <tr>\n",
       "      <th>2</th>\n",
       "      <td>900002</td>\n",
       "      <td>0.303990</td>\n",
       "      <td>2.445110</td>\n",
       "      <td>0.246515</td>\n",
       "      <td>0.818248</td>\n",
       "      <td>0.359731</td>\n",
       "      <td>-1.331845</td>\n",
       "      <td>1.358622</td>\n",
       "      <td>3</td>\n",
       "      <td>3</td>\n",
       "      <td>...</td>\n",
       "      <td>-7.026098</td>\n",
       "      <td>1.312277</td>\n",
       "      <td>-5.157192</td>\n",
       "      <td>1.714005</td>\n",
       "      <td>0.585032</td>\n",
       "      <td>0.066898</td>\n",
       "      <td>BBACABBKEE</td>\n",
       "      <td>-87.405622</td>\n",
       "      <td>0</td>\n",
       "      <td>1</td>\n",
       "    </tr>\n",
       "    <tr>\n",
       "      <th>3</th>\n",
       "      <td>900003</td>\n",
       "      <td>0.154053</td>\n",
       "      <td>0.260126</td>\n",
       "      <td>-1.367092</td>\n",
       "      <td>-0.093175</td>\n",
       "      <td>-1.111034</td>\n",
       "      <td>-0.948481</td>\n",
       "      <td>1.119220</td>\n",
       "      <td>0</td>\n",
       "      <td>0</td>\n",
       "      <td>...</td>\n",
       "      <td>-0.594532</td>\n",
       "      <td>-3.939475</td>\n",
       "      <td>1.754570</td>\n",
       "      <td>-2.364007</td>\n",
       "      <td>-1.003320</td>\n",
       "      <td>3.893099</td>\n",
       "      <td>AEBEAACQCC</td>\n",
       "      <td>-281.293460</td>\n",
       "      <td>0</td>\n",
       "      <td>0</td>\n",
       "    </tr>\n",
       "    <tr>\n",
       "      <th>4</th>\n",
       "      <td>900004</td>\n",
       "      <td>-1.651904</td>\n",
       "      <td>-0.424266</td>\n",
       "      <td>-0.667356</td>\n",
       "      <td>-0.322124</td>\n",
       "      <td>-0.089462</td>\n",
       "      <td>0.181705</td>\n",
       "      <td>1.784983</td>\n",
       "      <td>2</td>\n",
       "      <td>2</td>\n",
       "      <td>...</td>\n",
       "      <td>0.084906</td>\n",
       "      <td>-0.985736</td>\n",
       "      <td>-0.130467</td>\n",
       "      <td>-3.557893</td>\n",
       "      <td>1.210687</td>\n",
       "      <td>1.861884</td>\n",
       "      <td>AEBBBBDABF</td>\n",
       "      <td>25.629415</td>\n",
       "      <td>0</td>\n",
       "      <td>2</td>\n",
       "    </tr>\n",
       "  </tbody>\n",
       "</table>\n",
       "<p>5 rows × 32 columns</p>\n",
       "</div>"
      ],
      "text/plain": [
       "       id      f_00      f_01      f_02      f_03      f_04      f_05  \\\n",
       "0  900000  0.442517  0.174380 -0.999816  0.762741  0.186778 -1.074775   \n",
       "1  900001 -0.605598 -0.305715  0.627667 -0.578898 -1.750931  1.355550   \n",
       "2  900002  0.303990  2.445110  0.246515  0.818248  0.359731 -1.331845   \n",
       "3  900003  0.154053  0.260126 -1.367092 -0.093175 -1.111034 -0.948481   \n",
       "4  900004 -1.651904 -0.424266 -0.667356 -0.322124 -0.089462  0.181705   \n",
       "\n",
       "       f_06  f_07  f_08  ...      f_21      f_22      f_23      f_24  \\\n",
       "0  0.501888     6     6  ... -1.006400 -1.193879 -2.435736 -2.427430   \n",
       "1 -0.190911     1     3  ...  2.382405  0.149442  1.883322 -2.848714   \n",
       "2  1.358622     3     3  ... -7.026098  1.312277 -5.157192  1.714005   \n",
       "3  1.119220     0     0  ... -0.594532 -3.939475  1.754570 -2.364007   \n",
       "4  1.784983     2     2  ...  0.084906 -0.985736 -0.130467 -3.557893   \n",
       "\n",
       "       f_25      f_26        f_27        f_28  f_29  f_30  \n",
       "0 -1.966887  5.734205  BAAABADLAC   99.478419     0     0  \n",
       "1 -0.725155  3.194219  AFABBAEGCB  -65.993825     1     0  \n",
       "2  0.585032  0.066898  BBACABBKEE  -87.405622     0     1  \n",
       "3 -1.003320  3.893099  AEBEAACQCC -281.293460     0     0  \n",
       "4  1.210687  1.861884  AEBBBBDABF   25.629415     0     2  \n",
       "\n",
       "[5 rows x 32 columns]"
      ]
     },
     "execution_count": 104,
     "metadata": {},
     "output_type": "execute_result"
    }
   ],
   "source": [
    "df_test.head()"
   ]
  },
  {
   "cell_type": "code",
   "execution_count": 105,
   "id": "8efa1ec9",
   "metadata": {},
   "outputs": [],
   "source": [
    "# Handling the categorical data\n",
    "\n",
    "df_test['f_27'], _ = df_test['f_27'].factorize()"
   ]
  },
  {
   "cell_type": "code",
   "execution_count": 106,
   "id": "dfa768a4",
   "metadata": {},
   "outputs": [],
   "source": [
    "df_test.set_index('id', drop = True, inplace = True)"
   ]
  },
  {
   "cell_type": "code",
   "execution_count": 107,
   "id": "361f0f6b",
   "metadata": {},
   "outputs": [
    {
     "data": {
      "text/html": [
       "<div>\n",
       "<style scoped>\n",
       "    .dataframe tbody tr th:only-of-type {\n",
       "        vertical-align: middle;\n",
       "    }\n",
       "\n",
       "    .dataframe tbody tr th {\n",
       "        vertical-align: top;\n",
       "    }\n",
       "\n",
       "    .dataframe thead th {\n",
       "        text-align: right;\n",
       "    }\n",
       "</style>\n",
       "<table border=\"1\" class=\"dataframe\">\n",
       "  <thead>\n",
       "    <tr style=\"text-align: right;\">\n",
       "      <th></th>\n",
       "      <th>f_00</th>\n",
       "      <th>f_01</th>\n",
       "      <th>f_02</th>\n",
       "      <th>f_03</th>\n",
       "      <th>f_04</th>\n",
       "      <th>f_05</th>\n",
       "      <th>f_06</th>\n",
       "      <th>f_07</th>\n",
       "      <th>f_08</th>\n",
       "      <th>f_09</th>\n",
       "      <th>...</th>\n",
       "      <th>f_21</th>\n",
       "      <th>f_22</th>\n",
       "      <th>f_23</th>\n",
       "      <th>f_24</th>\n",
       "      <th>f_25</th>\n",
       "      <th>f_26</th>\n",
       "      <th>f_27</th>\n",
       "      <th>f_28</th>\n",
       "      <th>f_29</th>\n",
       "      <th>f_30</th>\n",
       "    </tr>\n",
       "    <tr>\n",
       "      <th>id</th>\n",
       "      <th></th>\n",
       "      <th></th>\n",
       "      <th></th>\n",
       "      <th></th>\n",
       "      <th></th>\n",
       "      <th></th>\n",
       "      <th></th>\n",
       "      <th></th>\n",
       "      <th></th>\n",
       "      <th></th>\n",
       "      <th></th>\n",
       "      <th></th>\n",
       "      <th></th>\n",
       "      <th></th>\n",
       "      <th></th>\n",
       "      <th></th>\n",
       "      <th></th>\n",
       "      <th></th>\n",
       "      <th></th>\n",
       "      <th></th>\n",
       "      <th></th>\n",
       "    </tr>\n",
       "  </thead>\n",
       "  <tbody>\n",
       "    <tr>\n",
       "      <th>900000</th>\n",
       "      <td>0.442517</td>\n",
       "      <td>0.174380</td>\n",
       "      <td>-0.999816</td>\n",
       "      <td>0.762741</td>\n",
       "      <td>0.186778</td>\n",
       "      <td>-1.074775</td>\n",
       "      <td>0.501888</td>\n",
       "      <td>6</td>\n",
       "      <td>6</td>\n",
       "      <td>0</td>\n",
       "      <td>...</td>\n",
       "      <td>-1.006400</td>\n",
       "      <td>-1.193879</td>\n",
       "      <td>-2.435736</td>\n",
       "      <td>-2.427430</td>\n",
       "      <td>-1.966887</td>\n",
       "      <td>5.734205</td>\n",
       "      <td>0</td>\n",
       "      <td>99.478419</td>\n",
       "      <td>0</td>\n",
       "      <td>0</td>\n",
       "    </tr>\n",
       "    <tr>\n",
       "      <th>900001</th>\n",
       "      <td>-0.605598</td>\n",
       "      <td>-0.305715</td>\n",
       "      <td>0.627667</td>\n",
       "      <td>-0.578898</td>\n",
       "      <td>-1.750931</td>\n",
       "      <td>1.355550</td>\n",
       "      <td>-0.190911</td>\n",
       "      <td>1</td>\n",
       "      <td>3</td>\n",
       "      <td>4</td>\n",
       "      <td>...</td>\n",
       "      <td>2.382405</td>\n",
       "      <td>0.149442</td>\n",
       "      <td>1.883322</td>\n",
       "      <td>-2.848714</td>\n",
       "      <td>-0.725155</td>\n",
       "      <td>3.194219</td>\n",
       "      <td>1</td>\n",
       "      <td>-65.993825</td>\n",
       "      <td>1</td>\n",
       "      <td>0</td>\n",
       "    </tr>\n",
       "    <tr>\n",
       "      <th>900002</th>\n",
       "      <td>0.303990</td>\n",
       "      <td>2.445110</td>\n",
       "      <td>0.246515</td>\n",
       "      <td>0.818248</td>\n",
       "      <td>0.359731</td>\n",
       "      <td>-1.331845</td>\n",
       "      <td>1.358622</td>\n",
       "      <td>3</td>\n",
       "      <td>3</td>\n",
       "      <td>4</td>\n",
       "      <td>...</td>\n",
       "      <td>-7.026098</td>\n",
       "      <td>1.312277</td>\n",
       "      <td>-5.157192</td>\n",
       "      <td>1.714005</td>\n",
       "      <td>0.585032</td>\n",
       "      <td>0.066898</td>\n",
       "      <td>2</td>\n",
       "      <td>-87.405622</td>\n",
       "      <td>0</td>\n",
       "      <td>1</td>\n",
       "    </tr>\n",
       "    <tr>\n",
       "      <th>900003</th>\n",
       "      <td>0.154053</td>\n",
       "      <td>0.260126</td>\n",
       "      <td>-1.367092</td>\n",
       "      <td>-0.093175</td>\n",
       "      <td>-1.111034</td>\n",
       "      <td>-0.948481</td>\n",
       "      <td>1.119220</td>\n",
       "      <td>0</td>\n",
       "      <td>0</td>\n",
       "      <td>4</td>\n",
       "      <td>...</td>\n",
       "      <td>-0.594532</td>\n",
       "      <td>-3.939475</td>\n",
       "      <td>1.754570</td>\n",
       "      <td>-2.364007</td>\n",
       "      <td>-1.003320</td>\n",
       "      <td>3.893099</td>\n",
       "      <td>3</td>\n",
       "      <td>-281.293460</td>\n",
       "      <td>0</td>\n",
       "      <td>0</td>\n",
       "    </tr>\n",
       "    <tr>\n",
       "      <th>900004</th>\n",
       "      <td>-1.651904</td>\n",
       "      <td>-0.424266</td>\n",
       "      <td>-0.667356</td>\n",
       "      <td>-0.322124</td>\n",
       "      <td>-0.089462</td>\n",
       "      <td>0.181705</td>\n",
       "      <td>1.784983</td>\n",
       "      <td>2</td>\n",
       "      <td>2</td>\n",
       "      <td>2</td>\n",
       "      <td>...</td>\n",
       "      <td>0.084906</td>\n",
       "      <td>-0.985736</td>\n",
       "      <td>-0.130467</td>\n",
       "      <td>-3.557893</td>\n",
       "      <td>1.210687</td>\n",
       "      <td>1.861884</td>\n",
       "      <td>4</td>\n",
       "      <td>25.629415</td>\n",
       "      <td>0</td>\n",
       "      <td>2</td>\n",
       "    </tr>\n",
       "  </tbody>\n",
       "</table>\n",
       "<p>5 rows × 31 columns</p>\n",
       "</div>"
      ],
      "text/plain": [
       "            f_00      f_01      f_02      f_03      f_04      f_05      f_06  \\\n",
       "id                                                                             \n",
       "900000  0.442517  0.174380 -0.999816  0.762741  0.186778 -1.074775  0.501888   \n",
       "900001 -0.605598 -0.305715  0.627667 -0.578898 -1.750931  1.355550 -0.190911   \n",
       "900002  0.303990  2.445110  0.246515  0.818248  0.359731 -1.331845  1.358622   \n",
       "900003  0.154053  0.260126 -1.367092 -0.093175 -1.111034 -0.948481  1.119220   \n",
       "900004 -1.651904 -0.424266 -0.667356 -0.322124 -0.089462  0.181705  1.784983   \n",
       "\n",
       "        f_07  f_08  f_09  ...      f_21      f_22      f_23      f_24  \\\n",
       "id                        ...                                           \n",
       "900000     6     6     0  ... -1.006400 -1.193879 -2.435736 -2.427430   \n",
       "900001     1     3     4  ...  2.382405  0.149442  1.883322 -2.848714   \n",
       "900002     3     3     4  ... -7.026098  1.312277 -5.157192  1.714005   \n",
       "900003     0     0     4  ... -0.594532 -3.939475  1.754570 -2.364007   \n",
       "900004     2     2     2  ...  0.084906 -0.985736 -0.130467 -3.557893   \n",
       "\n",
       "            f_25      f_26  f_27        f_28  f_29  f_30  \n",
       "id                                                        \n",
       "900000 -1.966887  5.734205     0   99.478419     0     0  \n",
       "900001 -0.725155  3.194219     1  -65.993825     1     0  \n",
       "900002  0.585032  0.066898     2  -87.405622     0     1  \n",
       "900003 -1.003320  3.893099     3 -281.293460     0     0  \n",
       "900004  1.210687  1.861884     4   25.629415     0     2  \n",
       "\n",
       "[5 rows x 31 columns]"
      ]
     },
     "execution_count": 107,
     "metadata": {},
     "output_type": "execute_result"
    }
   ],
   "source": [
    "df_test.head()"
   ]
  },
  {
   "cell_type": "code",
   "execution_count": 108,
   "id": "a599595a",
   "metadata": {
    "scrolled": true
   },
   "outputs": [],
   "source": [
    "# Scaling Test data set\n",
    "\n",
    "X_test_select_Scaled = std_scaler.transform(df_test)"
   ]
  },
  {
   "cell_type": "code",
   "execution_count": 109,
   "id": "f5d2b2c4",
   "metadata": {},
   "outputs": [
    {
     "data": {
      "text/html": [
       "<div>\n",
       "<style scoped>\n",
       "    .dataframe tbody tr th:only-of-type {\n",
       "        vertical-align: middle;\n",
       "    }\n",
       "\n",
       "    .dataframe tbody tr th {\n",
       "        vertical-align: top;\n",
       "    }\n",
       "\n",
       "    .dataframe thead th {\n",
       "        text-align: right;\n",
       "    }\n",
       "</style>\n",
       "<table border=\"1\" class=\"dataframe\">\n",
       "  <thead>\n",
       "    <tr style=\"text-align: right;\">\n",
       "      <th></th>\n",
       "      <th>0</th>\n",
       "      <th>1</th>\n",
       "      <th>2</th>\n",
       "      <th>3</th>\n",
       "      <th>4</th>\n",
       "      <th>5</th>\n",
       "      <th>6</th>\n",
       "      <th>7</th>\n",
       "      <th>8</th>\n",
       "      <th>9</th>\n",
       "      <th>...</th>\n",
       "      <th>21</th>\n",
       "      <th>22</th>\n",
       "      <th>23</th>\n",
       "      <th>24</th>\n",
       "      <th>25</th>\n",
       "      <th>26</th>\n",
       "      <th>27</th>\n",
       "      <th>28</th>\n",
       "      <th>29</th>\n",
       "      <th>30</th>\n",
       "    </tr>\n",
       "  </thead>\n",
       "  <tbody>\n",
       "    <tr>\n",
       "      <th>0</th>\n",
       "      <td>0.443296</td>\n",
       "      <td>0.173355</td>\n",
       "      <td>-1.000476</td>\n",
       "      <td>0.763976</td>\n",
       "      <td>0.187318</td>\n",
       "      <td>-1.075194</td>\n",
       "      <td>0.502626</td>\n",
       "      <td>2.396213</td>\n",
       "      <td>2.477760</td>\n",
       "      <td>-1.442525</td>\n",
       "      <td>...</td>\n",
       "      <td>-0.342131</td>\n",
       "      <td>-0.483356</td>\n",
       "      <td>-0.842208</td>\n",
       "      <td>-0.873374</td>\n",
       "      <td>-0.886832</td>\n",
       "      <td>2.171475</td>\n",
       "      <td>-1.621798</td>\n",
       "      <td>0.418219</td>\n",
       "      <td>-0.726815</td>\n",
       "      <td>-1.224259</td>\n",
       "    </tr>\n",
       "    <tr>\n",
       "      <th>1</th>\n",
       "      <td>-0.605986</td>\n",
       "      <td>-0.307128</td>\n",
       "      <td>0.626171</td>\n",
       "      <td>-0.577429</td>\n",
       "      <td>-1.750070</td>\n",
       "      <td>1.355436</td>\n",
       "      <td>-0.190213</td>\n",
       "      <td>-0.622798</td>\n",
       "      <td>0.592099</td>\n",
       "      <td>0.999917</td>\n",
       "      <td>...</td>\n",
       "      <td>1.021736</td>\n",
       "      <td>0.064761</td>\n",
       "      <td>0.918227</td>\n",
       "      <td>-1.049870</td>\n",
       "      <td>-0.373074</td>\n",
       "      <td>1.145641</td>\n",
       "      <td>-1.621793</td>\n",
       "      <td>-0.274792</td>\n",
       "      <td>1.375866</td>\n",
       "      <td>-1.224259</td>\n",
       "    </tr>\n",
       "    <tr>\n",
       "      <th>2</th>\n",
       "      <td>0.304615</td>\n",
       "      <td>2.445921</td>\n",
       "      <td>0.245214</td>\n",
       "      <td>0.819474</td>\n",
       "      <td>0.360241</td>\n",
       "      <td>-1.332297</td>\n",
       "      <td>1.359411</td>\n",
       "      <td>0.584807</td>\n",
       "      <td>0.592099</td>\n",
       "      <td>0.999917</td>\n",
       "      <td>...</td>\n",
       "      <td>-2.764832</td>\n",
       "      <td>0.539233</td>\n",
       "      <td>-1.951466</td>\n",
       "      <td>0.861665</td>\n",
       "      <td>0.169007</td>\n",
       "      <td>-0.117403</td>\n",
       "      <td>-1.621788</td>\n",
       "      <td>-0.364467</td>\n",
       "      <td>-0.726815</td>\n",
       "      <td>-0.003241</td>\n",
       "    </tr>\n",
       "    <tr>\n",
       "      <th>3</th>\n",
       "      <td>0.154511</td>\n",
       "      <td>0.259170</td>\n",
       "      <td>-1.367563</td>\n",
       "      <td>-0.091791</td>\n",
       "      <td>-1.110279</td>\n",
       "      <td>-0.948885</td>\n",
       "      <td>1.119995</td>\n",
       "      <td>-1.226600</td>\n",
       "      <td>-1.293562</td>\n",
       "      <td>0.999917</td>\n",
       "      <td>...</td>\n",
       "      <td>-0.176369</td>\n",
       "      <td>-1.603643</td>\n",
       "      <td>0.865748</td>\n",
       "      <td>-0.846803</td>\n",
       "      <td>-0.488163</td>\n",
       "      <td>1.427901</td>\n",
       "      <td>-1.621783</td>\n",
       "      <td>-1.176484</td>\n",
       "      <td>-0.726815</td>\n",
       "      <td>-1.224259</td>\n",
       "    </tr>\n",
       "    <tr>\n",
       "      <th>4</th>\n",
       "      <td>-1.653458</td>\n",
       "      <td>-0.425775</td>\n",
       "      <td>-0.668187</td>\n",
       "      <td>-0.320700</td>\n",
       "      <td>-0.088877</td>\n",
       "      <td>0.181443</td>\n",
       "      <td>1.785797</td>\n",
       "      <td>-0.018996</td>\n",
       "      <td>-0.036455</td>\n",
       "      <td>-0.221304</td>\n",
       "      <td>...</td>\n",
       "      <td>0.097079</td>\n",
       "      <td>-0.398427</td>\n",
       "      <td>0.097412</td>\n",
       "      <td>-1.346978</td>\n",
       "      <td>0.427868</td>\n",
       "      <td>0.607545</td>\n",
       "      <td>-1.621779</td>\n",
       "      <td>0.108933</td>\n",
       "      <td>-0.726815</td>\n",
       "      <td>1.217777</td>\n",
       "    </tr>\n",
       "  </tbody>\n",
       "</table>\n",
       "<p>5 rows × 31 columns</p>\n",
       "</div>"
      ],
      "text/plain": [
       "         0         1         2         3         4         5         6   \\\n",
       "0  0.443296  0.173355 -1.000476  0.763976  0.187318 -1.075194  0.502626   \n",
       "1 -0.605986 -0.307128  0.626171 -0.577429 -1.750070  1.355436 -0.190213   \n",
       "2  0.304615  2.445921  0.245214  0.819474  0.360241 -1.332297  1.359411   \n",
       "3  0.154511  0.259170 -1.367563 -0.091791 -1.110279 -0.948885  1.119995   \n",
       "4 -1.653458 -0.425775 -0.668187 -0.320700 -0.088877  0.181443  1.785797   \n",
       "\n",
       "         7         8         9   ...        21        22        23        24  \\\n",
       "0  2.396213  2.477760 -1.442525  ... -0.342131 -0.483356 -0.842208 -0.873374   \n",
       "1 -0.622798  0.592099  0.999917  ...  1.021736  0.064761  0.918227 -1.049870   \n",
       "2  0.584807  0.592099  0.999917  ... -2.764832  0.539233 -1.951466  0.861665   \n",
       "3 -1.226600 -1.293562  0.999917  ... -0.176369 -1.603643  0.865748 -0.846803   \n",
       "4 -0.018996 -0.036455 -0.221304  ...  0.097079 -0.398427  0.097412 -1.346978   \n",
       "\n",
       "         25        26        27        28        29        30  \n",
       "0 -0.886832  2.171475 -1.621798  0.418219 -0.726815 -1.224259  \n",
       "1 -0.373074  1.145641 -1.621793 -0.274792  1.375866 -1.224259  \n",
       "2  0.169007 -0.117403 -1.621788 -0.364467 -0.726815 -0.003241  \n",
       "3 -0.488163  1.427901 -1.621783 -1.176484 -0.726815 -1.224259  \n",
       "4  0.427868  0.607545 -1.621779  0.108933 -0.726815  1.217777  \n",
       "\n",
       "[5 rows x 31 columns]"
      ]
     },
     "execution_count": 109,
     "metadata": {},
     "output_type": "execute_result"
    }
   ],
   "source": [
    "pd.DataFrame(X_test_select_Scaled).head()"
   ]
  },
  {
   "cell_type": "code",
   "execution_count": 110,
   "id": "778a01e5",
   "metadata": {},
   "outputs": [],
   "source": [
    "# Converting back to data frame\n",
    "\n",
    "X_test_Scaled_Select = pd.DataFrame(X_test_select_Scaled)"
   ]
  },
  {
   "cell_type": "code",
   "execution_count": 111,
   "id": "24b31e86",
   "metadata": {},
   "outputs": [],
   "source": [
    "X_test_Scaled_Select.columns = cols"
   ]
  },
  {
   "cell_type": "code",
   "execution_count": 112,
   "id": "eb7d5db0",
   "metadata": {},
   "outputs": [
    {
     "data": {
      "text/html": [
       "<div>\n",
       "<style scoped>\n",
       "    .dataframe tbody tr th:only-of-type {\n",
       "        vertical-align: middle;\n",
       "    }\n",
       "\n",
       "    .dataframe tbody tr th {\n",
       "        vertical-align: top;\n",
       "    }\n",
       "\n",
       "    .dataframe thead th {\n",
       "        text-align: right;\n",
       "    }\n",
       "</style>\n",
       "<table border=\"1\" class=\"dataframe\">\n",
       "  <thead>\n",
       "    <tr style=\"text-align: right;\">\n",
       "      <th></th>\n",
       "      <th>f_00</th>\n",
       "      <th>f_01</th>\n",
       "      <th>f_02</th>\n",
       "      <th>f_03</th>\n",
       "      <th>f_04</th>\n",
       "      <th>f_05</th>\n",
       "      <th>f_06</th>\n",
       "      <th>f_07</th>\n",
       "      <th>f_08</th>\n",
       "      <th>f_09</th>\n",
       "      <th>...</th>\n",
       "      <th>f_21</th>\n",
       "      <th>f_22</th>\n",
       "      <th>f_23</th>\n",
       "      <th>f_24</th>\n",
       "      <th>f_25</th>\n",
       "      <th>f_26</th>\n",
       "      <th>f_27</th>\n",
       "      <th>f_28</th>\n",
       "      <th>f_29</th>\n",
       "      <th>f_30</th>\n",
       "    </tr>\n",
       "  </thead>\n",
       "  <tbody>\n",
       "    <tr>\n",
       "      <th>0</th>\n",
       "      <td>0.443296</td>\n",
       "      <td>0.173355</td>\n",
       "      <td>-1.000476</td>\n",
       "      <td>0.763976</td>\n",
       "      <td>0.187318</td>\n",
       "      <td>-1.075194</td>\n",
       "      <td>0.502626</td>\n",
       "      <td>2.396213</td>\n",
       "      <td>2.477760</td>\n",
       "      <td>-1.442525</td>\n",
       "      <td>...</td>\n",
       "      <td>-0.342131</td>\n",
       "      <td>-0.483356</td>\n",
       "      <td>-0.842208</td>\n",
       "      <td>-0.873374</td>\n",
       "      <td>-0.886832</td>\n",
       "      <td>2.171475</td>\n",
       "      <td>-1.621798</td>\n",
       "      <td>0.418219</td>\n",
       "      <td>-0.726815</td>\n",
       "      <td>-1.224259</td>\n",
       "    </tr>\n",
       "    <tr>\n",
       "      <th>1</th>\n",
       "      <td>-0.605986</td>\n",
       "      <td>-0.307128</td>\n",
       "      <td>0.626171</td>\n",
       "      <td>-0.577429</td>\n",
       "      <td>-1.750070</td>\n",
       "      <td>1.355436</td>\n",
       "      <td>-0.190213</td>\n",
       "      <td>-0.622798</td>\n",
       "      <td>0.592099</td>\n",
       "      <td>0.999917</td>\n",
       "      <td>...</td>\n",
       "      <td>1.021736</td>\n",
       "      <td>0.064761</td>\n",
       "      <td>0.918227</td>\n",
       "      <td>-1.049870</td>\n",
       "      <td>-0.373074</td>\n",
       "      <td>1.145641</td>\n",
       "      <td>-1.621793</td>\n",
       "      <td>-0.274792</td>\n",
       "      <td>1.375866</td>\n",
       "      <td>-1.224259</td>\n",
       "    </tr>\n",
       "    <tr>\n",
       "      <th>2</th>\n",
       "      <td>0.304615</td>\n",
       "      <td>2.445921</td>\n",
       "      <td>0.245214</td>\n",
       "      <td>0.819474</td>\n",
       "      <td>0.360241</td>\n",
       "      <td>-1.332297</td>\n",
       "      <td>1.359411</td>\n",
       "      <td>0.584807</td>\n",
       "      <td>0.592099</td>\n",
       "      <td>0.999917</td>\n",
       "      <td>...</td>\n",
       "      <td>-2.764832</td>\n",
       "      <td>0.539233</td>\n",
       "      <td>-1.951466</td>\n",
       "      <td>0.861665</td>\n",
       "      <td>0.169007</td>\n",
       "      <td>-0.117403</td>\n",
       "      <td>-1.621788</td>\n",
       "      <td>-0.364467</td>\n",
       "      <td>-0.726815</td>\n",
       "      <td>-0.003241</td>\n",
       "    </tr>\n",
       "    <tr>\n",
       "      <th>3</th>\n",
       "      <td>0.154511</td>\n",
       "      <td>0.259170</td>\n",
       "      <td>-1.367563</td>\n",
       "      <td>-0.091791</td>\n",
       "      <td>-1.110279</td>\n",
       "      <td>-0.948885</td>\n",
       "      <td>1.119995</td>\n",
       "      <td>-1.226600</td>\n",
       "      <td>-1.293562</td>\n",
       "      <td>0.999917</td>\n",
       "      <td>...</td>\n",
       "      <td>-0.176369</td>\n",
       "      <td>-1.603643</td>\n",
       "      <td>0.865748</td>\n",
       "      <td>-0.846803</td>\n",
       "      <td>-0.488163</td>\n",
       "      <td>1.427901</td>\n",
       "      <td>-1.621783</td>\n",
       "      <td>-1.176484</td>\n",
       "      <td>-0.726815</td>\n",
       "      <td>-1.224259</td>\n",
       "    </tr>\n",
       "    <tr>\n",
       "      <th>4</th>\n",
       "      <td>-1.653458</td>\n",
       "      <td>-0.425775</td>\n",
       "      <td>-0.668187</td>\n",
       "      <td>-0.320700</td>\n",
       "      <td>-0.088877</td>\n",
       "      <td>0.181443</td>\n",
       "      <td>1.785797</td>\n",
       "      <td>-0.018996</td>\n",
       "      <td>-0.036455</td>\n",
       "      <td>-0.221304</td>\n",
       "      <td>...</td>\n",
       "      <td>0.097079</td>\n",
       "      <td>-0.398427</td>\n",
       "      <td>0.097412</td>\n",
       "      <td>-1.346978</td>\n",
       "      <td>0.427868</td>\n",
       "      <td>0.607545</td>\n",
       "      <td>-1.621779</td>\n",
       "      <td>0.108933</td>\n",
       "      <td>-0.726815</td>\n",
       "      <td>1.217777</td>\n",
       "    </tr>\n",
       "  </tbody>\n",
       "</table>\n",
       "<p>5 rows × 31 columns</p>\n",
       "</div>"
      ],
      "text/plain": [
       "       f_00      f_01      f_02      f_03      f_04      f_05      f_06  \\\n",
       "0  0.443296  0.173355 -1.000476  0.763976  0.187318 -1.075194  0.502626   \n",
       "1 -0.605986 -0.307128  0.626171 -0.577429 -1.750070  1.355436 -0.190213   \n",
       "2  0.304615  2.445921  0.245214  0.819474  0.360241 -1.332297  1.359411   \n",
       "3  0.154511  0.259170 -1.367563 -0.091791 -1.110279 -0.948885  1.119995   \n",
       "4 -1.653458 -0.425775 -0.668187 -0.320700 -0.088877  0.181443  1.785797   \n",
       "\n",
       "       f_07      f_08      f_09  ...      f_21      f_22      f_23      f_24  \\\n",
       "0  2.396213  2.477760 -1.442525  ... -0.342131 -0.483356 -0.842208 -0.873374   \n",
       "1 -0.622798  0.592099  0.999917  ...  1.021736  0.064761  0.918227 -1.049870   \n",
       "2  0.584807  0.592099  0.999917  ... -2.764832  0.539233 -1.951466  0.861665   \n",
       "3 -1.226600 -1.293562  0.999917  ... -0.176369 -1.603643  0.865748 -0.846803   \n",
       "4 -0.018996 -0.036455 -0.221304  ...  0.097079 -0.398427  0.097412 -1.346978   \n",
       "\n",
       "       f_25      f_26      f_27      f_28      f_29      f_30  \n",
       "0 -0.886832  2.171475 -1.621798  0.418219 -0.726815 -1.224259  \n",
       "1 -0.373074  1.145641 -1.621793 -0.274792  1.375866 -1.224259  \n",
       "2  0.169007 -0.117403 -1.621788 -0.364467 -0.726815 -0.003241  \n",
       "3 -0.488163  1.427901 -1.621783 -1.176484 -0.726815 -1.224259  \n",
       "4  0.427868  0.607545 -1.621779  0.108933 -0.726815  1.217777  \n",
       "\n",
       "[5 rows x 31 columns]"
      ]
     },
     "execution_count": 112,
     "metadata": {},
     "output_type": "execute_result"
    }
   ],
   "source": [
    "X_test_Scaled_Select.head()"
   ]
  },
  {
   "cell_type": "code",
   "execution_count": 113,
   "id": "2945b06b",
   "metadata": {},
   "outputs": [],
   "source": [
    "# Keeping only the relevant columns as discovered in feature selection method\n",
    "\n",
    "df_test_select = X_test_Scaled_Select[X_test_Scaled_Select.columns.intersection(lst)]"
   ]
  },
  {
   "cell_type": "code",
   "execution_count": 114,
   "id": "763089bf",
   "metadata": {},
   "outputs": [
    {
     "data": {
      "text/plain": [
       "(700000, 28)"
      ]
     },
     "execution_count": 114,
     "metadata": {},
     "output_type": "execute_result"
    }
   ],
   "source": [
    "df_test_select.shape"
   ]
  },
  {
   "cell_type": "code",
   "execution_count": 84,
   "id": "a0a01361",
   "metadata": {},
   "outputs": [],
   "source": [
    "# Prediction using XGB model\n",
    "\n",
    "Output = xgb_cl.predict(df_test_select)"
   ]
  },
  {
   "cell_type": "code",
   "execution_count": 115,
   "id": "fe055683",
   "metadata": {},
   "outputs": [],
   "source": [
    "# Prediction using RandomForest model\n",
    "\n",
    "final_predictions = final_model.predict(df_test_select)"
   ]
  },
  {
   "cell_type": "code",
   "execution_count": 85,
   "id": "8847e40d",
   "metadata": {},
   "outputs": [],
   "source": [
    "Output_Output = pd.DataFrame(Output)"
   ]
  },
  {
   "cell_type": "code",
   "execution_count": 116,
   "id": "62c40175",
   "metadata": {},
   "outputs": [],
   "source": [
    "Output_Output = pd.DataFrame(final_predictions)"
   ]
  },
  {
   "cell_type": "code",
   "execution_count": 117,
   "id": "93c60e01",
   "metadata": {},
   "outputs": [],
   "source": [
    "df_test_2 = pd.read_csv(zf.open('test.csv'))"
   ]
  },
  {
   "cell_type": "code",
   "execution_count": 118,
   "id": "c80cfcde",
   "metadata": {},
   "outputs": [
    {
     "data": {
      "text/html": [
       "<div>\n",
       "<style scoped>\n",
       "    .dataframe tbody tr th:only-of-type {\n",
       "        vertical-align: middle;\n",
       "    }\n",
       "\n",
       "    .dataframe tbody tr th {\n",
       "        vertical-align: top;\n",
       "    }\n",
       "\n",
       "    .dataframe thead th {\n",
       "        text-align: right;\n",
       "    }\n",
       "</style>\n",
       "<table border=\"1\" class=\"dataframe\">\n",
       "  <thead>\n",
       "    <tr style=\"text-align: right;\">\n",
       "      <th></th>\n",
       "      <th>0</th>\n",
       "    </tr>\n",
       "  </thead>\n",
       "  <tbody>\n",
       "    <tr>\n",
       "      <th>0</th>\n",
       "      <td>1</td>\n",
       "    </tr>\n",
       "    <tr>\n",
       "      <th>1</th>\n",
       "      <td>1</td>\n",
       "    </tr>\n",
       "    <tr>\n",
       "      <th>2</th>\n",
       "      <td>0</td>\n",
       "    </tr>\n",
       "    <tr>\n",
       "      <th>3</th>\n",
       "      <td>0</td>\n",
       "    </tr>\n",
       "    <tr>\n",
       "      <th>4</th>\n",
       "      <td>1</td>\n",
       "    </tr>\n",
       "  </tbody>\n",
       "</table>\n",
       "</div>"
      ],
      "text/plain": [
       "   0\n",
       "0  1\n",
       "1  1\n",
       "2  0\n",
       "3  0\n",
       "4  1"
      ]
     },
     "execution_count": 118,
     "metadata": {},
     "output_type": "execute_result"
    }
   ],
   "source": [
    "Output_Output.head()"
   ]
  },
  {
   "cell_type": "code",
   "execution_count": 119,
   "id": "107b51ef",
   "metadata": {},
   "outputs": [
    {
     "data": {
      "text/plain": [
       "(700000, 32)"
      ]
     },
     "execution_count": 119,
     "metadata": {},
     "output_type": "execute_result"
    }
   ],
   "source": [
    "df_test_2.shape"
   ]
  },
  {
   "cell_type": "code",
   "execution_count": 120,
   "id": "57a77538",
   "metadata": {},
   "outputs": [
    {
     "data": {
      "text/plain": [
       "(700000, 1)"
      ]
     },
     "execution_count": 120,
     "metadata": {},
     "output_type": "execute_result"
    }
   ],
   "source": [
    "Output_Output.shape"
   ]
  },
  {
   "cell_type": "code",
   "execution_count": 121,
   "id": "55f4c0ea",
   "metadata": {
    "scrolled": true
   },
   "outputs": [],
   "source": [
    "df3 = df_test_2[['id']].copy()"
   ]
  },
  {
   "cell_type": "code",
   "execution_count": 122,
   "id": "6c717b4c",
   "metadata": {
    "scrolled": true
   },
   "outputs": [],
   "source": [
    "df3['target'] = Output_Output[[0]].copy()"
   ]
  },
  {
   "cell_type": "code",
   "execution_count": 123,
   "id": "a04b4e56",
   "metadata": {},
   "outputs": [
    {
     "data": {
      "text/html": [
       "<div>\n",
       "<style scoped>\n",
       "    .dataframe tbody tr th:only-of-type {\n",
       "        vertical-align: middle;\n",
       "    }\n",
       "\n",
       "    .dataframe tbody tr th {\n",
       "        vertical-align: top;\n",
       "    }\n",
       "\n",
       "    .dataframe thead th {\n",
       "        text-align: right;\n",
       "    }\n",
       "</style>\n",
       "<table border=\"1\" class=\"dataframe\">\n",
       "  <thead>\n",
       "    <tr style=\"text-align: right;\">\n",
       "      <th></th>\n",
       "      <th>id</th>\n",
       "      <th>target</th>\n",
       "    </tr>\n",
       "  </thead>\n",
       "  <tbody>\n",
       "    <tr>\n",
       "      <th>0</th>\n",
       "      <td>900000</td>\n",
       "      <td>1</td>\n",
       "    </tr>\n",
       "    <tr>\n",
       "      <th>1</th>\n",
       "      <td>900001</td>\n",
       "      <td>1</td>\n",
       "    </tr>\n",
       "    <tr>\n",
       "      <th>2</th>\n",
       "      <td>900002</td>\n",
       "      <td>0</td>\n",
       "    </tr>\n",
       "    <tr>\n",
       "      <th>3</th>\n",
       "      <td>900003</td>\n",
       "      <td>0</td>\n",
       "    </tr>\n",
       "    <tr>\n",
       "      <th>4</th>\n",
       "      <td>900004</td>\n",
       "      <td>1</td>\n",
       "    </tr>\n",
       "  </tbody>\n",
       "</table>\n",
       "</div>"
      ],
      "text/plain": [
       "       id  target\n",
       "0  900000       1\n",
       "1  900001       1\n",
       "2  900002       0\n",
       "3  900003       0\n",
       "4  900004       1"
      ]
     },
     "execution_count": 123,
     "metadata": {},
     "output_type": "execute_result"
    }
   ],
   "source": [
    "df3.head()"
   ]
  },
  {
   "cell_type": "code",
   "execution_count": 124,
   "id": "721df242",
   "metadata": {},
   "outputs": [],
   "source": [
    "df3.to_csv(r'C:\\Users\\nishantjairath\\Downloads\\Tab_Play.csv', index = False)"
   ]
  }
 ],
 "metadata": {
  "kernelspec": {
   "display_name": "Python 3",
   "language": "python",
   "name": "python3"
  },
  "language_info": {
   "codemirror_mode": {
    "name": "ipython",
    "version": 3
   },
   "file_extension": ".py",
   "mimetype": "text/x-python",
   "name": "python",
   "nbconvert_exporter": "python",
   "pygments_lexer": "ipython3",
   "version": "3.8.8"
  }
 },
 "nbformat": 4,
 "nbformat_minor": 5
}
